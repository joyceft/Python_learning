{
 "cells": [
  {
   "cell_type": "markdown",
   "metadata": {},
   "source": [
    "##  Implement Decision Tree"
   ]
  },
  {
   "cell_type": "code",
   "execution_count": 1,
   "metadata": {
    "collapsed": true
   },
   "outputs": [],
   "source": [
    "from sklearn.datasets import load_iris\n",
    "from sklearn.model_selection import train_test_split\n",
    "from sklearn.metrics import classification_report\n",
    "from sklearn.metrics import accuracy_score\n",
    "import numpy as np\n",
    "import pandas as pd"
   ]
  },
  {
   "cell_type": "code",
   "execution_count": 33,
   "metadata": {},
   "outputs": [
    {
     "name": "stdout",
     "output_type": "stream",
     "text": [
      "features: [[ 5.1  3.5  1.4  0.2]\n",
      " [ 4.9  3.   1.4  0.2]\n",
      " [ 4.7  3.2  1.3  0.2]\n",
      " [ 4.6  3.1  1.5  0.2]\n",
      " [ 5.   3.6  1.4  0.2]\n",
      " [ 5.4  3.9  1.7  0.4]\n",
      " [ 4.6  3.4  1.4  0.3]\n",
      " [ 5.   3.4  1.5  0.2]\n",
      " [ 4.4  2.9  1.4  0.2]\n",
      " [ 4.9  3.1  1.5  0.1]]\n",
      "labels: [[0]\n",
      " [0]\n",
      " [0]\n",
      " [0]\n",
      " [0]\n",
      " [0]\n",
      " [0]\n",
      " [0]\n",
      " [0]\n",
      " [0]]\n",
      "[[ 4.7  3.2  1.6  0.2  0. ]\n",
      " [ 6.3  2.5  4.9  1.5  1. ]\n",
      " [ 5.1  3.4  1.5  0.2  0. ]\n",
      " [ 5.8  2.7  4.1  1.   1. ]\n",
      " [ 4.9  2.5  4.5  1.7  2. ]\n",
      " [ 4.6  3.6  1.   0.2  0. ]\n",
      " [ 6.4  3.2  5.3  2.3  2. ]\n",
      " [ 4.4  2.9  1.4  0.2  0. ]\n",
      " [ 5.2  3.4  1.4  0.2  0. ]\n",
      " [ 5.1  3.8  1.6  0.2  0. ]]\n"
     ]
    }
   ],
   "source": [
    "#Load dataset\n",
    "iris = load_iris()\n",
    "#Features\n",
    "X = iris.data.copy()\n",
    "#Classes\n",
    "y = iris.target.reshape(150,1)\n",
    "#Split dataset into train/test\n",
    "X_train,X_test, y_train, y_test = train_test_split(X,y, test_size = 0.33)\n",
    "#Horizontally stacking the train_dataset together\n",
    "train_set = np.hstack((X_train, y_train))\n",
    "\n",
    "print(\"features:\", X[0:10])\n",
    "print(\"labels:\", y[0:10])\n",
    "print(train_set[0:10])"
   ]
  },
  {
   "cell_type": "markdown",
   "metadata": {},
   "source": [
    "### Scoring Function\n",
    "\n",
    "Cart use GINI, C4.5 use Entropy"
   ]
  },
  {
   "cell_type": "code",
   "execution_count": 34,
   "metadata": {
    "collapsed": true
   },
   "outputs": [],
   "source": [
    "#Calculate the GINI index for split dataset\n",
    "def gini_index(groups, classes):\n",
    "    #count all samples at split point\n",
    "    n = float(sum([len(group) for group in groups]))\n",
    "    #sum weighted GINI for each group\n",
    "    gini = 0.0\n",
    "    for group in groups:\n",
    "        size = float(len(group))\n",
    "        if size == 0:\n",
    "            continue\n",
    "        score = 0.0\n",
    "        #give the score to a group based on score of each class\n",
    "        for class_x in classes:\n",
    "            p = [row[-1] for row in group].count(class_x) / size\n",
    "            score += p*p\n",
    "            #weight the group score by its relative size\n",
    "        gini += (1.0-score)*(size/n)\n",
    "    return gini   "
   ]
  },
  {
   "cell_type": "markdown",
   "metadata": {},
   "source": [
    "### Split data"
   ]
  },
  {
   "cell_type": "code",
   "execution_count": 40,
   "metadata": {
    "collapsed": true
   },
   "outputs": [],
   "source": [
    "def split_data(index, value, dataset):\n",
    "    left, right = list(), list()\n",
    "    for row in dataset:\n",
    "        if row[index] < value:\n",
    "            left.append(row)\n",
    "        else: \n",
    "            right.append(row)\n",
    "    return left, right"
   ]
  },
  {
   "cell_type": "markdown",
   "metadata": {},
   "source": [
    "### Find the best split value using scoring function and split_data\n",
    "Best split will reduce largest GINI index after spliting at that value, from parent node to children node, Each node of the tree will contain, the index of the features used for split, the value of the feature and the left/right groups"
   ]
  },
  {
   "cell_type": "code",
   "execution_count": 36,
   "metadata": {
    "collapsed": true
   },
   "outputs": [],
   "source": [
    "def get_split(dataset):\n",
    "    class_values = list(set(row[-1] for row in dataset))\n",
    "    b_index, b_value, b_score, b_groups = 999,999,999, None\n",
    "    for index in range(len(dataset[0]) -1):\n",
    "        for row in dataset:\n",
    "            groups = split_data(index, row[index], dataset)\n",
    "            gini = gini_index(groups, class_values)\n",
    "            if gini < b_score:\n",
    "                b_index, b_value, b_score, b_groups = index, row[index], gini, groups\n",
    "    return {'index': b_index, 'value': b_value, 'groups': b_groups}"
   ]
  },
  {
   "cell_type": "markdown",
   "metadata": {},
   "source": [
    "### leaf node\n",
    "Get to the end of that branch of a tree(terminal node)"
   ]
  },
  {
   "cell_type": "code",
   "execution_count": 42,
   "metadata": {
    "collapsed": true
   },
   "outputs": [],
   "source": [
    "def to_leaf(group):\n",
    "    outcomes = [row[-1] for row in group]\n",
    "    return max(set(outcomes), key = outcomes.count)"
   ]
  },
  {
   "cell_type": "markdown",
   "metadata": {},
   "source": [
    "### Recursively split"
   ]
  },
  {
   "cell_type": "code",
   "execution_count": 37,
   "metadata": {
    "collapsed": true
   },
   "outputs": [],
   "source": [
    "#Create children splits for a node or get to the end(hit the stop criteria)\n",
    "def split(node, max_depth, min_size, depth):\n",
    "    left, right = node['groups']\n",
    "    del(node['groups'])\n",
    "    #check for the end(no split)\n",
    "    if not left or not right:\n",
    "        node['left'] = node['right'] = to_leaf(left+right)\n",
    "        return\n",
    "    #check for max depth\n",
    "    if depth >= max_depth:\n",
    "        node['left'], node['right'] = to_leaf(left), to_leaf(right)\n",
    "        return\n",
    "    #for left node\n",
    "    if len(left) <= min_size:\n",
    "        node['left'] = to_leaf(left)\n",
    "    else:\n",
    "        node['left'] = get_split(left)\n",
    "        split(node['left'], max_depth, min_size, depth + 1)\n",
    "    #for right node\n",
    "    if len(right) <= min_size:\n",
    "        node['right'] = to_leaf(right)\n",
    "    else:\n",
    "        node['right'] = get_split(right)\n",
    "        split(node['right'], max_depth, min_size, depth + 1)"
   ]
  },
  {
   "cell_type": "markdown",
   "metadata": {},
   "source": [
    "### Build the tree"
   ]
  },
  {
   "cell_type": "code",
   "execution_count": 38,
   "metadata": {
    "collapsed": true
   },
   "outputs": [],
   "source": [
    "def build_tree(train, max_depth, min_size):\n",
    "    root = get_split(train)\n",
    "    split(root, max_depth, min_size, 1)\n",
    "    return root"
   ]
  },
  {
   "cell_type": "code",
   "execution_count": 43,
   "metadata": {},
   "outputs": [],
   "source": [
    "tree = build_tree(train_set, 2, 1)"
   ]
  },
  {
   "cell_type": "markdown",
   "metadata": {},
   "source": [
    "### Print the tree"
   ]
  },
  {
   "cell_type": "code",
   "execution_count": 44,
   "metadata": {
    "collapsed": true
   },
   "outputs": [],
   "source": [
    "def print_tree(node, depth = 0):\n",
    "    if isinstance(node, dict):\n",
    "        print('%s[%s < %.3f]' % ((depth * \"  \", (iris.feature_names[node['index']]),\n",
    "                                  node['value'])))\n",
    "        print_tree(node['left'], depth + 1)\n",
    "        print_tree(node['right'], depth + 1)\n",
    "    else:\n",
    "        print('%s[%s]' % ((depth * \"    \", node)))\n",
    "        \n",
    "        "
   ]
  },
  {
   "cell_type": "code",
   "execution_count": 45,
   "metadata": {},
   "outputs": [
    {
     "name": "stdout",
     "output_type": "stream",
     "text": [
      "[petal length (cm) < 3.300]\n",
      "  [sepal length (cm) < 4.700]\n",
      "        [0.0]\n",
      "        [0.0]\n",
      "  [petal width (cm) < 1.700]\n",
      "        [1.0]\n",
      "        [2.0]\n"
     ]
    }
   ],
   "source": [
    "print_tree(tree)"
   ]
  },
  {
   "cell_type": "markdown",
   "metadata": {},
   "source": [
    "### Making prediction"
   ]
  },
  {
   "cell_type": "code",
   "execution_count": 46,
   "metadata": {
    "collapsed": true
   },
   "outputs": [],
   "source": [
    "def predict(node, row):\n",
    "    if row[node['index']] < node['value']:\n",
    "        if isinstance(node['left'], dict):\n",
    "            return predict(node['left'], row)\n",
    "        else:\n",
    "            return node['left']\n",
    "    else:\n",
    "        if isinstance(node['right'], dict):\n",
    "            return predict(node['right'], row)\n",
    "        else:\n",
    "            return node['right']   "
   ]
  },
  {
   "cell_type": "markdown",
   "metadata": {},
   "source": [
    "### Test the preformance of decision tree"
   ]
  },
  {
   "cell_type": "code",
   "execution_count": null,
   "metadata": {
    "collapsed": true
   },
   "outputs": [],
   "source": [
    "y_pred = list()\n",
    "for row in X_test:\n",
    "    prediction = predict(tree, row)\n",
    "    y_pred.appe"
   ]
  }
 ],
 "metadata": {
  "kernelspec": {
   "display_name": "Python 3",
   "language": "python",
   "name": "python3"
  },
  "language_info": {
   "codemirror_mode": {
    "name": "ipython",
    "version": 3
   },
   "file_extension": ".py",
   "mimetype": "text/x-python",
   "name": "python",
   "nbconvert_exporter": "python",
   "pygments_lexer": "ipython3",
   "version": "3.6.1"
  }
 },
 "nbformat": 4,
 "nbformat_minor": 2
}
