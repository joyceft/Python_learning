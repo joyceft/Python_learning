{
 "cells": [
  {
   "cell_type": "code",
   "execution_count": 13,
   "metadata": {},
   "outputs": [
    {
     "name": "stdout",
     "output_type": "stream",
     "text": [
      "[ 0.  0.  0.  0.  1.  0.  0.  0.  0.  0.]\n",
      "[10 11 12 13 14 15 16 17 18 19 20 21 22 23 24 25 26 27 28 29 30 31 32 33 34\n",
      " 35 36 37 38 39 40 41 42 43 44 45 46 47 48 49]\n"
     ]
    },
    {
     "data": {
      "text/plain": [
       "array([[ 0.78209862,  0.52730302,  0.40264765,  0.05718696,  0.98196807],\n",
       "       [ 0.48239506,  0.53965532,  0.02885746,  0.87167016,  0.32083394],\n",
       "       [ 0.9666628 ,  0.85279624,  0.51987126,  0.99166827,  0.03438247],\n",
       "       [ 0.71477723,  0.25273313,  0.73714288,  0.27303776,  0.66379265],\n",
       "       [ 0.30076944,  0.13757   ,  0.60774446,  0.78691123,  0.77791652]])"
      ]
     },
     "execution_count": 13,
     "metadata": {},
     "output_type": "execute_result"
    }
   ],
   "source": [
    "import numpy as np\n",
    "#create 0s\n",
    "z=np.zeros(10)\n",
    "z[4] = 1\n",
    "print(z)\n",
    "#create an array\n",
    "zz = np.arange(10,50, 1)#start, stop, stepsize\n",
    "print(zz)\n",
    "#linespace and logspace\n",
    "#linespace includes both ends\n",
    "np.linspace(0,10,25)\n",
    "np.logspace(0,10,10, base = np.e)\n",
    "#random data\n",
    "np.random.rand(5,5)#create a 5*5 matrix with value of runif(0,1) \n",
    "np.random.randn(5,5)#std normal distributed r.n\n",
    "np.random.randint(0,9,5) #(low, high, size)"
   ]
  },
  {
   "cell_type": "code",
   "execution_count": 125,
   "metadata": {},
   "outputs": [
    {
     "name": "stdout",
     "output_type": "stream",
     "text": [
      "[0 1 2 3 4 5 6 7 8 9] [9 8 7 6 5 4 3 2 1 0] [9 7 5 3 1]\n"
     ]
    },
    {
     "ename": "AttributeError",
     "evalue": "'numpy.ndarray' object has no attribute 'reverse'",
     "output_type": "error",
     "traceback": [
      "\u001b[1;31m---------------------------------------------------------------------------\u001b[0m",
      "\u001b[1;31mAttributeError\u001b[0m                            Traceback (most recent call last)",
      "\u001b[1;32m<ipython-input-125-9a0d96ebd0ed>\u001b[0m in \u001b[0;36m<module>\u001b[1;34m()\u001b[0m\n\u001b[0;32m      7\u001b[0m \u001b[1;31m#-x, means go reversed order, return value with stop x\u001b[0m\u001b[1;33m\u001b[0m\u001b[1;33m\u001b[0m\u001b[0m\n\u001b[0;32m      8\u001b[0m \u001b[1;31m#print(aq[::])\u001b[0m\u001b[1;33m\u001b[0m\u001b[1;33m\u001b[0m\u001b[0m\n\u001b[1;32m----> 9\u001b[1;33m \u001b[0mprint\u001b[0m\u001b[1;33m(\u001b[0m\u001b[0maq\u001b[0m\u001b[1;33m.\u001b[0m\u001b[0mreverse\u001b[0m\u001b[1;33m(\u001b[0m\u001b[1;33m)\u001b[0m\u001b[1;33m)\u001b[0m\u001b[1;33m\u001b[0m\u001b[0m\n\u001b[0m",
      "\u001b[1;31mAttributeError\u001b[0m: 'numpy.ndarray' object has no attribute 'reverse'"
     ]
    }
   ],
   "source": [
    "#倒置向量\n",
    "zz = np.arange(50)\n",
    "zz = zz[::-1]\n",
    "#print(zz)\n",
    "aq = np.arange(10)\n",
    "print(aq, aq[::-1],aq[::-2])#  a::b means select all from a to b in aq\n",
    "#-x, means go reversed order, return value with stop x\n",
    "#print(aq[::])\n",
    "print(aq.reverse())"
   ]
  },
  {
   "cell_type": "code",
   "execution_count": 16,
   "metadata": {},
   "outputs": [
    {
     "name": "stdout",
     "output_type": "stream",
     "text": [
      "[[0 1 2]\n",
      " [3 4 5]\n",
      " [6 7 8]]\n",
      "[[ 1.  0.  0.]\n",
      " [ 0.  1.  0.]\n",
      " [ 0.  0.  1.]]\n",
      "[[[ 0.50304659  0.03832627  0.32024376]\n",
      "  [ 0.5802379   0.82570527  0.24306212]\n",
      "  [ 0.89963722  0.35983086  0.16766395]]\n",
      "\n",
      " [[ 0.78556548  0.16484092  0.92295365]\n",
      "  [ 0.36989528  0.11662701  0.36390457]\n",
      "  [ 0.61271505  0.04227967  0.21838208]]\n",
      "\n",
      " [[ 0.37210932  0.35415185  0.2830128 ]\n",
      "  [ 0.19132273  0.34799732  0.70729147]\n",
      "  [ 0.35359355  0.08970289  0.42156799]]]\n",
      "[[ 0.49484134  0.5616933   0.46187726  0.76706939  0.18174697  0.87870811\n",
      "   0.3549003   0.10353001  0.197893    0.72305144]\n",
      " [ 0.17303793  0.56958792  0.20084183  0.52007805  0.57508104  0.81783779\n",
      "   0.36852946  0.39320536  0.37037307  0.29827591]\n",
      " [ 0.16222439  0.4515099   0.87455419  0.95403778  0.13481738  0.01260621\n",
      "   0.49260072  0.6494062   0.25811171  0.54619828]\n",
      " [ 0.0069445   0.50871473  0.5731248   0.14892834  0.20130689  0.69905703\n",
      "   0.4340969   0.84980618  0.99713504  0.09033684]\n",
      " [ 0.66193654  0.52467936  0.55778552  0.1812362   0.90236021  0.17649143\n",
      "   0.65246763  0.93199724  0.03790795  0.22094879]\n",
      " [ 0.82342691  0.63059642  0.50264869  0.97563813  0.9944031   0.99105562\n",
      "   0.30614048  0.28989946  0.40609785  0.50303041]\n",
      " [ 0.36106899  0.78817925  0.66428286  0.59540087  0.01609993  0.47222494\n",
      "   0.71816039  0.22787362  0.45506454  0.0097727 ]\n",
      " [ 0.82413808  0.74873476  0.80225448  0.66786756  0.41241221  0.63347977\n",
      "   0.93626271  0.2967471   0.21202991  0.30743036]\n",
      " [ 0.153311    0.33979978  0.96264476  0.46975489  0.19482658  0.50291532\n",
      "   0.83589763  0.16648965  0.077645    0.5506263 ]\n",
      " [ 0.15070242  0.29750944  0.60988956  0.99757813  0.93789931  0.22992011\n",
      "   0.37899594  0.65768994  0.24445021  0.16357681]] 0.997578126326 0.00694449618352\n",
      "0.491412382337\n"
     ]
    }
   ],
   "source": [
    "#create a matrix\n",
    "z = np.arange(9).reshape(3,3)\n",
    "print(z)\n",
    "#create identity matrix\n",
    "print(np.eye(3))\n",
    "#create a 3x3 array\n",
    "print(np.random.random((3,3,3)))\n",
    "#create a 10*10 array, then find the max, min\n",
    "a = np.random.random((10,10))\n",
    "\n",
    "amax, amin = a.max(), a.min()\n",
    "print(a, amax, amin)\n",
    "#get a average of a vector\n",
    "print(np.random.random(30).mean())\n"
   ]
  },
  {
   "cell_type": "code",
   "execution_count": 64,
   "metadata": {},
   "outputs": [
    {
     "name": "stdout",
     "output_type": "stream",
     "text": [
      "[[0 0 0 0]\n",
      " [1 0 0 0]\n",
      " [0 2 0 0]\n",
      " [0 0 3 0]]\n",
      "[[0 0 0 0 0 0]\n",
      " [0 0 0 0 0 0]\n",
      " [1 0 0 0 0 0]\n",
      " [0 2 0 0 0 0]\n",
      " [0 0 3 0 0 0]\n",
      " [0 0 0 4 0 0]]\n",
      "[[ 0  1  2  3  4]\n",
      " [10 11 12 13 14]\n",
      " [20 21 22 23 24]\n",
      " [30 31 32 33 34]\n",
      " [40 41 42 43 44]] [ 0 11 22 33 44] [10 21 32 43]\n"
     ]
    }
   ],
   "source": [
    "#create a diagonal matrix 5*5\n",
    "np.diag([1,2,3])\n",
    "print(np.diag([1,2,3], k = -1))\n",
    "print(np.diag(1+np.arange(4), k=-2))\n",
    "print(A,np.diag(A), np.diag(A,-1))"
   ]
  },
  {
   "cell_type": "code",
   "execution_count": 18,
   "metadata": {},
   "outputs": [
    {
     "name": "stdout",
     "output_type": "stream",
     "text": [
      "(array([0, 1, 4, 5], dtype=int64),)\n",
      "[[ 1.  1.  1.  1.  1.  1.  1.  1.  1.  1.]\n",
      " [ 1.  0.  0.  0.  0.  0.  0.  0.  0.  1.]\n",
      " [ 1.  0.  0.  0.  0.  0.  0.  0.  0.  1.]\n",
      " [ 1.  0.  0.  0.  0.  0.  0.  0.  0.  1.]\n",
      " [ 1.  0.  0.  0.  0.  0.  0.  0.  0.  1.]\n",
      " [ 1.  0.  0.  0.  0.  0.  0.  0.  0.  1.]\n",
      " [ 1.  0.  0.  0.  0.  0.  0.  0.  0.  1.]\n",
      " [ 1.  0.  0.  0.  0.  0.  0.  0.  0.  1.]\n",
      " [ 1.  0.  0.  0.  0.  0.  0.  0.  0.  1.]\n",
      " [ 1.  1.  1.  1.  1.  1.  1.  1.  1.  1.]]\n"
     ]
    }
   ],
   "source": [
    "#find non-zero \n",
    "print(np.nonzero([1,2,0,0,4,5,0]))\n",
    "#create a 10*10 array, with boundary 1, inner 0\n",
    "b = np.ones((10,10))\n",
    "b[1:-1,1:-1] = 0\n",
    "print(b)"
   ]
  },
  {
   "cell_type": "code",
   "execution_count": 19,
   "metadata": {},
   "outputs": [
    {
     "name": "stdout",
     "output_type": "stream",
     "text": [
      "nan False False nan False\n"
     ]
    }
   ],
   "source": [
    "print(0*np.nan, np.nan == np.nan, np.inf>np.nan, np.nan-np.nan, 0.3 ==3*0.1)"
   ]
  },
  {
   "cell_type": "code",
   "execution_count": 36,
   "metadata": {},
   "outputs": [
    {
     "name": "stdout",
     "output_type": "stream",
     "text": [
      "3 [3 4] [3 4] (2, 2)\n",
      "[[1 4]\n",
      " [3 4]]\n",
      "[[10 11 12 13 14]]\n",
      "[[ 0  1  2  3  4]\n",
      " [10 11 12 13 14]\n",
      " [20 21 22 23 24]\n",
      " [30 31 32 33 34]\n",
      " [40 41 42 43 44]] [[40 41 42 43 44]\n",
      " [20 21 22 23 24]\n",
      " [ 0  1  2  3  4]]\n",
      "[[30 31 32 33 34]\n",
      " [40 41 42 43 44]]\n",
      "[[11 12]\n",
      " [21 22]]\n",
      "[[ 0  2  4]\n",
      " [20 22 24]\n",
      " [40 42 44]]\n"
     ]
    }
   ],
   "source": [
    "#Manipulating arrays\n",
    "#get index\n",
    "v = np.array([[1,2],[3,4]])\n",
    "\n",
    "print(v[1,0], v[1],v[1,:],v.shape)\n",
    "v[0,1] =4\n",
    "print(v)\n",
    "#index slicing A[lower: upper:stepsize]\n",
    "A = np.array([[ 0,  1,  2,  3,  4],\n",
    "              [10, 11, 12, 13, 14],\n",
    "              [20, 21, 22, 23, 24],\n",
    "              [30, 31, 32, 33, 34],\n",
    "              [40, 41, 42, 43, 44]])\n",
    "print(A[1:2:2])\n",
    "print(A[::], A[:: -2])#lower :upper, stepsize all take the default values, \n",
    "#reversed order step = 2\n",
    "print(A[-2:])#last 2 elements\n",
    "print(A[1:3, 1:3])\n",
    "print(A[::2,::2])"
   ]
  },
  {
   "cell_type": "code",
   "execution_count": 53,
   "metadata": {},
   "outputs": [
    {
     "name": "stdout",
     "output_type": "stream",
     "text": [
      "(3,)\n",
      "[11 22 34]\n",
      "[11 22 34]\n",
      "[11 22 34]\n",
      "[ 5.5  6.   6.5  7.   7.5  8.   8.5  9.   9.5]\n"
     ]
    }
   ],
   "source": [
    "#index array\n",
    "row_index, col_index = [1,2,3], [1,2,-1]\n",
    "print(np.shape(row_index))\n",
    "print(A[row_index, col_index])\n",
    "#Boolean/mask\n",
    "\n",
    "row_mask, col_mask = [False, True,True , True, False], [False, True, True,False,True]\n",
    "print(A[row_mask, col_mask])\n",
    "print(A[np.array([0,1,1,1,0], dtype = bool), np.array([0,1,1,0,1], dtype = bool)])\n",
    "#usefull\n",
    "B = np.arange(0,20,0.5)\n",
    "mask = (5<B)*(B<10)\n",
    "print(B[(B <10)*(B>5)])"
   ]
  },
  {
   "cell_type": "code",
   "execution_count": 27,
   "metadata": {},
   "outputs": [
    {
     "name": "stdout",
     "output_type": "stream",
     "text": [
      "(1, 5, 4)\n",
      "[[0 1 0 1 0 1 0 1]\n",
      " [1 0 1 0 1 0 1 0]\n",
      " [0 1 0 1 0 1 0 1]\n",
      " [1 0 1 0 1 0 1 0]\n",
      " [0 1 0 1 0 1 0 1]\n",
      " [1 0 1 0 1 0 1 0]\n",
      " [0 1 0 1 0 1 0 1]\n",
      " [1 0 1 0 1 0 1 0]]\n",
      "[[0 1 0 1 0 1 0 1]\n",
      " [1 0 1 0 1 0 1 0]]\n"
     ]
    }
   ],
   "source": [
    "#consider a array with (6*7*8), what is the index of 100th (x,y,z)\n",
    "print(np.unravel_index(100, (6,7,8)))\n",
    "#create a 8*8 matrix like chast\n",
    "d = np.zeros((8,8), dtype = int)\n",
    "d[1::2, ::2] = 1\n",
    "d[::2, 1::2] = 1\n",
    "print(d)\n",
    "print(d[2::3])"
   ]
  },
  {
   "cell_type": "code",
   "execution_count": 30,
   "metadata": {},
   "outputs": [
    {
     "name": "stdout",
     "output_type": "stream",
     "text": [
      "[[ 0.49484134  0.5616933   0.46187726  0.76706939  0.18174697  0.87870811\n",
      "   0.3549003   0.10353001  0.197893    0.72305144]\n",
      " [ 0.17303793  0.56958792  0.20084183  0.52007805  0.57508104  0.81783779\n",
      "   0.36852946  0.39320536  0.37037307  0.29827591]\n",
      " [ 0.16222439  0.4515099   0.87455419  0.95403778  0.13481738  0.01260621\n",
      "   0.49260072  0.6494062   0.25811171  0.54619828]\n",
      " [ 0.0069445   0.50871473  0.5731248   0.14892834  0.20130689  0.69905703\n",
      "   0.4340969   0.84980618  0.99713504  0.09033684]\n",
      " [ 0.66193654  0.52467936  0.55778552  0.1812362   0.90236021  0.17649143\n",
      "   0.65246763  0.93199724  0.03790795  0.22094879]\n",
      " [ 0.82342691  0.63059642  0.50264869  0.97563813  0.9944031   0.99105562\n",
      "   0.30614048  0.28989946  0.40609785  0.50303041]\n",
      " [ 0.36106899  0.78817925  0.66428286  0.59540087  0.01609993  0.47222494\n",
      "   0.71816039  0.22787362  0.45506454  0.0097727 ]\n",
      " [ 0.82413808  0.74873476  0.80225448  0.66786756  0.41241221  0.63347977\n",
      "   0.93626271  0.2967471   0.21202991  0.30743036]\n",
      " [ 0.153311    0.33979978  0.96264476  0.46975489  0.19482658  0.50291532\n",
      "   0.83589763  0.16648965  0.077645    0.5506263 ]\n",
      " [ 0.15070242  0.29750944  0.60988956  0.99757813  0.93789931  0.22992011\n",
      "   0.37899594  0.65768994  0.24445021  0.16357681]] 0.997578126326 0.00694449618352\n",
      "[[ 0.49250987  0.55999391  0.45923412  0.76731182  0.17645522  0.88000608\n",
      "   0.3512457   0.09749872  0.1927539   0.72287769]\n",
      " [ 0.16766384  0.56796318  0.19573062  0.5179852   0.57350823  0.81856023\n",
      "   0.36500373  0.38991293  0.36686477  0.29408593]\n",
      " [ 0.15674805  0.44876874  0.87581288  0.95604799  0.12908191  0.00571525\n",
      "   0.49024807  0.64853613  0.25354198  0.54435239]\n",
      " [ 0.          0.50651444  0.5715335   0.14332629  0.19620007  0.69865641\n",
      "   0.4311911   0.85083088  0.99955272  0.08418082]\n",
      " [ 0.66118495  0.52263001  0.55604918  0.17593962  0.9038818   0.17114999\n",
      "   0.65162651  0.93379905  0.03125621  0.21602768]\n",
      " [ 0.8242022   0.62954851  0.50039104  0.97785257  0.99679496  0.99341583\n",
      "   0.30202486  0.28563028  0.40292732  0.50077637]\n",
      " [ 0.35747271  0.78862127  0.66355345  0.59402019  0.009242    0.46967964\n",
      "   0.71794038  0.22301799  0.45235699  0.00285494]\n",
      " [ 0.82492009  0.74880384  0.80282958  0.66717205  0.40930138  0.63245912\n",
      "   0.93810485  0.29254266  0.20702448  0.30332694]\n",
      " [ 0.14775038  0.3360024   0.96473634  0.46718623  0.18965849  0.50066019\n",
      "   0.83679083  0.16105364  0.07136897  0.54882227]\n",
      " [ 0.14511714  0.29331222  0.60864587  1.          0.93975692  0.22508384\n",
      "   0.37556916  0.65689819  0.23975131  0.15811326]]\n"
     ]
    }
   ],
   "source": [
    "#normalize a matrix\n",
    "print(a, amax, amin)\n",
    "a = (a-amin)/(amax-amin)\n",
    "print(a)"
   ]
  },
  {
   "cell_type": "code",
   "execution_count": 34,
   "metadata": {},
   "outputs": [
    {
     "name": "stdout",
     "output_type": "stream",
     "text": [
      "[[ 1.  1.  1.]\n",
      " [ 1.  1.  1.]\n",
      " [ 1.  1.  1.]\n",
      " [ 1.  1.  1.]\n",
      " [ 1.  1.  1.]] [[ 1.  1.]\n",
      " [ 1.  1.]\n",
      " [ 1.  1.]] [[ 3.  3.]\n",
      " [ 3.  3.]\n",
      " [ 3.  3.]\n",
      " [ 3.  3.]\n",
      " [ 3.  3.]]\n"
     ]
    }
   ],
   "source": [
    "#multiply matrix\n",
    "print(np.ones((5,3)), np.ones((3,2)), np.dot(np.ones((5,3)), np.ones((3,2))))\n"
   ]
  },
  {
   "cell_type": "code",
   "execution_count": 36,
   "metadata": {},
   "outputs": [
    {
     "name": "stdout",
     "output_type": "stream",
     "text": [
      "[ 0  1  2  3 -4 -5 -6 -7 -8  9 10]\n"
     ]
    }
   ],
   "source": [
    "# take the negative value\n",
    "d = np.arange(11)\n",
    "d[(d>3)&(d<=8)] *=-1\n",
    "print(d)"
   ]
  },
  {
   "cell_type": "code",
   "execution_count": 45,
   "metadata": {},
   "outputs": [
    {
     "name": "stdout",
     "output_type": "stream",
     "text": [
      "[ 0.09090909  0.18181818  0.27272727  0.36363636  0.45454545  0.54545455\n",
      "  0.63636364  0.72727273  0.81818182  0.90909091]\n",
      "None\n"
     ]
    }
   ],
   "source": [
    "#create a length = 10 vector with in (0,1)\n",
    "print(np.linspace(0,1,12, endpoint = True)[1:-1])\n",
    "#sort a vector\n",
    "f = np.random.random(10)\n",
    "print(f.sort())"
   ]
  },
  {
   "cell_type": "code",
   "execution_count": 9,
   "metadata": {},
   "outputs": [
    {
     "name": "stdout",
     "output_type": "stream",
     "text": [
      "[1 2 3 4]\n",
      "[[1 2]\n",
      " [3 4]]\n",
      "<class 'numpy.ndarray'>\n",
      "(4,)\n",
      "(2, 2)\n",
      "[ 1.  2.  3.  4.]\n",
      "[[1 2]\n",
      " [3 4]]\n",
      "float64\n",
      "int32\n"
     ]
    }
   ],
   "source": [
    "#numpy array\n",
    "print(np.array([1,2,3,4]))\n",
    "print(np.array([[1,2],[3,4]]))\n",
    "print(type(np.array([1,2,3,4])))\n",
    "\n",
    "print(np.shape(np.array([1,2,3,4])))\n",
    "print(np.shape(np.array([[1,2],[3,4]])))\n",
    "\n",
    "print(np.array([1,2,3,4], dtype = float))\n",
    "print(np.array([[1,2], [3,4]], dtype = int))\n",
    "\n",
    "M1 = np.array([[1.,2.], [3., 4.]])\n",
    "print(M1.dtype)\n",
    "M2 = M1.astype(int)\n",
    "print(M2.dtype)"
   ]
  },
  {
   "cell_type": "code",
   "execution_count": 60,
   "metadata": {},
   "outputs": [
    {
     "name": "stdout",
     "output_type": "stream",
     "text": [
      "[False False False False False False False False False False False  True\n",
      "  True  True  True  True  True  True  True  True False False False False\n",
      " False False False False False False False False False False False False\n",
      " False False False False] (array([11, 12, 13, 14, 15, 16, 17, 18, 19], dtype=int64),) [ 5.5  6.   6.5  7.   7.5  8.   8.5  9.   9.5]\n",
      "[-2 -1  0] [-2 -1  0] [-2 -1  0]\n"
     ]
    }
   ],
   "source": [
    "#functions for extracting data from arrays and creating arrays\n",
    "#where\n",
    "mask\n",
    "indice = np.where(mask)\n",
    "print(mask, indice, B[indice])\n",
    "#take\n",
    "B2 = np.arange(-3,3)\n",
    "print(np.take(B2, row_index), B2[row_index], B2.take(row_index))"
   ]
  },
  {
   "cell_type": "code",
   "execution_count": 81,
   "metadata": {},
   "outputs": [
    {
     "name": "stdout",
     "output_type": "stream",
     "text": [
      "[[ 0  1  2  3  4]\n",
      " [10 11 12 13 14]\n",
      " [20 21 22 23 24]\n",
      " [30 31 32 33 34]\n",
      " [40 41 42 43 44]] [3 4 5 6 7] [[ 300  310  320  330  340]\n",
      " [1300 1360 1420 1480 1540]\n",
      " [2300 2410 2520 2630 2740]\n",
      " [3300 3460 3620 3780 3940]\n",
      " [4300 4510 4720 4930 5140]] [  60  310  560  810 1060] 135\n",
      "(5, 5) (5, 1)\n",
      "[[   0    1    4    9   16]\n",
      " [ 100  121  144  169  196]\n",
      " [ 400  441  484  529  576]\n",
      " [ 900  961 1024 1089 1156]\n",
      " [1600 1681 1764 1849 1936]] [[  0   4  10  18  28]\n",
      " [ 30  44  60  78  98]\n",
      " [ 60  84 110 138 168]\n",
      " [ 90 124 160 198 238]\n",
      " [120 164 210 258 308]] [ 9 16 25 36 49]\n"
     ]
    }
   ],
   "source": [
    "#matrix algebra\n",
    "np.dot(A,A)\n",
    "np.shape(A)\n",
    "b = np.arange(3,8)\n",
    "print(A,b, np.dot(A,A), np.dot(A,b), np.dot(b,b))\n",
    "M = np.matrix(A)\n",
    "v = np.matrix(b).T # transverse from row to col\n",
    "print(M.shape, v.shape)\n",
    "print(A*A, A*b, b.T*b)\n"
   ]
  },
  {
   "cell_type": "code",
   "execution_count": 92,
   "metadata": {},
   "outputs": [
    {
     "name": "stdout",
     "output_type": "stream",
     "text": [
      "[[ 6 12 13  9 10 12]\n",
      " [ 6 16  1 17  2 13]\n",
      " [ 8 14 29  7 26 19]\n",
      " [21  6 19 21 12 29]\n",
      " [11 29 15 19  5 24]]\n",
      "14.6 5.57135531087 31.04 7 29\n",
      "73 1456340992 [          7          91        1274       12740      140140     1821820\n",
      "    12752740   216796580   433593160  -785257712  1939194160  1378914464\n",
      "  -474671712  1469858912  1146094400   578820608 -1551712768  -969484288]\n",
      "110\n",
      "29 [21 29 29 21 26 29] [13 17 29 29 29]\n"
     ]
    }
   ],
   "source": [
    "#data proecessing\n",
    "data = np.random.RandomState(seed = 1).randint(1,30,30).reshape(5,6)\n",
    "#from 1 to 30, random select 30, reshape set the number of row/col\n",
    "print(data)\n",
    "data.shape\n",
    "#mean, std\n",
    "print(np.mean(data[:, 3]), np.std(data[:,3]), np.var(data[:,3]), data[:,3].min(), data.max())\n",
    "print(np.sum(data[:,3]), np.prod(data[:3]), np.cumprod(data[:3]+1))#cummulative sum\n",
    "print(np.trace(A))\n",
    "print(data.max(), data.max(axis =0), data.max(axis=1))#max in each row, max in each col"
   ]
  },
  {
   "cell_type": "code",
   "execution_count": 123,
   "metadata": {},
   "outputs": [
    {
     "name": "stdout",
     "output_type": "stream",
     "text": [
      "[[ 5  5  5  5  5 10 11 12 13 14 20 21 22 23 24 30 31 32 33 34 40 41 42 43\n",
      "  44]] [[ 5  5  5  5  5]\n",
      " [10 11 12 13 14]\n",
      " [20 21 22 23 24]\n",
      " [30 31 32 33 34]\n",
      " [40 41 42 43 44]]\n",
      "[[ 5  5  5  5  5]\n",
      " [10 11 12 13 14]\n",
      " [20 21 22 23 24]\n",
      " [30 31 32 33 34]\n",
      " [40 41 42 43 44]] [10 10 10 10 10 10 11 12 13 14 20 21 22 23 24 30 31 32 33 34 40 41 42 43 44]\n",
      "[[ 1  9]\n",
      " [ 2 19]\n",
      " [ 4 23]\n",
      " [ 6 55]\n",
      " [ 8  2]] [[ 1  2  4  6  8]\n",
      " [ 9 19 23 55  2]]\n"
     ]
    }
   ],
   "source": [
    "#reshape, resizing, stacking arrays\n",
    "n,m = A.shape\n",
    "B =A.reshape((1,n*m))#change 5*5 A into 1*25 B\n",
    "B[0,0:5] = 5\n",
    "print(B, A)\n",
    "#Here, elements in A is also being changed once you change B\n",
    "\n",
    "#also can use flatten()\n",
    "C = A.flatten()\n",
    "C[0:5] = 10\n",
    "print(A, C)\n",
    "#now A is not changed as C is changed, because C is a copy of A, not the original A\n",
    "#stacking\n",
    "x = np.array([1,2,4,6,8])\n",
    "y = np.array([9,19,23,55,2])\n",
    "z = np.column_stack([x,y]) #cbind\n",
    "zz = np.row_stack([x,y])#rbind\n",
    "print(z,zz)"
   ]
  },
  {
   "cell_type": "code",
   "execution_count": 109,
   "metadata": {},
   "outputs": [
    {
     "name": "stdout",
     "output_type": "stream",
     "text": [
      "(3, 1) (1, 3)\n",
      "[[ 1  2  3]\n",
      " [ 4  5  6]\n",
      " [ 9 10 12]] [[100   2   3]\n",
      " [  4   5   6]\n",
      " [  9  10  12]]\n"
     ]
    }
   ],
   "source": [
    "#add new rows\n",
    "v = np.array([1,2,3])\n",
    "print(v[:, np.newaxis].shape, v[np.newaxis,:].shape)\n",
    "#add new col/ new row\n",
    "#deep copy\n",
    "#like B = A.reshape, change B will also chaneg A, use np.copy to avoid\n",
    "P = np.array([[1,2,3], [4,5,6], [9,10,12]])\n",
    "Q = np.copy(P)\n",
    "Q[0,0] = 100\n",
    "print(P,Q)"
   ]
  },
  {
   "cell_type": "code",
   "execution_count": 113,
   "metadata": {},
   "outputs": [
    {
     "name": "stdout",
     "output_type": "stream",
     "text": [
      "1\n",
      "2\n",
      "3\n",
      "4\n",
      "row [1 2]\n",
      "1\n",
      "2\n",
      "row [3 4]\n",
      "3\n",
      "4\n",
      "row_index 0 row [1 2]\n",
      "col_index 0 element 1\n",
      "col_index 1 element 2\n",
      "row_index 1 row [3 4]\n",
      "col_index 0 element 3\n",
      "col_index 1 element 4\n",
      "[[ 1  4]\n",
      " [ 9 16]]\n"
     ]
    }
   ],
   "source": [
    "#iterate over array elements\n",
    "p = np.array([1,2,3,4])\n",
    "for element in p:\n",
    "    print(element)\n",
    "q = np.array([[1,2],[3,4]])\n",
    "for row in q:\n",
    "    print(\"row\",row)\n",
    "    for element in row:\n",
    "        print(element)\n",
    "#use enumerate to get both value and index \n",
    "for row_index, row in enumerate(q):\n",
    "    print(\"row_index\", row_index, \"row\", row)\n",
    "    for col_index, element in enumerate(row):\n",
    "        print(\"col_index\", col_index, \"element\", element)\n",
    "        #update matrix value\n",
    "        q[row_index, col_index] = element**2\n",
    "print(q)"
   ]
  },
  {
   "cell_type": "code",
   "execution_count": 115,
   "metadata": {
    "collapsed": true
   },
   "outputs": [],
   "source": [
    "#SciPy-library of scientific algorithms for Python\n",
    "import matplotlib.pyplot as plt\n",
    "from IPython.display import Image\n",
    "from scipy import *\n",
    "import scipy.linalg as la"
   ]
  },
  {
   "cell_type": "code",
   "execution_count": 120,
   "metadata": {},
   "outputs": [
    {
     "name": "stdout",
     "output_type": "stream",
     "text": [
      "J_0(0.000000) = 1.000000\n",
      "Y_0(1.000000) = 0.088257\n"
     ]
    }
   ],
   "source": [
    "#special functions\n",
    "from scipy.special import jn, yn, jn_zeros, yn_zeros\n",
    "n= 0#order\n",
    "x = 0.0\n",
    "# Bessel function of first kind\n",
    "print(\"J_%d(%f) = %f\" % (n, x, jn(n, x)))\n",
    "\n",
    "x = 1.0\n",
    "# Bessel function of second kind\n",
    "print(\"Y_%d(%f) = %f\" % (n, x, yn(n, x)))\n",
    "y = linspace(0,10,100)\n",
    "fig, ax = plt.subplots()\n",
    "for n in range(4):\n",
    "    ax.plot(x, jn(n,x), label = r\"$J_%d(x)$\" % n)\n",
    "ax.legend();\n"
   ]
  },
  {
   "cell_type": "code",
   "execution_count": 121,
   "metadata": {},
   "outputs": [
    {
     "ename": "NameError",
     "evalue": "name 'x_upper' is not defined",
     "output_type": "error",
     "traceback": [
      "\u001b[1;31m---------------------------------------------------------------------------\u001b[0m",
      "\u001b[1;31mNameError\u001b[0m                                 Traceback (most recent call last)",
      "\u001b[1;32m<ipython-input-121-8834e8901306>\u001b[0m in \u001b[0;36m<module>\u001b[1;34m()\u001b[0m\n\u001b[0;32m      4\u001b[0m     \u001b[1;32mreturn\u001b[0m \u001b[0mx\u001b[0m\u001b[1;33m\u001b[0m\u001b[0m\n\u001b[0;32m      5\u001b[0m \u001b[0mx_lower\u001b[0m\u001b[1;33m,\u001b[0m \u001b[0mx_higher\u001b[0m \u001b[1;33m=\u001b[0m \u001b[1;36m0\u001b[0m\u001b[1;33m,\u001b[0m \u001b[1;36m1\u001b[0m\u001b[1;33m\u001b[0m\u001b[0m\n\u001b[1;32m----> 6\u001b[1;33m \u001b[0mval\u001b[0m\u001b[1;33m,\u001b[0m \u001b[0mabserr\u001b[0m \u001b[1;33m=\u001b[0m \u001b[0mquad\u001b[0m\u001b[1;33m(\u001b[0m\u001b[0mf\u001b[0m\u001b[1;33m,\u001b[0m \u001b[0mx_lower\u001b[0m\u001b[1;33m,\u001b[0m \u001b[0mx_upper\u001b[0m\u001b[1;33m)\u001b[0m\u001b[1;33m\u001b[0m\u001b[0m\n\u001b[0m\u001b[0;32m      7\u001b[0m \u001b[0mprint\u001b[0m\u001b[1;33m(\u001b[0m\u001b[1;34m\"integral value=\"\u001b[0m\u001b[1;33m,\u001b[0m \u001b[0mval\u001b[0m\u001b[1;33m,\u001b[0m \u001b[1;34m\"absolute error =\"\u001b[0m\u001b[1;33m,\u001b[0m \u001b[0mabserr\u001b[0m\u001b[1;33m)\u001b[0m\u001b[1;33m\u001b[0m\u001b[0m\n",
      "\u001b[1;31mNameError\u001b[0m: name 'x_upper' is not defined"
     ]
    }
   ],
   "source": [
    "#integration\n",
    "from scipy.integrate import quad, dblquad, tplquad\n",
    "def f(x):\n",
    "    return x\n",
    "x_lower, x_higher = 0, 1\n",
    "val, abserr = quad(f, x_lower, x_upper)\n",
    "print(\"integral value=\", val, \"absolute error =\", abserr)"
   ]
  }
 ],
 "metadata": {
  "kernelspec": {
   "display_name": "Python 3",
   "language": "python",
   "name": "python3"
  },
  "language_info": {
   "codemirror_mode": {
    "name": "ipython",
    "version": 3
   },
   "file_extension": ".py",
   "mimetype": "text/x-python",
   "name": "python",
   "nbconvert_exporter": "python",
   "pygments_lexer": "ipython3",
   "version": "3.6.1"
  }
 },
 "nbformat": 4,
 "nbformat_minor": 2
}
