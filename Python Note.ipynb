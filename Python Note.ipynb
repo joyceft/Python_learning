{
 "cells": [
  {
   "cell_type": "markdown",
   "metadata": {},
   "source": [
    "This is a note for Python Learning\n",
    "## Basic Operators\n",
    "Type of Operator\n",
    "- Arithmetic Operators\n",
    "- Comparison(Relational) Operators\n",
    "- Assignment Operators\n",
    "- Logical Operators\n",
    "- Bitwise Operators\n",
    "- Membership Operators\n",
    "- Identity Operators"
   ]
  },
  {
   "cell_type": "code",
   "execution_count": 7,
   "metadata": {
    "ExecuteTime": {
     "end_time": "2019-09-13T14:25:18.995470Z",
     "start_time": "2019-09-13T14:25:18.988470Z"
    }
   },
   "outputs": [],
   "source": [
    "a = 3\n",
    "b = 10\n",
    "c = -11"
   ]
  },
  {
   "cell_type": "markdown",
   "metadata": {
    "ExecuteTime": {
     "end_time": "2019-09-13T14:27:24.599470Z",
     "start_time": "2019-09-13T14:27:24.589470Z"
    }
   },
   "source": [
    "### Arithimetic Operators"
   ]
  },
  {
   "cell_type": "code",
   "execution_count": 30,
   "metadata": {
    "ExecuteTime": {
     "end_time": "2019-09-13T15:04:21.038470Z",
     "start_time": "2019-09-13T15:04:21.022470Z"
    }
   },
   "outputs": [
    {
     "name": "stdout",
     "output_type": "stream",
     "text": [
      "a+b: add: 13\n",
      "b-a: minus: 7\n",
      "a*b: multiple: 30\n",
      "b%a: modulus(reminder): 1 ,  0\n",
      "b**a: exponent: 1000\n",
      "b//a: floor division: 3 ,  3\n"
     ]
    }
   ],
   "source": [
    "print('a+b: add:', a + b)\n",
    "print('b-a: minus:', b - a)\n",
    "print('a*b: multiple:', a * b)\n",
    "print('b%a: modulus(reminder):', b % a,', ', c%a)\n",
    "print('b**a: exponent:', b**a)\n",
    "print('b//a: floor division:', b//a,', ',  c//a)\n"
   ]
  },
  {
   "cell_type": "markdown",
   "metadata": {},
   "source": [
    "### Comparison Operators\n",
    "\n",
    "Compare the values on either sides of them and decide the relation among them, thus also called relational operators, The result is boolean"
   ]
  },
  {
   "cell_type": "code",
   "execution_count": 28,
   "metadata": {
    "ExecuteTime": {
     "end_time": "2019-09-13T15:03:32.308470Z",
     "start_time": "2019-09-13T15:03:32.293470Z"
    }
   },
   "outputs": [
    {
     "name": "stdout",
     "output_type": "stream",
     "text": [
      "a==b: equal: False\n",
      "a!= b: not equal: True\n",
      "a>b/a>= b: greater than/greater or equal to : False ,  False\n",
      "a<b/a<=b: less than/equal to : True ,  True\n"
     ]
    }
   ],
   "source": [
    "print('a==b: equal:', (a==b))\n",
    "print('a!= b: not equal:', (a!=b))\n",
    "print('a>b/a>= b: greater than/greater or equal to :', (a>b), ', ', (a>=b))\n",
    "print('a<b/a<=b: less than/equal to :', (a<b), ', ', (a<=b))\n"
   ]
  },
  {
   "cell_type": "markdown",
   "metadata": {
    "ExecuteTime": {
     "end_time": "2019-09-13T14:32:25.903470Z",
     "start_time": "2019-09-13T14:32:25.893470Z"
    }
   },
   "source": [
    "### Assignment Operators"
   ]
  },
  {
   "cell_type": "code",
   "execution_count": 34,
   "metadata": {
    "ExecuteTime": {
     "end_time": "2019-09-13T15:40:28.532997Z",
     "start_time": "2019-09-13T15:40:28.525996Z"
    }
   },
   "outputs": [
    {
     "name": "stdout",
     "output_type": "stream",
     "text": [
      "d = a + b: assign right to left: 13\n",
      "d +=a: add and assign : 16\n",
      "d -=a: minus and assign: 13\n",
      "d*= a: multiple and assign: 39\n",
      "d/= a: divide and assign(will change data type to float if generate decimal): 13.0\n",
      "d%= a: modulus and assign: 1.0\n",
      "d**=a: exponent and assign: 1.0\n",
      "d//=a: floor division and assign: 0.0\n"
     ]
    }
   ],
   "source": [
    "d = a + b\n",
    "print('d = a + b: assign right to left:',d)\n",
    "d +=a\n",
    "print('d +=a: add and assign :',d )\n",
    "d -=a\n",
    "print('d -=a: minus and assign:',d  )\n",
    "d *=a\n",
    "print('d*= a: multiple and assign:',d )\n",
    "d /=a\n",
    "print('d/= a: divide and assign(will change data type to float if generate decimal):',d  )\n",
    "d %=a\n",
    "print('d%= a: modulus and assign:',d )\n",
    "d **=a\n",
    "print('d**=a: exponent and assign:',d )\n",
    "d//=a\n",
    "print('d//=a: floor division and assign:',d )"
   ]
  },
  {
   "cell_type": "markdown",
   "metadata": {
    "ExecuteTime": {
     "end_time": "2019-09-13T14:59:06.503470Z",
     "start_time": "2019-09-13T14:59:06.493470Z"
    }
   },
   "source": [
    "### Bitwise Operators\n",
    "\n",
    "These operators works on bits and performs bit by bit operation. You need to convert numbers to binary format to perform bitwise operation. Refer to <a href = 'https://binary-system.base-conversion.ro/binary-one-complement-converted-to-signed-integer-in-decimal-system.php?binary_one_complement=11000011&signed_integer_number_base_ten=-60'>Convert binary to integer</a><br>\n",
    "Assume if a = 60; and b = 13; Now in binary format they will be as follows(first value0 means positive, 1 means negative −\n",
    "\n",
    "a = 0011 1100\n",
    "\n",
    "b = 0000 1101\n",
    "\n",
    "a&b = 0000 1100(12) -- Binary AND: 1 if both 1 in the same position, otherwise 0\n",
    "\n",
    "a|b = 0011 1101(61) -- Binary OR:  1 if either 1 in the same position, otherwise 0\n",
    "\n",
    "a^b = 0011 0001(49) -- Binary XOR: 1 if not equal in the same position, otherwise 0\n",
    "\n",
    "~a  = 1100 0011(-60) -- Binary Ones Complement: flip bits\n",
    "\n",
    "a << 2 = 1111 0000(240) -- Binary Left Shift by 2 digits\n",
    "\n",
    "a >> 2 = 0000 1111(15) -- Binary Right Shift by 2 digits"
   ]
  },
  {
   "cell_type": "code",
   "execution_count": 33,
   "metadata": {
    "ExecuteTime": {
     "end_time": "2019-09-13T15:22:35.358470Z",
     "start_time": "2019-09-13T15:22:35.349470Z"
    }
   },
   "outputs": [
    {
     "name": "stdout",
     "output_type": "stream",
     "text": [
      "3 ,  10\n",
      "2\n"
     ]
    }
   ],
   "source": [
    "print(a, ', ', b)\n",
    "print(a&b)"
   ]
  },
  {
   "cell_type": "markdown",
   "metadata": {},
   "source": [
    "### Logical Operators\n",
    "\n",
    "conditionA and conditionB -- if both operands are true then condition becomes True.\n",
    "\n",
    "conditionA or conditionB -- if either is true, then ture\n",
    "\n",
    "not(conditionA and conditionB) -- reverse result of (conditionA and conditionB)"
   ]
  },
  {
   "cell_type": "markdown",
   "metadata": {},
   "source": [
    "### Membership Operators\n",
    "Test for membership in a sequence(string, lists, tuples)\n",
    "\n",
    "x in y -- True if x is a member of y\n",
    "\n",
    "x not in y -- True if x is not a member of y"
   ]
  },
  {
   "cell_type": "markdown",
   "metadata": {},
   "source": [
    "### Identity Operators\n",
    "\n",
    "Compare the memory locations of two objects. \n",
    "\n",
    "x is y -- True if either side of the operator point to the same object.\n",
    "\n",
    "x is not y -- "
   ]
  },
  {
   "cell_type": "markdown",
   "metadata": {},
   "source": [
    "## Format\n",
    "### Input Format\n",
    "Input format could be user input, or read in files. Here we focus on reading and writing files.\n",
    "\n",
    "    f = open(\"workfile', 'r+')\n",
    "**open()** returns a file object <mark>f</mark>, which most commonly used arguments are <mark>open(filename, mode)</mark>. With mode can be\n",
    "- 'r'  when the file will only be read\n",
    "- 'w' for only writing(an existing file with the same name will be erased)\n",
    "- 'a' opens file for appending.\n",
    "- 'r+' opens file for both reading and writing.\n",
    "Recall Spark<br>\n",
    "Normally, files readed in by **open()** will be in text mode, which means you read and write strings from and to the file. In text mode, the default reading will convert line endings with <mark>\\n</mark> in Unix, and <mark>\\r\\n</mark> in Windows to just <mark>\\n</mark>\n",
    "\n",
    "**'with'** keyword should be used when dealing with file objects because the file is properly closed after its suite finishes. You don't need to call <mark>f.close()</mark> manually.\n",
    "\n",
    "    with open('workfile') as f:\n",
    "        read_data = f.read()\n",
    "**method**:\n",
    "- f.read(size) will read data as a string(text mode) or bytes object(binary mode). *size* is a way to control how many data you want to read in. If ignored, it will return all contents. Be careful when the file size is too large for machine's memory. If the end is reached, an empty string(<mark>' '</mark>) is returned.\n",
    "        f.read()\n",
    "        >>'This is the entire file.\\n'\n",
    "- f.readline() will read a single line from the file. <mark>\\n</mark> is left at the end of the string and only omitted on the last line of a file since there is no new line to read. \n",
    "        f.readline()\n",
    "        >>'This is first line in file.\\n'\n",
    "        f.readline()\n",
    "        >>'This is second line in file.\\n'\n",
    "    \n",
    "     For reading lines from a file, you can loop over the file object:\n",
    "        for line in f:\n",
    "            print(line, end = '')\n",
    "        >>This is first line in file.\n",
    "          This is second line in file.\n",
    "- f.write(string) writes the contents of string to the file, return the number of characters written.\n",
    "        f.write('Save to file.\\n')\n",
    "        >>14\n",
    "- f.close() will close the file and immediately free up any system resources used by it. If you don't explicitly close a file, Python's garbage collector will destroy the object and close the open file for you, but the file may stay open for a while. Another risk is that different Python implementations will do this clean-up at different times. After with or f.close(), f is disabled.\n",
    "\n",
    "With **pandas** and **json** modules, reading files are much easier."
   ]
  },
  {
   "cell_type": "markdown",
   "metadata": {},
   "source": [
    "### Output Format\n",
    "There are several ways to present the output, such as be printed in a human-readable form, or written to a file for transmittion."
   ]
  },
  {
   "cell_type": "markdown",
   "metadata": {},
   "source": [
    "            \n",
    "#### String modulo operator: %     \n",
    "% operator can be used for string formatting, which interprets the left argument much like a <i>printf()</i>style format string to be applied to the right argument. The general syntax for a format placeholder is:<br>\n",
    "         \n",
    "           %[flags][width][.precision]type\n",
    "         \n",
    "We can consider *%*(old style) as *{specific format}*(new style) which is place holders with speified format.\n",
    "\n",
    "            print(\"Geeks: %2d, Portal : %5.2f\" %(1, 05.3333))\n",
    "            >>Geeks:  1, Portal :  5.33\n",
    "            print(\"Geeks: %10.3E\" % (356.089777))\n",
    "            >>Geeks:  3.561E+02\n",
    "            print(\"Geeks: %d, Portal: %5.5f\" %(1, 05.3333))\n",
    "            >>Geeks: 1, Portal: 5.33330\n",
    "**Notice: any space after % will also be considered in the result format in the width is ignored **.<br>\n",
    "The default align direction is **right**. You can add negative sign to reverse the align side. If the width is ignored, then it will remove all leading whitespace, otherwise, it will put leading whitespaces to occupy the whole width.<br>       \n",
    "The detailed format codes, refer <a href = \"https://docs.python.org/2/library/stdtypes.html#string-formatting\">here</a>"
   ]
  },
  {
   "cell_type": "code",
   "execution_count": 92,
   "metadata": {
    "ExecuteTime": {
     "end_time": "2019-09-24T14:51:23.428470Z",
     "start_time": "2019-09-24T14:51:23.414470Z"
    }
   },
   "outputs": [
    {
     "name": "stdout",
     "output_type": "stream",
     "text": [
      "Geeks:  1, Portal:  5.33\n",
      "Geeks:   1, Portal:  5.33\n",
      "\n",
      "Geeks: 32        , Portal :  5.33\n",
      "Geeks: 32, Portal: 5.33330\n",
      "Geeks:  3.561E+02\n"
     ]
    }
   ],
   "source": [
    "#2.\n",
    "#integer and float\n",
    "print(\"Geeks: %2d, Portal: %5.2f\" %(1, 05.3333))\n",
    "print(\"Geeks: %3d, Portal: %5.2f\" %(1, 05.3333))\n",
    "print()\n",
    "#align the left\n",
    "print(\"Geeks: %-10d, Portal : %5.2f\" %(32, 05.3333))\n",
    "#ignore the align side\n",
    "print(\"Geeks: %d, Portal: %5.5f\" %(32, 05.3333))\n",
    "#exponential format\n",
    "print(\"Geeks: %10.3E\" %(356.089777))"
   ]
  },
  {
   "cell_type": "markdown",
   "metadata": {},
   "source": [
    "#### str.format() \n",
    "**str.format()** method of strings offers a fancier output \n",
    "       \n",
    "       print(\"I like {} for breakfast and {} for lunch.\".format(\"Apple\", \"Beef\"))\n",
    "The str.format() will convert whatever inside .format() to **tuple**, thus you need to pass the **index** to each {} so that Python know which value match to which format. The index can be either **integer index** or **variable names**:\n",
    "   \n",
    "        print(\"I got {1: 8.2f} for Math, and {0: 3.2f} for Art and ranked {2: 2d} in my grade\".format(89, 96, 3))   \n",
    "        >>Last semester I got    96.00 for Math, and 89.00 for English and ranked  3 in my grade)\n",
    "  \n",
    "        print(\"Pi is {pi: 2.5f}, and sqrt2 is {sqrt2: 2.2f}.\".format(pi = 3.141592653, sqrt2 = 2.414)) \n",
    "        >>The value for pi is  3.1416, and the value for sqrt2 is  2.41.\n",
    "  {1:8.2f} follows the format: {[variable]:[placeholder][datatype]}<br>\n",
    "  which means the format of variable1 is a float with 2 decimal, occupying 8 total place-holder. If the digits > 8, then trancate to 8, if the digits < 8, then put leading blanks. \n",
    "\n",
    "str.format() can also be used in dictionary by using keys in the following formats:\n",
    "    \n",
    "        tab = {'glass': 4127, 'overweight': 4098, 'student': 8637678} \n",
    "        print(\"Among {0[student]:d} students, there are {0[glasses]:d} wear glasses and {0[overweight]:d} are overweight.\".format(tab))\n",
    "        \n",
    "        stu = {'Name': \"John Smith\", \"Grade\" : 7, \"GPA\" : 3.7}\n",
    "        print(\"My name is {Name}, and I got {GPA} in grade {Grade}.\".format(**stu))\n",
    "Remind **kwargs argument** in <a href = \"https://lightgbm.readthedocs.io/en/latest/pythonapi/lightgbm.LGBMClassifier.html#lightgbm.LGBMClassifier\">Lightgbm Classifier</a> which passes the kwargs as keyword arguments with the <span>'\\*\\*'</span> notation. This is particularly useful in combination with the built-in function **vars()**"
   ]
  },
  {
   "cell_type": "code",
   "execution_count": 22,
   "metadata": {
    "ExecuteTime": {
     "end_time": "2019-09-23T20:52:03.050470Z",
     "start_time": "2019-09-23T20:52:03.045470Z"
    }
   },
   "outputs": [
    {
     "name": "stdout",
     "output_type": "stream",
     "text": [
      "I like Apple for breakfast and Beef for lunch.\n",
      "Last semester I got    96.00 for Math, and 89.00 for English and ranked  3 in my grade)\n",
      "The value for pi is  3.1416, and the value for sqrt2 is  2.41.\n"
     ]
    }
   ],
   "source": [
    "print(\"I like {} for breakfast and {} for lunch.\".format(\"Apple\", \"Beef\"))\n",
    "print(\"Last semester I got {1: 8.2f} for Math, and {0:3.2f} for English and ranked {2: 2d} in my grade)\".format(89, 96, 3))\n",
    "print(\"The value for pi is {pi: 4.4f}, and the value for sqrt2 is {sqrt2: 2.2f}.\".format(pi = 3.141592653, sqrt2 = 2.414))"
   ]
  },
  {
   "cell_type": "code",
   "execution_count": 91,
   "metadata": {
    "ExecuteTime": {
     "end_time": "2019-09-24T14:51:11.691470Z",
     "start_time": "2019-09-24T14:51:11.687470Z"
    }
   },
   "outputs": [
    {
     "name": "stdout",
     "output_type": "stream",
     "text": [
      "My name is John Smith, and I got 3.7 in grade 7.\n",
      "\n",
      "Among 8637678 students, there are 4127 wear glasses and 4098 are overweight.\n"
     ]
    }
   ],
   "source": [
    "stu = {'Name': \"John Smith\", \"Grade\" : 7, \"GPA\" : 3.7}\n",
    "print(\"My name is {Name}, and I got {GPA} in grade {Grade}.\".format(**stu))\n",
    "print()\n",
    "tab = {'glass': 4127, 'overweight': 4098, 'student': 8637678} \n",
    "print(\"Among {0[student]:d} students, there are {0[glass]:d} wear glasses and {0[overweight]:d} are overweight.\".format(tab))"
   ]
  },
  {
   "cell_type": "code",
   "execution_count": 94,
   "metadata": {
    "ExecuteTime": {
     "end_time": "2019-09-24T15:45:26.823624Z",
     "start_time": "2019-09-24T15:45:26.814623Z"
    }
   },
   "outputs": [
    {
     "name": "stdout",
     "output_type": "stream",
     "text": [
      "  1    1     1\n",
      "  2    4     8\n",
      "  3    9    27\n",
      "  4   16    64\n",
      "  5   25   125\n",
      "  6   36   216\n",
      "  7   49   343\n",
      "  8   64   512\n",
      "  9   81   729\n"
     ]
    }
   ],
   "source": [
    "for x in range(1, 10):\n",
    "    print(\"{0:3d} {1:4d} {2:5d}\".format(x, x*x, x*x*x))"
   ]
  },
  {
   "cell_type": "markdown",
   "metadata": {},
   "source": [
    "Additional to .format(), other string methods like **str.ljust(), str.rjust(), str.center()** can be used to align direction and padding.\n",
    "\n",
    "    text = \"Hi this is a string example.\"\n",
    "    print(text.ljust(40))             #left-justified in a field of given width by padding it with whitespaces on the right.\n",
    "    print(text.rjust(40, \"-\"))        #right-justified in a field of given width by padding it with dash on the left.\n",
    "    print(text.center(40, \"*\"))       #center-justified in a field of given width by padding it with asterisk on both sides.\n",
    "**str.ljust(), str.rjust(), str.center()** won't change anything, so if the input string is too long, instead of truncating it, it will return it unchanged, which will messed up your layout. If you want to do truncation, using **a slice operation: x.ljust(n)[:n]**\n",
    "\n",
    "    print(text.center(10, \"*\")[:n])\n",
    "    >>Hi This is \n",
    "**padding** can also be mentioned inside {}. with **' > '** means right-just, **' < '** means left-just, **' ^ '** means center-just. You can also assign padding symbol after **' : '**.\n",
    "    \n",
    "    print('{:>10}'.format('test'))\n",
    "    >>      test\n",
    "    print('{:-<10}'.format('test'))\n",
    "    >>test------\n",
    "    print('{:^10}'.format('test'))\n",
    "    >>   test   \n",
    "\n",
    "**str.zfill()** will pad a numeric string on the left with zeros. It can also take +- sign. But with exceeding, it will keep the original value width.\n",
    "\n",
    "    print('12'.zfill(5))\n",
    "    >>00012\n",
    "    print('-3.14'.zfill(7))\n",
    "    >>-003.14\n",
    "    print('3.141592653'.zfill(3))\n",
    "    >>3.141592653"
   ]
  },
  {
   "cell_type": "code",
   "execution_count": 102,
   "metadata": {
    "ExecuteTime": {
     "end_time": "2019-09-24T20:47:15.692470Z",
     "start_time": "2019-09-24T20:47:15.677470Z"
    },
    "scrolled": true
   },
   "outputs": [
    {
     "name": "stdout",
     "output_type": "stream",
     "text": [
      "Hi this is a string example.____________\n",
      "------------Hi this is a string example.\n",
      "######Hi this is a string example.######\n",
      "\n",
      "      test\n",
      "\n",
      "Hi this is\n",
      "\n",
      "00012\n",
      "3.141592653\n"
     ]
    }
   ],
   "source": [
    "text = \"Hi this is a string example.\"\n",
    "print(text.ljust(40, \"_\"))\n",
    "print(text.rjust(40, \"-\"))\n",
    "print(text.center(40, \"#\"))\n",
    "print()\n",
    "print('{:>10}'.format('test'))\n",
    "print()\n",
    "print(text.center(10, \"*\")[:10])\n",
    "print()\n",
    "print('12'.zfill(5))\n",
    "print('3.141592653'.zfill(3))\n",
    "       "
   ]
  },
  {
   "cell_type": "markdown",
   "metadata": {},
   "source": [
    "**Problems**: For a given thickness, print a logo"
   ]
  },
  {
   "cell_type": "code",
   "execution_count": 165,
   "metadata": {
    "ExecuteTime": {
     "end_time": "2019-09-30T20:18:17.030470Z",
     "start_time": "2019-09-30T20:18:17.006470Z"
    }
   },
   "outputs": [
    {
     "name": "stdout",
     "output_type": "stream",
     "text": [
      "    H    \n",
      "   HHH   \n",
      "  HHHHH  \n",
      " HHHHHHH \n",
      "HHHHHHHHH\n",
      "  HHHHH               HHHHH             \n",
      "  HHHHH               HHHHH             \n",
      "  HHHHH               HHHHH             \n",
      "  HHHHH               HHHHH             \n",
      "  HHHHH               HHHHH             \n",
      "  HHHHH               HHHHH             \n",
      "  HHHHHHHHHHHHHHHHHHHHHHHHH   \n",
      "  HHHHHHHHHHHHHHHHHHHHHHHHH   \n",
      "  HHHHHHHHHHHHHHHHHHHHHHHHH   \n",
      "  HHHHH               HHHHH             \n",
      "  HHHHH               HHHHH             \n",
      "  HHHHH               HHHHH             \n",
      "  HHHHH               HHHHH             \n",
      "  HHHHH               HHHHH             \n",
      "  HHHHH               HHHHH             \n",
      "                    HHHHHHHHH \n",
      "                     HHHHHHH  \n",
      "                      HHHHH   \n",
      "                       HHH    \n",
      "                        H     \n"
     ]
    }
   ],
   "source": [
    "thickness = 5\n",
    "c = 'H'\n",
    "#create a cone\n",
    "for i in range(thickness):\n",
    "    print((c*i).rjust(thickness-1)+c+(c*i).ljust(thickness-1))\n",
    "#create a pillars\n",
    "for i in range(thickness+1):\n",
    "    print((c*thickness).center(thickness*2)+(c*thickness).center(thickness*6))\n",
    "#Middle belt\n",
    "for i in range((thickness+1)//2):\n",
    "    print((c*thickness*5).center(thickness*6))  \n",
    "#Bottom Pillars\n",
    "for i in range(thickness+1):\n",
    "    print((c*thickness).center(thickness*2)+(c*thickness).center(thickness*6)) \n",
    "#Bottom Cone\n",
    "for i in range(thickness):\n",
    "    print(((c*(thickness-i-1)).rjust(thickness)+c+(c*(thickness-i-1)).ljust(thickness)).rjust(thickness*6))"
   ]
  },
  {
   "cell_type": "markdown",
   "metadata": {},
   "source": [
    "#### str() v.s. repr()\n",
    "When you don't need fancy output just just want a quick display of some variables for debugging, you can convert any value to a string with **repr()** or **str()** functions. **str()** is meant to display values which are human-readable, while **repr()** is meant to generate representations which can be read by the interpreter.<br>\n",
    " The difference between str() and repr() is **str() will read command inside and operate it before display it**, while **repr() will just convert everything to string(quote everything)**. i.e.\n",
    " \n",
    "        lb = \"Hello,\\n Nice to meet you!\"\n",
    "        print(str(lb))\n",
    "        >>Hello, \n",
    "           Nice to meet you!\n",
    "        print(repr(lb))\n",
    "        >>'Hello,\\n Nice to meet you!'\n",
    "Also, **repr() can take any data type**, including numbers and structures(list, dictionaries, tuples, etc), while str() can only take numbers and characters.\n",
    "\n",
    "        print(repr((5, 2, ('meat', 'egg'))))\n",
    "        >>\"(5, 2, ('meat', 'egg'))\"\n",
    "        print(repr({5, 2, ('meat', 'egg')}))\n",
    "        >>\"{5, 2, ('meat', 'egg')}\""
   ]
  },
  {
   "cell_type": "code",
   "execution_count": 90,
   "metadata": {
    "ExecuteTime": {
     "end_time": "2019-09-24T14:51:02.181470Z",
     "start_time": "2019-09-24T14:51:02.167470Z"
    }
   },
   "outputs": [
    {
     "name": "stdout",
     "output_type": "stream",
     "text": [
      "Hollo, World! Nice to meet you\n",
      "'Hollo, World!' 'Nice to meet you'\n",
      "\n",
      "The value of x is 3.25, and y is 400\n",
      "\n",
      "Hello,\n",
      "please add a linebreak.\n",
      "'Hello,\\nplease add a linebreak.'\n",
      "\n",
      "(3.25, 400, ('meat', 'egg'))\n",
      "{2, ('meat', 'egg'), 5}\n"
     ]
    }
   ],
   "source": [
    "s, t = 'Hollo, World!', 'Nice to meet you'\n",
    "print(str(s), str(t))\n",
    "print(repr(s), repr(t))\n",
    "print()\n",
    "x, y = 3.25, 20*20\n",
    "print(\"The value of x is \"+repr(x)+\", and y is \" +str(y) )\n",
    "print()\n",
    "lb = \"Hello,\\nplease add a linebreak.\"\n",
    "print(str(lb))\n",
    "print(repr(lb))\n",
    "print()\n",
    "#print(str(x,y))\n",
    "print(repr((x,y,('meat', 'egg') )))\n",
    "print(repr({5, 2, ('meat', 'egg')}))"
   ]
  },
  {
   "cell_type": "markdown",
   "metadata": {},
   "source": [
    "#### Formatted string literals:\n",
    "**Formatted string literals** let you include the value of Python Expressions inside a string by prefixing the string with **f or F** and writing expressions as *{expression}*\n",
    "        \n",
    "        name, age =  \"John\", 30\n",
    "        print(f\"My name is {name} and I am {age} years old now.\")\n",
    "        >>My name is John and I am 30 years old now.\n",
    "With math value:\n",
    "        \n",
    "        import math\n",
    "        print(f\"The value of pi is approximately {math.pi:.6f}\")\n",
    "        >>The value of pi is approximately 3.141593\n",
    "Ignore integer for width after **:** will cause the field to be the minimum number of character wide. If you want to making column line style, you can pass fixed width: <mark>**Notice, do not include whitespace between : and width.**</mark>\n",
    "        \n",
    "        table = {'Sjoerd': 4127, 'Jack': 4098, 'Dcab': 7678}\n",
    "        for name, salary in table.items():\n",
    "            print(f\"{name:10} ==> {salary:10d}\")\n",
    "            \n",
    "Other modifiers can be used to convert the value before it is formatted. <mark><b>'!a'</b></mark> applies **ascii()**, <mark><b>'!s'</b></mark> applies **str()** and <mark><b>'!r'</b></mark> applies **repr()**:\n",
    "    \n",
    "    fruit = 'apple'\n",
    "    print(f\"I like {fruit} best.\")\n",
    "    >>I like apple best.\n",
    "    print(f\"My nickname is {fruit!r}.\")\n",
    "    >>My nickname is 'apple'. \n",
    "            \n",
    "**F-strings are faster than % formatting and str.format()**<br>Be careful about the possible error format:\n",
    "- Double quotation v.s. Single quotation: \n",
    "            print(f\"He said 'My name is {name} and I am {age} years old now.' in the orientation.\")\n",
    "- Slash should be in variables, not inside f\" \". Here ord() is a function to return an integer representing the Unicode code. Check <a href = \"https://www.w3schools.com/python/ref_func_ord.asp\">here</a>\n",
    "            newline = ord('\\n')  \n",
    "            print(f\"newline : {newline}\")"
   ]
  },
  {
   "cell_type": "code",
   "execution_count": 93,
   "metadata": {
    "ExecuteTime": {
     "end_time": "2019-09-24T15:29:30.994670Z",
     "start_time": "2019-09-24T15:29:30.978659Z"
    }
   },
   "outputs": [
    {
     "name": "stdout",
     "output_type": "stream",
     "text": [
      "Hi, My name is Shirley, and I am 18 years old now.\n",
      "He said 'My name is Shirley and I am 18 years old now.' in the orientation.\n",
      "\n",
      "Sjoerd     ==>       4127\n",
      "Jack       ==>       4098\n",
      "Dcab       ==>       7678\n",
      "\n",
      "The value of pi is approximately 3.141593\n",
      "\n",
      "Today is  24 September, 2019\n",
      "newline : 10\n",
      "\n",
      "My nickname is 'apple'.\n"
     ]
    }
   ],
   "source": [
    "#1.\n",
    "name, age = \"Shirley\",18\n",
    "print(f\"Hi, My name is {name}, and I am {age} years old now.\")\n",
    "print(f\"He said 'My name is {name} and I am {age} years old now.' in the orientation.\")\n",
    "#print date as selected format\n",
    "print()\n",
    "#2.\n",
    "table = {'Sjoerd': 4127, 'Jack': 4098, 'Dcab': 7678}\n",
    "for name, salary in table.items():\n",
    "    print(f\"{name:10} ==> {salary:10d}\")\n",
    "print()            \n",
    "import math\n",
    "print(f\"The value of pi is approximately {math.pi:.6f}\")\n",
    "print()    \n",
    "import datetime as dt\n",
    "td = dt.datetime.today()\n",
    "print(f\"Today is {td: %d %B, %Y}\")\n",
    "newline = ord('\\n')  \n",
    "print(f\"newline : {newline}\")\n",
    "print()\n",
    "fruit = 'apple'\n",
    "print(f\"My nickname is {fruit!r}.\")"
   ]
  },
  {
   "cell_type": "code",
   "execution_count": 15,
   "metadata": {
    "ExecuteTime": {
     "end_time": "2019-09-13T16:36:59.911470Z",
     "start_time": "2019-09-13T16:36:59.905470Z"
    }
   },
   "outputs": [
    {
     "name": "stdout",
     "output_type": "stream",
     "text": [
      "123456789"
     ]
    }
   ],
   "source": [
    "for i in range(1, 10): print(i, end = \"\")"
   ]
  },
  {
   "cell_type": "code",
   "execution_count": 7,
   "metadata": {
    "ExecuteTime": {
     "end_time": "2019-09-13T16:19:52.839470Z",
     "start_time": "2019-09-13T16:19:52.830470Z"
    }
   },
   "outputs": [],
   "source": [
    "def print_n(n):\n",
    "    i = 1\n",
    "    while (i<=n):\n",
    "        print(i)\n",
    "        i +=1"
   ]
  },
  {
   "cell_type": "markdown",
   "metadata": {},
   "source": [
    "- string slicing and concatenation operations can be used to create any layout. string type also has some methods for padding strings to a given column width.\n",
    "print(objects, seperator, end, file, flush)\n",
    "- objects: any objects, as many as you want.\n",
    "- seperator, default is ' ' \n",
    "- end: specify what to print at the end.default is '\\n'(new line), <span class=\"mark\">This enables us to print one result a line or all results in one line</span>\n",
    "- flush: a Boolean specifying if the output is flushed(true) or buffered(false). Default is false"
   ]
  },
  {
   "cell_type": "markdown",
   "metadata": {},
   "source": [
    "## Data Type\n",
    "- **Test Type:**   str\n",
    "- **Numeric Types:**   int, float, complex\n",
    "- **Sequence Types:**   list, tuple, range\n",
    "- **Mapping Type:**   dict\n",
    "- **Set Types:**   set, frozenset\n",
    "- **Boolean Type:**   bool\n",
    "- **Binary Types:**   bytes, bytearray, memoryview\n",
    "\n",
    "Detailed Description of set a data type/specific data type:\n",
    "###  Strings\n",
    "\n",
    "- Single line:  \n",
    "        x=\"Hello World\"\n",
    "- Multiline string, the line breaks are inserted at the same position as in the code:  \"\"\" \"\"\" or '''  ''' :\n",
    "        y = \"\"\"This is a multiline string example,\n",
    "        This is a multiline string example,        \n",
    "        This is a multiline string example\"\"\"\n",
    "- Strings are Arrays, each character(place holder, including letter, number, special characters, whitespace) is a length of 1:\n",
    "        print(x[1])   >> e\n",
    "- Slicing: return partial of the string by giving the start-end index.<br>\n",
    "**Notice the starting index is 0, and in a range, the end index is not included)**\n",
    "        print(x[2:6])   >>llo      #from index 2 to index 5\n",
    "        print(x[-5:-2]) >> orl     #from position 5 to position 1, from the end of the string \n",
    "**Notice the start backward index is 1, and the end index is also not included**\n",
    "- String Length, using **len()**:\n",
    "        print(len(x))\n",
    "- String Method:\n",
    "    - x.strip() :remove leading and tailing whitespace\n",
    "    - x.upper()/x.lower()/x.capitalize()/x.title(): convert all characters to upper/lower case/first character of a sentence/first letter of each word to upper case\n",
    "    - x.isupper()/x.islower(): return T/F to check the upper/lower case\n",
    "    - x.replace(\"a\", \"b\") : replace all a with b\n",
    "    - x.join(iterable): return a string in which elements of sequence are join with x as seperator. If the iterable is string, it will using x to seperate each character of that string. If the iterable is a list, it will using x to seperate each element of that list. \n",
    "    - x.startswith(str, beg = 0, end = len(string)): check whether string starts with *str* within *beg* and *end* boundary\n",
    "    - x.split(\",\") : return a list of substrings splited by the defined seperator\n",
    "    - x.count(\"a\") : return the number of a occurs in string\n",
    "    - x.find(\"a\")/x.index(\"a\") : find whether a is in x, if is, return the index of **first** occurance. If there is no find, x.find() will return -1 while x.index() will return ValueError.\n",
    "        \n",
    "More methods, go <a href = \"https://www.w3schools.com/python/python_strings.asp\">Python String Method</a>\n",
    "- Check if a certian phrase or character is in a string, using **in** or **not in**, Boolean will return:\n",
    "        in_flag = \"or\" in x\n",
    "- String Concatenation, using **+** for both string:\n",
    "        x + \" \" + y\n",
    " - if you want to combine character with number, using **.format()**, which can take unlimited number of arguements and are palced into the respective placeholder(just like sprintf() in R) :\n",
    "         name = \"Bob\", location = \"Chicago\", age = 36\n",
    "         print(\"My name is {}, I am {} years old and I live in {}\".format(name, location, age))\n",
    " You can also indicate the index of placeholder to make sure the arguements are placed int the correct places.\n",
    "         print(\"My name is {2}, I am {0} years old and I live in {1}\".format(age, location,name ))\n",
    "- String Validator methods<br>\n",
    "    str also has some validation methods to check if a string contains alphabetical, numeric, digits. <br>\n",
    "    **Returns are T/F if ALL matched.**\n",
    "    - str.isalnum() - [a-zA-Z0-9]\n",
    "    - str.isalpha() - [a-zA-Z]\n",
    "    - str.isdigit() - [0-9]\n",
    "    - str.islower()/str.isupper()"
   ]
  },
  {
   "cell_type": "markdown",
   "metadata": {},
   "source": [
    "#### Text Wrap\n",
    "**textwrap module** provides two functions :**wrap(*text, width..*), fill(*text, width..*)** helps to split strings with fixed width. Recall what txt and notepad++ do when click wrap texts. \n",
    "- wrap() will return a list of output lines, without final newlines.\n",
    "- fill() will wraps the single paragraphs in text, and returns a signle string containing wrapped paragraph. Equals to \n",
    "        \"\\n\".join(wrap(text,...))"
   ]
  },
  {
   "cell_type": "code",
   "execution_count": 170,
   "metadata": {
    "ExecuteTime": {
     "end_time": "2019-09-30T20:29:00.440470Z",
     "start_time": "2019-09-30T20:29:00.432470Z"
    }
   },
   "outputs": [
    {
     "name": "stdout",
     "output_type": "stream",
     "text": [
      "['This', 'is a', 'mult', 'ilin', 'e st', 'ring', 'exam', 'ple,', 'This', 'is a', 'mult', 'ilin', 'e st', 'ring', 'exam', 'ple,', 'This', 'is a', 'mult', 'ilin', 'e st', 'ring', 'exam', 'ple']\n",
      "'This\\nis a\\nmult\\nilin\\ne st\\nring\\nexam\\nple,\\nThis\\nis a\\nmult\\nilin\\ne st\\nring\\nexam\\nple,\\nThis\\nis a\\nmult\\nilin\\ne st\\nring\\nexam\\nple'\n"
     ]
    }
   ],
   "source": [
    "y = \"\"\"This is a multiline string example,\n",
    "This is a multiline string example,        \n",
    "This is a multiline string example\"\"\"\n",
    "import textwrap as tw\n",
    "print(tw.wrap(y, 4))\n",
    "print(repr(tw.fill(y,4)))"
   ]
  },
  {
   "cell_type": "code",
   "execution_count": 141,
   "metadata": {
    "ExecuteTime": {
     "end_time": "2019-09-30T18:02:42.344470Z",
     "start_time": "2019-09-30T18:02:42.315470Z"
    }
   },
   "outputs": [
    {
     "name": "stdout",
     "output_type": "stream",
     "text": [
      "Hello World\n",
      "ampl\n",
      "Original string is :  Are    you     ok?   \n",
      "Remove leading/tailing whitespace: Are    you     ok?\n",
      "Repalce o with i:   Are    yiu     ik?   \n",
      "Split string by ' ': ['', 'Are', '', '', '', 'you', '', '', '', '', 'ok?', '', '', '']\n",
      "Is 're' in string:  True\n",
      "Is 're' not in string:  False\n",
      "Convert all to upper case:  ARE    YOU     OK?   \n",
      "Split each character in str by '~':   ~A~r~e~ ~ ~ ~ ~y~o~u~ ~ ~ ~ ~ ~o~k~?~ ~ ~ \n",
      "My name is Bob, I am 36 years old and I live in Chicago\n",
      "Find the first 'o': 4\n",
      "Is there any 'This' in y?:  True\n"
     ]
    }
   ],
   "source": [
    "x = str(\"Hello World\")\n",
    "print(x)\n",
    "y = \"\"\"This is a multiline string example,\n",
    "This is a multiline string example,        \n",
    "This is a multiline string example\"\"\"\n",
    "print(y[-5:-1])\n",
    "whit_string = \" Are    you     ok?   \"\n",
    "print(\"Original string is :\", whit_string)\n",
    "print(\"Remove leading/tailing whitespace:\", whit_string.strip())\n",
    "print(\"Repalce o with i: \", whit_string.replace(\"o\", \"i\"))\n",
    "print(\"Split string by ' ':\", whit_string.split(\" \"))\n",
    "print(\"Is 're' in string: \", \"re\" in whit_string)\n",
    "print(\"Is 're' not in string: \",\"re\" not in whit_string)\n",
    "print(\"Convert all to upper case:\", whit_string.upper())\n",
    "print(\"Split each character in str by '~': \", '~'.join(whit_string))\n",
    "print(\"My name is {}, I am {} years old and I live in {}\".format(\"Bob\", 36, \"Chicago\"))\n",
    "print(\"Find the first 'o':\", \"Hello World\".find(\"o\"))\n",
    "print(\"Is there any 'This' in y?: \", y.startswith(\"This\", 0, 30))"
   ]
  },
  {
   "cell_type": "markdown",
   "metadata": {},
   "source": [
    "#### Problems"
   ]
  },
  {
   "cell_type": "markdown",
   "metadata": {},
   "source": [
    "**Problem1**.For a given string and character with index to replace, return the replaced string. i.e. <br>\n",
    "    \n",
    "    input :          string = 'sjtu511731', index = 4, replace = 4\n",
    "    expected output: 'sjtu411731'\n",
    "    \n",
    "<mark>**Notice, .strip(), .join(), .split(), even '+' need all elements to be string, since they are all str method. Convert int or float to string if necessary.**</mark>"
   ]
  },
  {
   "cell_type": "code",
   "execution_count": 95,
   "metadata": {
    "ExecuteTime": {
     "end_time": "2019-09-30T15:10:10.130470Z",
     "start_time": "2019-09-30T15:10:10.113470Z"
    }
   },
   "outputs": [
    {
     "name": "stdout",
     "output_type": "stream",
     "text": [
      "Replace index 4 character in sjtu511731 by 4: sjtu411731 \n",
      "Replace index 4 character in sjtu511731 by 4: sjtu411731 \n"
     ]
    }
   ],
   "source": [
    "#method1 - convert to list and change, then convert back to string\n",
    "str1 = \"sjtu511731\"\n",
    "def replace_index(string, position, character):\n",
    "    str1 = list(string)\n",
    "    str1[position] = character\n",
    "    print(\"Replace index {} character in {} by {}: {} \".format(position, string, character, ''.join(map(str, str1)) ))\n",
    "replace_index(str1, 4, 4)\n",
    "#method2 - using string expend index\n",
    "def replace_index2(string, position, character):\n",
    "    str1 = string[: position] + str(character) + str(string[position + 1: ])\n",
    "    print(\"Replace index {} character in {} by {}: {} \".format(position, string, character,str1))\n",
    "replace_index2(str1, 4,4)"
   ]
  },
  {
   "cell_type": "markdown",
   "metadata": {},
   "source": [
    "**Problem2.** find how many times a substring occurs in a string. i.e.<br>\n",
    "\n",
    "    Input:             string = \"My sister insisted to order Sisserou's chicken.\", sub = 'sis'\n",
    "    Expected Output:   3\n",
    "    Input:             string = \"In the convential world, it won't ever happen.\", sub = 'qq'\n",
    "    Expected Output:   0\n",
    "    Input:             string = \"In the convential world, it won't ever happen.\", sub = 'en'\n",
    "    Expected Output:   2    "
   ]
  },
  {
   "cell_type": "code",
   "execution_count": 138,
   "metadata": {
    "ExecuteTime": {
     "end_time": "2019-09-30T16:19:47.368470Z",
     "start_time": "2019-09-30T16:19:47.353470Z"
    }
   },
   "outputs": [
    {
     "name": "stdout",
     "output_type": "stream",
     "text": [
      "Method1\n",
      "In 'My sister insisted to order sisserou's chicken.', there are 3 of 'sis' in index [3, 12, 28]\n",
      "In 'ABCDCDC', there are 2 of 'CDC' in index [2, 4]\n",
      "In 'In the convential world, it won't ever happen', there are 0 of 'qq' in index []\n",
      "\n",
      "Method2\n",
      "In 'My sister insisted to order sisserou's chicken.', there are 3 of 'sis' in index [3, 12, 28]\n",
      "In 'ABCDCDC', there are 2 of 'CDC' in index [2, 4]\n",
      "In 'In the convential world, it won't ever happen', there are 0 of 'qq' in index []\n",
      "\n",
      "Method3\n",
      "In 'My sister insisted to order sisserou's chicken.', there are 3 of 'sis' in index [3, 12, 28]\n",
      "In 'ABCDCDC', there are 1 of 'CDC' in index [2]\n",
      "In 'In the convential world, it won't ever happen', there are 0 of 'qq' in index []\n"
     ]
    }
   ],
   "source": [
    "ss = \"My sister insisted to order sisserou's chicken.\"\n",
    "ss1 = 'ABCDCDC'\n",
    "SS2 =\"In the convential world, it won't ever happen\"\n",
    "#method1 - loop\n",
    "def cnt_sub1(string, sub):\n",
    "    \n",
    "    def findall(string, sub):\n",
    "        i = string.find(sub) #first index or -1\n",
    "        while i != -1:\n",
    "            yield i\n",
    "            i = string.find(sub, i+1)\n",
    "            \n",
    "    match_index = [i for i in findall(string, sub)]\n",
    "    print(\"In '{}', there are {} of '{}' in index {}\".format(string, len(match_index), sub, match_index ))\n",
    "\n",
    "print(\"Method1\")\n",
    "cnt_sub1(ss, 'sis')\n",
    "cnt_sub1(ss1, 'CDC')  \n",
    "cnt_sub1(SS2, 'qq')\n",
    "\n",
    "#method2 - more easier and efficient way - will take overlapping into consideration\n",
    "def cnt_sub2(string, sub):\n",
    "    match_index = [i for i in range(len(string)) if string.startswith(sub, i)]\n",
    "    print(\"In '{}', there are {} of '{}' in index {}\".format(string, len(match_index), sub, match_index ))\n",
    "print(\"\\nMethod2\")\n",
    "cnt_sub2(ss, 'sis')\n",
    "cnt_sub2(ss1, 'CDC')  \n",
    "cnt_sub2(SS2, 'qq')\n",
    "\n",
    "#method3 - using Regular Expression to find matched subs(NO overlapping)\n",
    "def cnt_sub3(string, sub):\n",
    "    import re\n",
    "    match_index = [i.start() for i in re.finditer(sub, string)]\n",
    "    print(\"In '{}', there are {} of '{}' in index {}\".format(string, len(match_index), sub, match_index ))\n",
    "print(\"\\nMethod3 - Not consider Overlapping\")\n",
    "cnt_sub3(ss, 'sis')\n",
    "cnt_sub3(ss1, 'CDC')  #see the difference\n",
    "cnt_sub3(SS2, 'qq')\n"
   ]
  },
  {
   "cell_type": "markdown",
   "metadata": {},
   "source": [
    "**Problem3** String Validators<br>\n",
    "For a given string, check whether it contains: alphanumeric, alphabetical, digits, lowercase and uppercase. "
   ]
  },
  {
   "cell_type": "code",
   "execution_count": 146,
   "metadata": {
    "ExecuteTime": {
     "end_time": "2019-09-30T20:04:55.028470Z",
     "start_time": "2019-09-30T20:04:55.009470Z"
    }
   },
   "outputs": [
    {
     "name": "stdout",
     "output_type": "stream",
     "text": [
      "True\n",
      "True\n",
      "True\n",
      "True\n",
      "False\n"
     ]
    }
   ],
   "source": [
    "ss = \"My sister ordered 2lbs of Sisserou's chicken Walmart.\" \n",
    "sss = 'pa2'\n",
    "def str_validator(string):\n",
    "    print(any(char.isalnum() for char in string),   #since str.isalnum() will return T if ALL is matched. using any to check\n",
    "          any(char.isalpha() for char in string),\n",
    "          any(char.isdigit() for char in string),\n",
    "          any(char.islower() for char in string),\n",
    "          any(char.isupper() for char in string), sep = '\\n')\n",
    "str_validator(sss)"
   ]
  },
  {
   "cell_type": "markdown",
   "metadata": {},
   "source": [
    "**Problem4.** Design a door mat. Requirements:\n",
    "- Mat size is MxN(N is odd, M = 3N)\n",
    "- Mat has 'WELCOME' written in center\n",
    "- pattern should only use |,. and - character"
   ]
  },
  {
   "cell_type": "code",
   "execution_count": 208,
   "metadata": {
    "ExecuteTime": {
     "end_time": "2019-09-30T21:08:01.034470Z",
     "start_time": "2019-09-30T21:08:01.014470Z"
    }
   },
   "outputs": [
    {
     "name": "stdout",
     "output_type": "stream",
     "text": [
      "---------.|.---------\n",
      "------.|..|..|.------\n",
      "---.|..|..|..|..|.---\n",
      "-------WELCOME-------\n",
      "---.|..|..|..|..|.---\n",
      "------.|..|..|.------\n",
      "---------.|.---------\n",
      "7*21 Mat None \n",
      "\n",
      "------------.|.------------\n",
      "---------.|..|..|.---------\n",
      "------.|..|..|..|..|.------\n",
      "---.|..|..|..|..|..|..|.---\n",
      "----------WELCOME----------\n",
      "---.|..|..|..|..|..|..|.---\n",
      "------.|..|..|..|..|.------\n",
      "---------.|..|..|.---------\n",
      "------------.|.------------\n",
      "9*27 Mat None\n"
     ]
    }
   ],
   "source": [
    "#using for loop\n",
    "def print_mat(n,m):\n",
    "    #upper\n",
    "    for i in range(1, n//2+1):\n",
    "        print(((i*2-1)*\".|.\").center(m,\"-\"))\n",
    "    #middle\n",
    "    print(\"WELCOME\".center(m,\"-\"))\n",
    "    #bottom\n",
    "    for i in range(n//2+1,n):\n",
    "        print((((n-i)*2-1)*\".|.\").center(m,\"-\"))\n",
    "        \n",
    "print(\"7*21 Mat\", print_mat(7,21), \"\\n\")\n",
    "print(\"9*27 Mat\", print_mat(9,27))\n",
    "\n",
    "#If you want to use conprehension\n",
    "def print_mat2(n,m):\n",
    "    #upper:\n",
    "    print('\\n'.join(((i*2-1)*\".|.\").center(m, \"-\") for i in range(1, n//2+1)))\n",
    "    #middle\n",
    "    print(\"WELCOME\".center(m, \"-\"))\n",
    "    #bottom\n",
    "    print('\\n'.join((((n-i)*2-1)*\".|.\").center(m, \"-\") for i in range(n//2+1, n)))\n",
    "\n",
    "#There is even a smart way to simplfy code:\n",
    "def print_mat3(n,m):\n",
    "    pattern = [('.|.'*(2*i + 1)).center(m, '-') for i in range(n//2)]\n",
    "    print('\\n'.join(pattern + ['WELCOME'.center(m, '-')] + pattern[::-1]))\n",
    "#since the pattern is left-right symmetric, we can loop the pattern from the end to beginning"
   ]
  },
  {
   "cell_type": "markdown",
   "metadata": {},
   "source": [
    "**Problem5.**String Formatting: Given an integer, n print the following values for each integer i from 1 to n:<br>\n",
    "1.Decimal, 2.Octal, 3.Hexadecimal(capitalized) 4.Binary<br>\n",
    "The output format must be formatted to the width of the binary value n. i.e.<br>\n"
   ]
  },
  {
   "cell_type": "code",
   "execution_count": 234,
   "metadata": {
    "ExecuteTime": {
     "end_time": "2019-09-30T21:43:39.738470Z",
     "start_time": "2019-09-30T21:43:39.726470Z"
    }
   },
   "outputs": [
    {
     "name": "stdout",
     "output_type": "stream",
     "text": [
      " 1  1  1  1\n",
      " 2  2  2 10\n"
     ]
    }
   ],
   "source": [
    "def print_fm(n):\n",
    "    width = len(\"{0:b}\".format(n))   #the width is the binary value of n\n",
    "    for i in range(1,n+1):\n",
    "        print(\"{0:{width}d} {0:{width}o} {0:{width}X} {0:{width}b}\".format(i, width = width))\n",
    "print_fm(2)"
   ]
  },
  {
   "cell_type": "code",
   "execution_count": 224,
   "metadata": {
    "ExecuteTime": {
     "end_time": "2019-09-30T21:38:12.439470Z",
     "start_time": "2019-09-30T21:38:12.433470Z"
    }
   },
   "outputs": [
    {
     "name": "stdout",
     "output_type": "stream",
     "text": [
      "10\n"
     ]
    }
   ],
   "source": [
    "print(\"{:2d}\".format(10))"
   ]
  },
  {
   "cell_type": "code",
   "execution_count": 220,
   "metadata": {
    "ExecuteTime": {
     "end_time": "2019-09-30T21:16:44.752470Z",
     "start_time": "2019-09-30T21:16:44.744470Z"
    }
   },
   "outputs": [
    {
     "name": "stdout",
     "output_type": "stream",
     "text": [
      "---------.|.---------\n",
      "------.|..|..|.------\n",
      "---.|..|..|..|..|.---\n",
      "-------WELCOME-------\n",
      "---.|..|..|..|..|.---\n",
      "------.|..|..|.------\n",
      "---------.|.---------\n"
     ]
    }
   ],
   "source": [
    "n, m = 7, 21\n",
    "#upper:\n",
    "print('\\n'.join(((i*2-1)*\".|.\").center(m, \"-\") for i in range(1, n//2+1)))\n",
    "#middle\n",
    "print(\"WELCOME\".center(m, \"-\"))\n",
    "#bottom\n",
    "print('\\n'.join((((n-i)*2-1)*\".|.\").center(m, \"-\") for i in range(n//2+1, n)))"
   ]
  },
  {
   "cell_type": "markdown",
   "metadata": {
    "ExecuteTime": {
     "end_time": "2019-09-13T20:09:58.320470Z",
     "start_time": "2019-09-13T20:09:58.317470Z"
    }
   },
   "source": [
    "### Numbers\n",
    "- int : a whole number , +,-, witout decimals of unlimited length\n",
    "- float : a floating point number(scientific number is also accepted)\n",
    "- complex : numbers followed by \"j\" as the imaginary part.\n",
    "Types can be converted from one to another one, using **int(), float(), complex()**. But complex numbers can not be converted to other number types.<br>\n",
    "**Be careful when calcualating, assign, update variables**\n",
    "\n",
    "- Random Number: if you want to generate random number, you can use functions of built-in modules such as **random** or **numpy**:\n",
    "         import random\n",
    "         print(random.randrange(1,10))\n",
    "         import numpy\n",
    "         print(numpy.randint(1,10))\n",
    "     \n"
   ]
  },
  {
   "cell_type": "code",
   "execution_count": 32,
   "metadata": {
    "ExecuteTime": {
     "end_time": "2019-09-16T18:45:50.767470Z",
     "start_time": "2019-09-16T18:45:50.763470Z"
    }
   },
   "outputs": [
    {
     "name": "stdout",
     "output_type": "stream",
     "text": [
      "3j\n"
     ]
    }
   ],
   "source": [
    "# x = 1, 20.5, 1j\n",
    "# x = int(2), float(20.5),float(-7e10), complex(1j)"
   ]
  },
  {
   "cell_type": "markdown",
   "metadata": {},
   "source": [
    "### Tuple \n",
    "**Tuple is a collection which is ordered and unimmutable(no change)**\n",
    "- Create a tuple:\n",
    "        tuple_1 = (\"China\",\"England\", \"Canada\", \"Korean\", \"Norway\", \"Spain\", \"Japan\")\n",
    "- Access Tuple items:\n",
    "        tuple_1[1]      >>England\n",
    "        tuple_1[-1]     >>Japan\n",
    "        tuple_1[2:5]    >>'Canada', 'Korean', 'Norway'  #start from 1st from left as index 0, index 2 is included, index 5 is excluded\n",
    "        tuple_1[-5, -2] >>\"Canada\", \"Korean\", \"Norway\"  #start from 1st from right as index -1, index -5 is included, index -2 is excluded\n",
    "- Change Tuple values: Once a tuple is created, you cannot change its value. But you can convert a tuple into a list, change the list and convert the list back to a tuple with the same variable name.\n",
    "        tuple_2 = (\"apple\", \"banana\", \"cherry\")\n",
    "        tuple_3 = list(x)\n",
    "        tuple_3[1] = \"kiwi\"\n",
    "        tuple_2 = tuple(tuple_3)\n",
    "- Loop through a Tuple using **for**\n",
    "- Check if Item exists using **in**\n",
    "- Tuple length using **len()**\n",
    "- Create Tuple with ONE Item, you need to add a comma after the item, otherwise, Python won't recognize the variable as tuple.\n",
    "        one_tuple = (\"tuple\", )\n",
    "        print(one_tuple.type())\n",
    "- Remove Items: **del** will delete the entire tuple \n",
    "        del one_tuple\n",
    "- Join two tuple using **+**\n",
    "        tuple_4 = tuple_1 + one_tuple\n",
    "        print(tuple_2, type(tuple_2))\n",
    "- tuple() Constructor: **Notice to use DOUBLE round-brackets\n",
    "        tuple_2 = tuple((\"apple\", \"banana\", \"peach\"))\n",
    "- Tuple Methods:\n",
    "        tuple_2.count(\"a\")    #return the occurance of a(item) in tuple x\n",
    "        tuple_2.index(\"a\")    #return the index of first occurance of a(item) if found, otherwise ERROR"
   ]
  },
  {
   "cell_type": "code",
   "execution_count": 52,
   "metadata": {
    "ExecuteTime": {
     "end_time": "2019-09-16T19:20:23.975470Z",
     "start_time": "2019-09-16T19:20:23.963470Z"
    }
   },
   "outputs": [
    {
     "name": "stdout",
     "output_type": "stream",
     "text": [
      "<class 'tuple'>\n",
      "banana peach\n",
      "<class 'tuple'>\n",
      "('apple', 'banana', 'peach', 'tuple') <class 'tuple'>\n",
      "3\n"
     ]
    },
    {
     "ename": "ValueError",
     "evalue": "tuple.index(x): x not in tuple",
     "output_type": "error",
     "traceback": [
      "\u001b[1;31m---------------------------------------------------------------------------\u001b[0m",
      "\u001b[1;31mValueError\u001b[0m                                Traceback (most recent call last)",
      "\u001b[1;32m<ipython-input-52-8d1fb972606e>\u001b[0m in \u001b[0;36m<module>\u001b[1;34m\u001b[0m\n\u001b[0;32m      8\u001b[0m \u001b[0mprint\u001b[0m\u001b[1;33m(\u001b[0m\u001b[0mtuple_2\u001b[0m\u001b[1;33m,\u001b[0m \u001b[0mtype\u001b[0m\u001b[1;33m(\u001b[0m\u001b[0mtuple_2\u001b[0m\u001b[1;33m)\u001b[0m\u001b[1;33m)\u001b[0m\u001b[1;33m\u001b[0m\u001b[0m\n\u001b[0;32m      9\u001b[0m \u001b[0mprint\u001b[0m\u001b[1;33m(\u001b[0m\u001b[0mtuple_2\u001b[0m\u001b[1;33m.\u001b[0m\u001b[0mindex\u001b[0m\u001b[1;33m(\u001b[0m\u001b[1;34m\"tuple\"\u001b[0m\u001b[1;33m)\u001b[0m\u001b[1;33m)\u001b[0m\u001b[1;33m\u001b[0m\u001b[0m\n\u001b[1;32m---> 10\u001b[1;33m \u001b[0mprint\u001b[0m\u001b[1;33m(\u001b[0m\u001b[0mtuple_2\u001b[0m\u001b[1;33m.\u001b[0m\u001b[0mindex\u001b[0m\u001b[1;33m(\u001b[0m\u001b[1;34m\"lemon\"\u001b[0m\u001b[1;33m)\u001b[0m\u001b[1;33m)\u001b[0m\u001b[1;33m\u001b[0m\u001b[0m\n\u001b[0m",
      "\u001b[1;31mValueError\u001b[0m: tuple.index(x): x not in tuple"
     ]
    }
   ],
   "source": [
    "tuple_1 = (\"apple\", \"banana\", \"peach\") \n",
    "#x = tuple((\"apple\", \"banana\", \"peach\"))\n",
    "print(type(x))\n",
    "print(x[1], x[-1])\n",
    "one_tuple = (\"tuple\", )\n",
    "print(type(one_tuple))\n",
    "tuple_2 = tuple_1 + one_tuple\n",
    "print(tuple_2, type(tuple_2))\n",
    "print(tuple_2.index(\"tuple\"))\n",
    "print(tuple_2.index(\"lemon\"))"
   ]
  },
  {
   "cell_type": "markdown",
   "metadata": {},
   "source": [
    "### List \n",
    "List is a collection which is **ordered** and **changeable**, written with square brackets.\n",
    "\n",
    "        list_1 = [\"apple\", \"banana\", \"peach\",\"cherry\", \"orange\", \"kiwi\"]\n",
    "- Access Items by referring to the **index number**:\n",
    "        list_1[1]      >>banana\n",
    "        list_1[-1]     >>peach\n",
    "        list_1[1:4]    >>'banana', 'peach', 'cherry'\n",
    "        list_1[-3, -1] >>'cherry', 'orange'\n",
    "- Change Item Value by assign new value to referred one:\n",
    "        list_1[3] = \"melon\"\n",
    "- Loop through by **for**\n",
    "- Check if exist by **if x in list_1**\n",
    "- List length by **len()**\n",
    "- Add item:\n",
    "  - **append()** which add a new item to the end of list:\n",
    "          list_1.append(\"pear\")\n",
    "  - **insert()** which add a new item to the specific index, shift right items to right(index + 1):\n",
    "          list_1.insert(1, \"pear\")\n",
    "- Remove Item:\n",
    "  - **remove()** which remove the specified item, shift right items to left(index - 1):\n",
    "          list_1.remove(\"banana\")\n",
    "  - **pop()** which will remove the specified index, or last item if index is not specified:\n",
    "          list_1.pop(1)\n",
    "          list_1.pop()\n",
    "  - **del** remove the specified index or entire list\n",
    "          del list_1[0]\n",
    "          del list_1\n",
    "  - **clear()** empty the list\n",
    "          list_1.clear()\n",
    "  - **sort(*, key = None, reverse = False)** sort the list with some order.\n",
    "          list_1.sort()\n",
    "- Combine lists:\n",
    "      list_2 = [1, 2, 3, 2, 4, 5, 9]\n",
    "  - create a list with all elements : \n",
    "         list_3 = list1 + list2 or\n",
    "         list_3 = list_1.extend(list_2)\n",
    "         for x in list_2:\n",
    "             list_1.append(x)\n",
    "         >> [\"apple\", \"banana\", \"peach\",\"cherry\", \"orange\", \"kiwi\",1, 2, 3, 2, 4, 5, 9] \n",
    "  - create a list contains two lists inside: \n",
    "         list_3 = [list1, list2]  or \n",
    "         >> [[\"apple\", \"banana\", \"peach\",\"cherry\", \"orange\", \"kiwi\"],\n",
    "              [1, 2, 3, 2, 4, 5, 9]]\n",
    "              \n",
    "**If you want to print a list without [], you can do * within print(). see following examples**"
   ]
  },
  {
   "cell_type": "code",
   "execution_count": 43,
   "metadata": {
    "ExecuteTime": {
     "end_time": "2019-09-27T21:13:00.108470Z",
     "start_time": "2019-09-27T21:13:00.091470Z"
    },
    "scrolled": true
   },
   "outputs": [
    {
     "name": "stdout",
     "output_type": "stream",
     "text": [
      "['apple', 'banana', 'peach', 'pear', 3, 1, 5]\n",
      "[['apple', 'banana', 'peach', 'pear'], [3, 1, 5]]\n",
      "\n",
      "Print list without the most outside [] line by line:\n",
      "['apple', 'banana', 'peach', 'pear']\n",
      "[3, 1, 5]\n"
     ]
    }
   ],
   "source": [
    "list_1 = [\"apple\", \"banana\", \"peach\"]\n",
    "#list_1 = [[\"id\", \"score\", \"year\"], [1,90,1992], [2, 80, 1993]]\n",
    "list_1 = list((\"apple\", \"banana\", \"peach\", \"pear\"))\n",
    "list_2 = [3, 1, 5]\n",
    "print(list_1 + list_2)\n",
    "print([list_1, list_2])\n",
    "print(\"\\nPrint list without the most outside [] line by line:\")\n",
    "print(*[list_1, list_2], sep = \"\\n\")"
   ]
  },
  {
   "cell_type": "markdown",
   "metadata": {},
   "source": [
    "### Dictionary\n",
    "A dictionary is a collection which is **unordered**, **changeable** and **indexed**. In Python dictionaries are written with curly brackets, and they have keys and values: \n",
    "            \n",
    "            dict_1 = {\"name\": \"peter\", \"age\" : 40, \"location\": \"US\"}\n",
    "\n",
    "- You can get the key names by **.keys()** method. \n",
    "        print(dict_1.keys())\n",
    "        >>dict_keys(['name', 'age'])\n",
    "  If you want to get the specific key name, convert it to list then you can use index.\n",
    "        print(list(dict_1.keys())[0])\n",
    "        >>name\n",
    "- You can access/change the items of a dictionary by **referring to its key name or using .get()**, just like the pd.DataFrame's column name\n",
    "      dict_1[\"name\"]           #call the element of name\n",
    "      dict_1[\"name\"] = 'John'  #change values\n",
    "- Loop through a dictionary, using **for**: with mentioning **.items()** method, it will loop through **key-value pairs**, with **.values()** it will loop through **values**:<br>\n",
    "      for x in dict_1:\n",
    "          print(x)             #print key names\n",
    "          print(dict_1[x])     #print all values in the dictionary\n",
    "      for x in dict_1.values():\n",
    "          print(x)             #return values in dict_1\n",
    "      for x,y in dict_1.items():\n",
    "          print(x,y)           #loop through both key and items.\n",
    "- Check it Key Exists: using **in**:\n",
    "      if \"Name\" in dict_1:\n",
    "          print(\"Yes, this key is in dict_1\")\n",
    "- Dictionary Length: using **len()**, which will return how many key-item pairs the dict has:\n",
    "       print(len(dict_1))\n",
    "- Adding items, just adding a new index key and assigning a value to it: \n",
    "       dict[\"state\"] = \"OK\"\n",
    "- Removing Items: \n",
    "        dict_1.pop(\"Age\")      #remove the pair of key and its item\n",
    "        dict_1.popitem()       #remove the last inserted item(before 3.7, it will remove a random item)\n",
    "        del dict_1[\"Age\"]      #remove the item with the specified key name(same as .pop()\n",
    "        del dict_1             #remove the entire dictionary\n",
    "        dict_1.clear()         #empty the dictionary\n",
    "- Copy a Dictionary using **.copy()**:\n",
    "        dict_1_1 = dict_1.copy() or\n",
    "        dict_1_1 = dict(dict_1)\n",
    "- Nested Dictionaries like list, a dictionary can contains many dicts:\n",
    "        myfamily = {\n",
    "          \"child1\" : {\n",
    "          \"name\" : \"Emil\",\n",
    "          \"year\" : 2004\n",
    "          },\n",
    "          \"child2\" : {\n",
    "          \"name\" : \"Tobias\",\n",
    "          \"year\" : 2007\n",
    "          },\n",
    "          \"child3\" : {\n",
    "          \"name\" : \"Linus\",\n",
    "          \"year\" : 2011\n",
    "          }\n",
    "        }\n",
    "- Multiple values for a Single key:\n",
    "    Generally, one key can **only** hold a single value. However, you are able to store multiple values for a single key by\n",
    "     - Use a tuple to represent the value of the key:\n",
    "             class1 = {\n",
    "                 \"John\" :(80, 80, 70, 90),\n",
    "                 \"Bob\" : (90, 70, 76, 88),\n",
    "                 \"Marry\" :(76, 82, 88, 72)\n",
    "                 }\n",
    "             print(class1[\"John\"][0])\n",
    "             >>80\n",
    "     - Use a list(array) to represent the value of the key:\n",
    "             class2 = {\n",
    "                 \"Name\" :[\"Chinese\", \"Math\", \"English\", \"Physics\"],\n",
    "                 \"John\" :[80, 80, 70, 90],\n",
    "                 \"Bob\" : [90, 70, 76, 88],\n",
    "                 \"Marry\" :[76, 82, 88, 72]\n",
    "                 }\n",
    "             print(class2[1], \"got \", class2[\"John\"][0], \"in \", class2[\"Name\"][0])\n",
    "             >>80\n",
    "     - Use a dictionary to represent the value of the key:\n",
    "     \n",
    "- dict() Constructor:\n",
    "        dict_2 = dict(name = \"peter\", age = 35) same as \n",
    "        dict_1 = {\"name\" :\"peter\", \"age\": 36} "
   ]
  },
  {
   "cell_type": "code",
   "execution_count": 77,
   "metadata": {
    "ExecuteTime": {
     "end_time": "2019-09-24T13:45:47.752470Z",
     "start_time": "2019-09-24T13:45:47.735470Z"
    }
   },
   "outputs": [
    {
     "name": "stdout",
     "output_type": "stream",
     "text": [
      "dict_keys(['name', 'age'])\n",
      "age\n",
      "80\n",
      "Bob got 90 in Chinese .\n"
     ]
    }
   ],
   "source": [
    "dict_1 = {\"name\" :\"peter\", \"age\": 36} \n",
    "dict_1 = dict(name = \"peter\", age = 35)\n",
    "print(dict_1.keys())\n",
    "print(list(dict_1.keys())[1])\n",
    "class1 = {\n",
    "    \"John\" :(80, 80, 70, 90),\n",
    "    \"Bob\" : (90, 70, 76, 88),\n",
    "    \"Marry\" :(76, 82, 88, 72)\n",
    "}\n",
    "print(class1[\"John\"][0])\n",
    "class2 = {\n",
    "    \"Name\" :[\"Chinese\", \"Math\", \"English\", \"Physics\"],\n",
    "    \"John\" :[80, 80, 70, 90],\n",
    "    \"Bob\" : [90, 70, 76, 88],\n",
    "    \"Marry\" :[76, 82, 88, 72]\n",
    "}\n",
    "#print( class2[\"Bob\"][0])\n",
    "print(list(class2.keys())[2], \"got\", class2[\"Bob\"][0], \"in\", class2[\"Name\"][0], \".\")"
   ]
  },
  {
   "cell_type": "markdown",
   "metadata": {},
   "source": [
    "### Set \n",
    "A set is a collection which is **unordered** and **unindexed**, written with curly brackets {}\n",
    "\n",
    "        set_1 = {\"apple\", \"banana\", \"peach\"}\n",
    "- Access Items: you cannot using index to access the items, since it's unordered and have no index. But you can \n",
    "- Loop through the set and print the items using **for**\n",
    "        for x in set_1:\n",
    "            print(x)  \n",
    "        >> peach, banana, apple\n",
    "- or check whether an item is **in** set or **not in**:\n",
    "        print(\"orange\" in set_1)\n",
    "        >> False\n",
    "- Change Items: once a set is created, you cannot change its items, but you can add new items by\n",
    "    - **add()** : add ONE new item\n",
    "            set_1.add(\"orange\")\n",
    "    - **update()** : add MULTIPLE new items\n",
    "            set_1.update([\"orange\", \"mango\", \"grapes\"])\n",
    "    **<font style = \"color: red\">Notice .add() and .update() method will change the orginal set</font>**\n",
    "- Set Length using **len()**\n",
    "- Remove Item using **remove()** or **discard()**\n",
    "            set_1.remove(\"apple\")\n",
    "            set_1.remove(\"Earth\") >> KeyError: 'Earth'\n",
    "            set_1.discard(\"Earth\") >>No change\n",
    "    **.pop()** will remove the **last** item of a set, but since set is unordered, the return result of each .pop() try will be different\n",
    "            set_1.clear() will empty the set\n",
    "            del set_1 will delete the set completely\n",
    "- Join Two Sets using **union()** to generate a new set which contains all elements from both sets, or **update()** to insert one set to second set(the second set will change). If you don't want to change any set, use **union()**.<br>\n",
    "    **Notice, both **union()** and **update()** will exclude any **duplicate items**.\n",
    "            set_1.union({1,2,5})\n",
    "     Other set methods:\n",
    "      - set_1.difference(set_2) : returns a subset of set_1 containing the difference between set_1 and set_2 \n",
    "      - set_2.difference(set_1) : returns a subset of set_2 containing the difference between set_1 and set_2\n",
    "      - set_1.difference_update(set_2) : removes intersection items in both sets of set_1\n",
    "      - set_1.intersection(set_2) : return intersection set.\n",
    "- set() constructor **remember DOUBLE round brackets**"
   ]
  },
  {
   "cell_type": "code",
   "execution_count": 61,
   "metadata": {
    "ExecuteTime": {
     "end_time": "2019-09-16T19:54:14.003470Z",
     "start_time": "2019-09-16T19:54:13.994470Z"
    }
   },
   "outputs": [
    {
     "name": "stdout",
     "output_type": "stream",
     "text": [
      "{'banana', 'peach', 'apple'}\n",
      "{'banana', 'peach', 'apple', 'orange'}\n",
      "{'orange', 'banana', 'peach', 'grape', 'watermelon', 'apple', 'cherry'}\n",
      "{'orange', 'banana', 'peach', 'grape', 'watermelon', 'apple', 'cherry'}\n",
      "{1, 2, 5}\n",
      "{'orange', 'banana', 'peach', 'grape', 'watermelon', 'apple', 'cherry'}\n",
      "{1, 2, 5}\n"
     ]
    }
   ],
   "source": [
    "set_1 = {\"apple\", \"banana\", \"peach\"} \n",
    "print(set_1)\n",
    "#set_1 = set((\"apple\", \"banana\", \"peach\"))\n",
    "set_1.add(\"orange\")\n",
    "print(set_1)\n",
    "set_1.update([\"grape\", \"watermelon\", \"cherry\"])\n",
    "print(set_1)\n",
    "set_1.discard(\"Earth\")\n",
    "print(set_1)\n",
    "#set_1.remove(\"Earth\")\n",
    "#print(set_1)\n",
    "set_2 = {1,2,5}\n",
    "print(set_2)\n",
    "#print(set_1.union(set2))\n",
    "#print(set_1.update(set2))\n",
    "print(set_1.difference(set_2))\n",
    "print(set_2.difference(set_1))"
   ]
  },
  {
   "cell_type": "markdown",
   "metadata": {},
   "source": [
    "### Array\n",
    "Similar to list, array is another way for store indexed, ordered and mutable data. Array usually comes from **numpy** module.\n",
    "<br>**Simiarities** between List and Array:\n",
    "- Storing data\n",
    "- can be indexed, mutated and iterated through\n",
    "- can be sliced and combine\n",
    "- method of accessing, iteration, looping, adding, removing, etc are almost the same\n",
    "\n",
    "**Differences**:\n",
    "- Numpy array must contain **similar data type** elements, while list allows different data types\n",
    "- Array are specially optimized for arithmetic(mathmatic calulation) which allows +-*/\n",
    "    ar = array([4,6,7,20, 12, 21, 30])\n",
    "    print(ar/2)"
   ]
  },
  {
   "cell_type": "code",
   "execution_count": 106,
   "metadata": {
    "ExecuteTime": {
     "end_time": "2019-09-17T20:54:53.013470Z",
     "start_time": "2019-09-17T20:54:52.995470Z"
    }
   },
   "outputs": [
    {
     "name": "stdout",
     "output_type": "stream",
     "text": [
      "Directly divided by 2 of an array:\n",
      " [ 2.   3.   3.5 10.   6.  10.5 15. ]\n",
      "Directly divided by 2 of a list is not executable, using function instead:\n",
      "[2.0, 3.0, 3.5, 10.0, 6.0, 10.5, 15.0]\n"
     ]
    }
   ],
   "source": [
    "import numpy as np\n",
    "ar = np.array([4,6,7,20, 12, 21, 30])\n",
    "print(\"Directly divided by 2 of an array:\\n\", ar/2)\n",
    "li = list((4,6,7,20, 12, 21, 30))\n",
    "print(\"Directly divided by 2 of a list is not executable, using function instead:\")\n",
    "print(list(map(lambda x: x/2, li)))"
   ]
  },
  {
   "cell_type": "markdown",
   "metadata": {},
   "source": [
    "### Dates\n",
    "There are modules allow us to use datetime to work with date as date objects. For example, **datetime** which are (modules(obejcts) contain 5 main classes and each of them contains lots of useful methods for calculation between dates.\n",
    "- date - Manipulate just date(month, day, year)\n",
    "- time - Time independent of the day(H, M, S, microsecond)\n",
    "- datetime - Combination of time and date\n",
    "- timedelta - Duration of time\n",
    "- tzinfo - time zone\n",
    "\n",
    "#### date\n",
    "    from datetime import date\n",
    "    today = date.today()\n",
    "    this_year = today.year\n",
    "    this_month = today.month\n",
    "    this_weekday = today.weekday()\n",
    " Additional to get the current date, datetime.date can also be used to convert non-date format to date-format as a date constructor\n",
    "     \n",
    "     datetime.date(2018, 4, 12)\n",
    "     >> 2018-04-12\n",
    "You can also create a date object from a **timestamp**(which is the number of seconds between a particular date and 1970-01-01 at UTC. You can do that by **fromtimestamp()** method\n",
    "\n",
    "    date.fromtimestamp(1326244364)\n",
    "    >>2012-01-11\n",
    "    \n",
    "#### time\n",
    "Similar to date, time object will return local time, and can be used as a constructor to create a time variable.\n",
    "\n",
    "    from datetime import time\n",
    "    print(time())\n",
    "    \n",
    "    this_time = time(hour = 11, minute = 34, second = 56)     # if nothing is passed to microsecond, it will 0 by default\n",
    "    this_hour = this_time.hour\n",
    "    this_minute = this_time.minute\n",
    "    this_second = this_time.second\n",
    "\n",
    "    "
   ]
  },
  {
   "cell_type": "code",
   "execution_count": 240,
   "metadata": {
    "ExecuteTime": {
     "end_time": "2019-09-20T14:14:10.342470Z",
     "start_time": "2019-09-20T14:14:10.331470Z"
    }
   },
   "outputs": [
    {
     "name": "stdout",
     "output_type": "stream",
     "text": [
      "Today is 2019-09-20\n",
      "Today is/20/9/2019\n",
      "Now is 09:14:10.338470\n",
      "Now is 11 34 56\n"
     ]
    }
   ],
   "source": [
    "td = dt.date.today()\n",
    "print(\"Today is\", td)\n",
    "print(\"Today is\", td.day, td.month, td.year, sep = \"/\")\n",
    "print(\"Now is\", dt.datetime.now().time())\n",
    "from datetime import time\n",
    "tt = time(11, 34,56)\n",
    "print(\"Now is\", tt.hour, tt.minute, tt.second)"
   ]
  },
  {
   "cell_type": "markdown",
   "metadata": {},
   "source": [
    "#### datetime\n",
    "In datetime, you can get the current time by the following code, which is a subfunction of datetime object.\n",
    "\n",
    "      x = dt.datetime.now()\n",
    "And then its methods to get year, month, weekday...\n",
    "\n",
    "      x.year()\n",
    "      x.timestamp()\n",
    "You can also convert a string to datetime data type by passing values to the constructor :\n",
    "\n",
    "      x = dt.datetime(2020, 5, 17)\n",
    " - Methods:<br>\n",
    "   **strftime()** --datetime object to string\n",
    "   is used to format date objects into readable strings by taking one parameter **format** to specify the format of returning string, which is defined under **date, datetime, time** classes. \n",
    "       x.strftime(\"%B%)\n",
    "       dt.datetime.now().strftime(\"%m/%d/%y, %H:%M:%S\")\n",
    "       \n",
    "    **striptime()** - string to datetime\n",
    "    is used to convert string to datetime format by given 2 arguments: \n",
    "    - a string representing date and time\n",
    "    - fromat code equivalent tot the first argument\n",
    "        \n",
    "            datetime.strptime(\"21 June, 2018\",  \"%d %B, %Y\")    \n",
    "            >> 2018-06-21 00:00:00\n",
    "       \n",
    "  The commonly used detailed format code reference is in below chart.\n",
    "  \n",
    "| Code | Description                                  | Example              |\n",
    "|------|----------------------------------------------|----------------------|\n",
    "| %a   | Weekday in Short Version                     | Wed                  |\n",
    "| %A   | Weekday in full version                      | Wednesday            |\n",
    "| %w   | Weekday as integer, 0-Sun, 6-Sat             | 0,...,6              |\n",
    "| %d   | Date of the month from 01 to 31              | 01, ...31            |\n",
    "| %b   | Month in avvreviated name                    | Jan, Feb             |\n",
    "| %B   | Month in full name                           | January              |\n",
    "| %m   | Month as number                              | 01,...,12            |\n",
    "| %y   | Year in short version from 00 to 99        | 2019                 |\n",
    "| %Y   | Year in full version from 0000 to 9999       | 2019                 |\n",
    "| %H   | Hour(24-hour clock) from 00 to 23            | 00, ..., 23          |\n",
    "| %I   | Hour(12-hour clock) from 01 to 12            | 01, ..., 12          |\n",
    "| %p   | AM, PM                                       | AM, PM               |\n",
    "| %M   | Minute                                       | 00, ...,59           |\n",
    "| %S   | Second                                       | 00, ..,59            |\n",
    "| %f   | Microsecond from 000000 to 9999999           |                      |\n",
    "| %z   | Time zone                                    | +0100                     |\n",
    "| %Z   | Time zone name                               | UTC, EST, CST        |\n",
    "| %j   | Day of year from 001                         | 001,...,366          |\n",
    "| %U   | Week number of year, Sun is the first day of a week| 00,..., 53      |\n",
    "| %W   | Week numner of year, Mon is the first day of a week          | 00, ..., 53                     |\n",
    "| %c   | Convert number format to name format | Tue Aug 19 17:30:00    |\n",
    "| %x   | local version of date | 12/31/18    |\n",
    "| %X   | local version of time| 17:41:21  |\n",
    "| %%   | A % character| %    |\n",
    "\n"
   ]
  },
  {
   "cell_type": "code",
   "execution_count": 209,
   "metadata": {
    "ExecuteTime": {
     "end_time": "2019-09-19T21:44:24.299470Z",
     "start_time": "2019-09-19T21:44:24.292470Z"
    }
   },
   "outputs": [
    {
     "name": "stdout",
     "output_type": "stream",
     "text": [
      "2019-09-19 16:44:24.294470\n",
      "<method 'date' of 'datetime.datetime' objects>\n",
      "Thursday\n",
      "2019-09-19 00:00:00\n"
     ]
    }
   ],
   "source": [
    "import datetime as dt\n",
    "print(dt.datetime.now())\n",
    "print(dt.datetime.date)\n",
    "print(dt.datetime.now().strftime(\"%A\"))\n",
    "print(dt.datetime(2019, 9, 19))"
   ]
  },
  {
   "cell_type": "markdown",
   "metadata": {},
   "source": [
    "#### timedelta\n",
    "You can get the time difference between two dates, however it's in date unit, if you want to convert to year or month, you can use other modules or just simply divided by 365.2425 to get the year, or 30.436875 to get the month.<br>\n",
    "The module you can use is **dateutil.relativedelta**"
   ]
  },
  {
   "cell_type": "code",
   "execution_count": 231,
   "metadata": {
    "ExecuteTime": {
     "end_time": "2019-09-20T13:30:06.420470Z",
     "start_time": "2019-09-20T13:30:06.412470Z"
    }
   },
   "outputs": [
    {
     "name": "stdout",
     "output_type": "stream",
     "text": [
      "My age is 26.43175424546705\n"
     ]
    }
   ],
   "source": [
    "dob = dt.date(1993,4,14)\n",
    "print(\"My age is {}\".format((td-dob).days/365.2425))"
   ]
  },
  {
   "cell_type": "code",
   "execution_count": 233,
   "metadata": {
    "ExecuteTime": {
     "end_time": "2019-09-20T13:40:03.856470Z",
     "start_time": "2019-09-20T13:40:03.836470Z"
    }
   },
   "outputs": [
    {
     "name": "stdout",
     "output_type": "stream",
     "text": [
      "My age is 26\n"
     ]
    },
    {
     "data": {
      "text/plain": [
       "datetime.date(1993, 9, 19)"
      ]
     },
     "execution_count": 233,
     "metadata": {},
     "output_type": "execute_result"
    }
   ],
   "source": [
    "from dateutil.relativedelta import relativedelta\n",
    "#1. get the year diff\n",
    "print(\"My age is {}\".format(relativedelta(td, dob).years))\n",
    "\n",
    "#2. you can also get the original year by adding the year_diff\n",
    "def yeardiff(years, from_date = None):\n",
    "    if from_date is None:\n",
    "        from_date = td\n",
    "    return from_date - relativedelta(years = years)\n",
    "yeardiff(26)"
   ]
  },
  {
   "cell_type": "markdown",
   "metadata": {},
   "source": [
    "When you use timedelta as a constructor with parameters assigned, then the difference between 2 timedelta variables can return the readable result."
   ]
  },
  {
   "cell_type": "code",
   "execution_count": 243,
   "metadata": {
    "ExecuteTime": {
     "end_time": "2019-09-20T14:23:03.109470Z",
     "start_time": "2019-09-20T14:23:03.093470Z"
    }
   },
   "outputs": [
    {
     "name": "stdout",
     "output_type": "stream",
     "text": [
      "t3 = 14 days, 13:55:39\n",
      "1259739.0\n"
     ]
    }
   ],
   "source": [
    "t1 = dt.timedelta(weeks = 2, days = 5, hours = 1, seconds = 33)\n",
    "t2 = dt.timedelta(days = 4, hours = 11, minutes = 4, seconds = 54)\n",
    "t3 = t1 - t2\n",
    "print(\"t3 =\", t3)\n",
    "print(t3.total_seconds())"
   ]
  },
  {
   "cell_type": "markdown",
   "metadata": {},
   "source": [
    "#### TimeZone\n",
    "It's easier to use **pytZ** module, which provides timezone with location, i.e. tz_NY, tz_London, allows user to convert easily. For example:\n",
    "\n",
    "    local = dt.datetime.now()\n",
    "    tz_NY = pytz.timezone(\"America/New_York\")\n",
    "    datetime_NY = dt.datetime.now(tz_NY)\n",
    "You can visit <a href = \"https://gist.github.com/heyalexej/8bf688fd67d7199be4a1682b3eec7568\">here</a> to see the full list of timezone code"
   ]
  },
  {
   "cell_type": "code",
   "execution_count": 253,
   "metadata": {
    "ExecuteTime": {
     "end_time": "2019-09-20T14:43:43.212470Z",
     "start_time": "2019-09-20T14:43:43.197470Z"
    }
   },
   "outputs": [
    {
     "name": "stdout",
     "output_type": "stream",
     "text": [
      "CST time is  2019-09-20 09:43:43.206470\n",
      "New York time is  2019-09-20 10:43:43.206470-04:00\n",
      "Shanghai time is  2019-09-20 22:43:43.207470+08:00\n"
     ]
    }
   ],
   "source": [
    "import pytz\n",
    "\n",
    "print(\"CST time is \", dt.datetime.now())\n",
    "tz_NY = pytz.timezone(\"America/New_York\")\n",
    "datetime_NY = dt.datetime.now(tz_NY)\n",
    "print(\"New York time is \", datetime_NY)\n",
    "tz_SH = pytz.timezone(\"Asia/Shanghai\")\n",
    "datetime_SH = dt.datetime.now(tz_SH)\n",
    "print(\"Shanghai time is \", datetime_SH)"
   ]
  },
  {
   "cell_type": "markdown",
   "metadata": {},
   "source": [
    "### Others\n",
    "- frozenset x = frozenset({\"apple\", \"banana\", \"peach\"})\n",
    "- bool x = True /x = bool(5)\n",
    "- bytes x = b\"Hello\" /x = bytes(5)\n",
    "- bytearray x = bytearray(5) /x = bytearry(5)\n",
    "- memoryview x = memoryview(bytes(5)) /x = memoryview(bytes(5))"
   ]
  },
  {
   "cell_type": "markdown",
   "metadata": {},
   "source": [
    "### Regular Expression\n",
    "A Regular Expression is a sequence of characters that defines a search pattern, using **re** module.\n",
    "\n",
    "#### Specify Pattern Using RegEx\n",
    "**Meta Characters**:<br>\n",
    "\n",
    "            [] . ^ $ * + ? {} () \\ | \n",
    "- **[ ]** is square bracket, specifies a set of characters you wish to match:\n",
    "        for Expression: [re] \n",
    "        - 'repeat' has 1 match\n",
    "        - 'represent' has 2 matches\n",
    "        - 'Hey' has NO matches\n",
    "\n",
    " You can also specify a range of characters using <b>*</b> inside the square brackets:\n",
    " - [a-e] = [abcde]\n",
    " - [1-4] = [1234]\n",
    " - [0-39] = [01239]\n",
    " \n",
    " You can also complement the character set by **^** symbol at the start of [ ]:\n",
    " - [^abc] = any characters except a, b, c\n",
    " - [^0-9] = any non-digit character\n",
    "\n",
    "- **.** is a Period, served as placeholder, matches any single characters(except newline '\\n':<br>\n",
    "        for Expression: ..\n",
    "        - a has NO match\n",
    "        - ab has 1 match\n",
    "        - abcde has 2 match\n",
    "        - abcdef has 3 match\n",
    "- **^** is Caret, is used to check if a string **start with* a certain character.<br>\n",
    "        for Expression: ^a\n",
    "        - a has 1 match\n",
    "        - ab has 1 match\n",
    "        - cde has No match\n",
    "        for Expression: ^ab\n",
    "        - a has NO match\n",
    "        - ab has 1 match\n",
    "        - abnormal has 1 match\n",
    "        - acdef has No match\n",
    "- **\\$** is Dollar, is used to check if a string **ends with** a certain character.<br>\n",
    "        for Expression: a$\n",
    "        - 'Formula' has 1 match\n",
    "        - 'Dragon' has No match\n",
    "- **\\*** is star, is used to match **zero or more occurances** of the pattern left to it.(Repeat of the left character for >=0 times, but the right should always be next to that character for match.<br>\n",
    "        for Expression: os*i\n",
    "        - 'opposite' has 1 match --> [osi]\n",
    "        - 'oasis' has No match   --> because o is not followed by s directly\n",
    "        - 'oil' has 1 match      --> s is allowed to not show up between o and i\n",
    "- **+** is plus, is used to match **one or more occurences** of the pattern left to it. (Repeat of the left character for >=1) \n",
    "        for Expression: os+i\n",
    "        - 'opposite' has 1 match --> [osi]\n",
    "        - 'oasis' has No match   --> because o is not followed by s directly\n",
    "        - 'oil' has NO match      --> s must show up at least one time between o and i\n",
    "- **\\?** is Question mark, is used to match **zero or one occurence** of the pattern left to it. (Repeat of the left character for 0 or 1)\n",
    "        for Expression: os?i\n",
    "        - 'opposite' has 1 match --> [osi]\n",
    "        - 'possible' has No match   --> because s has >=1 between o and i\n",
    "        - 'oil' has 1 match      --> s is allowed to not show up between o and i\n",
    "\n",
    "\n",
    "\n",
    "\n",
    "\n",
    "\n",
    "\n",
    "\n",
    "\n",
    "\n",
    "For details you can refer to <a href = 'https://docs.python.org/3.5/library/re.html'>Python RegEx tutorial</a>\n"
   ]
  },
  {
   "cell_type": "markdown",
   "metadata": {},
   "source": [
    "### Tips\n",
    "#### Convert list to string\n",
    "Using **.join()** to convert **a list of strings** into one string.(Other datatype is NOT allowed) i.e.\n",
    "        \n",
    "    mylist1 = ['spam', 'ham', 'turkey', 'beef']\n",
    "    print(','.join(mylist)\n",
    "    >>spam, ham, turkey, beef\n",
    "    mylist2 = ['h', 'A', 'C', 'K', 'E', 'R', 'r', 'A', 'N', 'K', '.', 'C', 'O', 'M', ' ', 'P', 'R', 'E', 'S', 'E', 'N', 'T', 'S', ' ', '\"', 'p', 'Y', 'T', 'H', 'O', 'N', 'I', 'S', 'T', ' ', '2', '\"', '.']\n",
    "    print(''.join(mylist2)\n",
    "    >>hACKERrANK.COM PRESENTS \"pYTHONIST 2\".\n",
    "  \n",
    "Using **str.strip()**\n",
    "\n",
    "    inlist = [90,70,88,64]\n",
    "    print(str(inlist).strip('[]')\n",
    "    >>90,70,88,64\n",
    "\n",
    " Or you can using **map()** to convert non-string to string, them join them as One string:\n",
    "     \n",
    "     print(', '.join(map(str, inlist)))\n",
    "     >>90, 70, 88, 64"
   ]
  },
  {
   "cell_type": "code",
   "execution_count": 72,
   "metadata": {
    "ExecuteTime": {
     "end_time": "2019-09-30T14:58:08.720470Z",
     "start_time": "2019-09-30T14:58:08.712470Z"
    }
   },
   "outputs": [
    {
     "name": "stdout",
     "output_type": "stream",
     "text": [
      "spam, ham, turkey, beef\n",
      "90, 70, 88, 64\n",
      "90: 70: 88: 64\n"
     ]
    }
   ],
   "source": [
    "mylist1 = ['spam', 'ham', 'turkey', 'beef']\n",
    "print(', '.join(mylist1))\n",
    "mylist3 = [90,70,88,64]\n",
    "print(str(mylist3).strip('[]'))\n",
    "print(': '.join(map(str, mylist3)))"
   ]
  },
  {
   "cell_type": "markdown",
   "metadata": {},
   "source": [
    "## Conditions and If Statements\n",
    "### If...Else\n",
    "    if cA1 Comparison_Operator1 cB1 and cA2 Comparison_Operator2 cB2:\n",
    "        do_statementA\n",
    "    elif cA3 Comparison_Operator3 cB3 or cA4 Comparison_Operator4 cB4\"\n",
    "        do_statementB\n",
    "    ...\n",
    "    else:\n",
    "        do_statementN\n",
    "        \n",
    "Short Version:\n",
    "    - if a > b: print(\"haha\")\n",
    "    - print(\"A\") if a > b else print(\"B\")\n",
    "    - print(\"A\") if a > b else print(\"=\") if a == b else print(\"B\")"
   ]
  },
  {
   "cell_type": "markdown",
   "metadata": {},
   "source": [
    "## Iteration and Loop    \n",
    "### While Loop\n",
    "**While** loop will execute a set of statements as long as a condition is True.\n",
    "\n",
    "        i = 1\n",
    "        while i < 6:\n",
    "          print(i)\n",
    "          i += 1\n",
    "        >> 1,2,3,4,5\n",
    "**<font style=\"color:red\">Remember to always increment i, otherwise the loop will never end.</font>**          \n",
    "\n",
    "**Break** enables us to stop the loop even if the while condition is True:\n",
    "\n",
    "    i = 1\n",
    "    while i < 6:\n",
    "      print(i)\n",
    "      if i == 3:\n",
    "        break\n",
    "      i += 1\n",
    "    >> 1,2,3\n",
    "**continue** enables us to stop the current iteration, and continue with the next\n",
    "\n",
    "    i = 1\n",
    "    while i < 6:\n",
    "      print(i)\n",
    "      if i == 3:\n",
    "        continue\n",
    "      i += 1\n",
    "    >> 1,2,4,5\n",
    "**else** enables us to run another block of code once when the condition no longer is true:\n",
    "\n",
    "    i = 1\n",
    "    while i < 6:\n",
    "      print(i)\n",
    "      i += 1\n",
    "    else:\n",
    "      print(\"i is no longer less than 6\")\n",
    "    >>1,2,3,4,5,\"i is no longer less than 6\"\n",
    "**if you want to modify the result format, you can go refer to 1.8 Print** "
   ]
  },
  {
   "cell_type": "markdown",
   "metadata": {},
   "source": [
    "### For Loop\n",
    "A for loop is used for iterating over a sequence(either tuple, list, dictionary, set or string), once for each item.\n",
    "\n",
    "    for x in list((\"apple\", \"banana\", \"peach\")):\n",
    "        print(x)\n",
    "    >> apple, banana, peach\n",
    "    for x in \"apple\":\n",
    "        print(x)\n",
    "    >>a,p,p,l,e\n",
    "**break** enables us to stop the loop before it has looped through all the items:\n",
    "\n",
    "    for x in list((\"apple\", \"banana\", \"peach\")):\n",
    "        print(x)\n",
    "        if x == \"banana\":\n",
    "            break\n",
    "    >>apple, banana\n",
    "**continue** enables us to skip current iteration and continue the next:\n",
    "\n",
    "    for x in list((\"apple\", \"banana\", \"peach\")):\n",
    "        if x == \"banana\":\n",
    "            continue\n",
    "        print(x)\n",
    "    >>apple, peach\n",
    "**range()** which returns a sequence of numbers, starting from 0 by default, and increments by 1 by default, and ends at a specified number(-1). <br>**<font style=\"color:red\">range(start, end, step). Remember the end is excluded.</font>**\n",
    "\n",
    "    for x in range(2,10,2):\n",
    "        print(x)\n",
    "    >>2,4,6,8\n",
    "**else** enables to execute another block of code when the loop is finished:\n",
    "\n",
    "    for x in range(2,10,2):\n",
    "        print(x)\n",
    "    else: print(\"Done\")\n",
    "    >>2,4,6,8, Done\n",
    "**nested loops**:\n",
    "\n",
    "    for x in list((\"apple\", \"banana\", \"peach\")):\n",
    "        for y in range(2,8,2)\n",
    "            print(x,y)"
   ]
  },
  {
   "cell_type": "markdown",
   "metadata": {},
   "source": [
    "## Function\n",
    "### Basic Function\n",
    "Function allows to exclude a customized block of codes. Only list several points need to remember:\n",
    "**keyword arguments**: You can set the default value for **all** parameters, it will execute with defult values when there is no parameter passed.\n",
    "\n",
    "    def mu_function(country = \"US\", name = \"John\"):\n",
    "        print(\"My name is {}, and I come from {}\".format(name, country))\n",
    "    >>mu_fucntion(\"China\", \"JinJin\")\n",
    "    >>mu_function()\n",
    "    >>mu_function(name = \"Ash\", country = \"Canada\")\n",
    "**Arbitrary Arguements**: if you don't know how many arguments that will be passed into your function, add a * before the parameter. This way, the function will receive a tuple of arguments to access the item accordingly.\n",
    "\n",
    "    def mu_function(*countries):\n",
    "        print(\"I come from {}\".format(countries[2])\n",
    "    >>mu_function(\"China\", \"US\", \"Canada\") : I come from Canada"
   ]
  },
  {
   "cell_type": "code",
   "execution_count": 73,
   "metadata": {
    "ExecuteTime": {
     "end_time": "2019-09-17T14:11:19.635470Z",
     "start_time": "2019-09-17T14:11:19.621470Z"
    }
   },
   "outputs": [
    {
     "name": "stdout",
     "output_type": "stream",
     "text": [
      "My name is Jinjin, and I come from China\n",
      "My name is John, and I come from US\n",
      "My name is Ash, and I come from Canada\n"
     ]
    }
   ],
   "source": [
    "def mu_function(country=\"US\", name=\"John\"):\n",
    "        print(\"My name is {}, and I come from {}\".format(name, country))\n",
    "mu_function(\"China\",\"Jinjin\")\n",
    "mu_function()\n",
    "mu_function(name = \"Ash\", country = \"Canada\")"
   ]
  },
  {
   "cell_type": "markdown",
   "metadata": {},
   "source": [
    "### Lambda\n",
    "A lambda function is a small anonymous function without function name, which can take any number of arguments, but can only have one expression.<br> \n",
    "\n",
    "    x = lambda a, b : a*b\n",
    "    print(x(4,5)) \n",
    "    >> 20\n",
    "    def myfunc(n):\n",
    "        return lambda a: a* n\n",
    "    mydoubler = myfunc(2)    # returns 2a\n",
    "    print(mydoubler(11))     #take a = 11 in mydoubler(a)\n",
    "    >> 22\n",
    "The power of lambda is it can be used inside another function, especially built-in functions like **filter(), map(), reduce()** \n",
    "- filter(function_to_apply, list_of_inputs): which takes a **list** and a **condition** as arguments and filter elements when the condition is True. Similar to filter(). i.e.\n",
    "- map(): which takes a **list** and a **condition** as arguments and return a new list which contains all the lambda modified items. similar to apply(list, 2, function). i.e.\n",
    "- reduce(): which takes a **list** and a **condition** as arguments and return a repetitive result based on the following logic:<br>\n",
    "<img src = \"reduce.png\" width = 300  height = 200><br>\n",
    "<font style = \"color: blue\">**Notice, the lambda function will slow down the execution speed than functions without using lambda.<br>\n",
    "Since dict, list comprehension and lambda function commonly can write in each other, but almost alway, list/dict/set comprehension are preferred.**</font>"
   ]
  },
  {
   "cell_type": "code",
   "execution_count": 99,
   "metadata": {
    "ExecuteTime": {
     "end_time": "2019-09-17T20:10:09.050470Z",
     "start_time": "2019-09-17T20:10:09.034470Z"
    }
   },
   "outputs": [
    {
     "name": "stdout",
     "output_type": "stream",
     "text": [
      "filter() result:\n",
      " [5, 9, 19, 21, 79, 97]\n",
      "map() result:\n",
      " [10, 12, 16, 18, 38, 42, 84, 112, 158, 180, 194]\n",
      "reduce() result:\n",
      " 432\n"
     ]
    }
   ],
   "source": [
    "    li = [5,6,8,9,19, 21, 42, 56, 79, 90, 97]\n",
    "    odd_li = list(filter(lambda x: (x %2 !=0), li))\n",
    "    print(\"filter() result:\\n\", odd_li)\n",
    "    double_li = list(map(lambda x: x*2, li))\n",
    "    print(\"map() result:\\n\", double_li)\n",
    "    from functools import reduce\n",
    "    sum_li = reduce((lambda x, y: x + y), li)\n",
    "    print(\"reduce() result:\\n\", sum_li)"
   ]
  },
  {
   "cell_type": "markdown",
   "metadata": {},
   "source": [
    "### Comprehension\n",
    "Comprehensions are constructs that allow sequences to be built from other sequences, there are list, dict, set and generator comprehension in python3 and later.\n",
    "- **List Comprehension**:\n",
    "            output_list = [Ouput_Expression for var in input_list if (some_condition)]  \n",
    "            ^ you want to do from right to left\n",
    "            [e**2 for e in [1,2,3,4] if e %2 == 0]\n",
    "    equal to:\n",
    "            o = []\n",
    "            for e in [1,2,3,4]:\n",
    "                if e%2 ==0:\n",
    "                    o.append(e**2)\n",
    "    equal to:\n",
    "            list(map(lambda x: x**2, list(filter(lambda x: x%2 ==0, [1,2,3,4]))))\n",
    "            >>[4, 16]\n",
    "    Which list comprehension is much brief code and faster since it does not need 2 calls of **lambda** since Python calls are expensive. Additionally, list comprehension generate list immediately without another conversion.\n",
    "    \n",
    "- **Nested Comprehensions**: allows you to contain mutiple for loops and if conditions.<br>\n",
    "    Imaging we want to generate a 3x3 matrix:\n",
    "        [ [1,0,0],\n",
    "          [0,1,0],\n",
    "          [0,0,1]]\n",
    "    Comprehension way:\n",
    "        [[1 if item_idx == row_idx else 0 for item_idx in range(0,3) ] for row_idx in range(0,3)]\n",
    "\n",
    "- **Dictionary Comprehension**: similar to list comprehension which can generate new dict from dict or list<br>\n",
    "        output_dict = {key: value(output expression) for (key,value) in iterable if (key, value with some_condition)}\n",
    "        stu_dict = {\"Bob\":90, \"John\": 87, \"Kris\":80, \"Angela\": 65}\n",
    "        score80 = {stu:score for stu, score in stu_dict.items() if score >80}\n",
    "        >>{\"Bob\":90, \"John\": 87}\n",
    "        {var:var**3 for var in range(1,10) if var%2 ==0}\n",
    "        >>{2: 8, 4: 64, 6: 216, 8: 512}\n",
    "- **Set Comprehension**: similar to list comprehension, the only difference is set comprehension using **{}** instead of **[]**.\n",
    "        {var for var in range(1,20) if var %3==1}\n",
    "        >>{4,7, 13, 16, 19}\n",
    "- **Generator Comprehension**: similar to list comprehension, the only difference is set comprehension using **()** instead of **[]**.\n",
    "        (var for var in range(1,20) if var %3==1)\n",
    "        >>(4,7, 13, 16, 19)\n",
    "   **Instead of creating a list and keeping the whole sequence in memory, the generator generates the next element in demand.** When a normal function with a return statement is called, it terminates whenever it gets a return statement. Thus, in the view of both memory occupation and time consumption, generator comprehension is more efficient than list comprehension.\n",
    "\n",
    "Remember you can always give the output expressions, including if-else statement. i.e.\n",
    "\n",
    "    Problem: convert lower case to upper, upper to lower.\n",
    "    input = HackerRank.com presents \"Pythonist 2\".\n",
    "    \n",
    "    def swap_case(s):\n",
    "        return ''.join([i.lower() if i.isupper() else i.upper() for i in s])\n",
    "    print(swap_case(input))\n",
    "    >>hACKERrANK.COM PRESENTS \"pYTHONIST 2\"."
   ]
  },
  {
   "cell_type": "code",
   "execution_count": 274,
   "metadata": {
    "ExecuteTime": {
     "end_time": "2019-09-26T22:16:48.483994Z",
     "start_time": "2019-09-26T22:16:48.467992Z"
    }
   },
   "outputs": [
    {
     "name": "stdout",
     "output_type": "stream",
     "text": [
      "[4, 16]\n",
      "Map result [4, 16]\n",
      "List Comprehension of square of even number result:  [4, 16]\n",
      "List Comprehension to generate matrix: [[1, 0, 0], [0, 1, 0], [0, 0, 1]]\n",
      "\n",
      "Dict Comprehension of triple square of even num:  {2: 8, 4: 64, 6: 216, 8: 512}\n",
      "Set Comprehension of filtering Asian Country: {80, 90, 70}\n"
     ]
    }
   ],
   "source": [
    "o = []\n",
    "for e in [1,2,3,4]:\n",
    "    if e%2 ==0:\n",
    "        o.append(e**2)\n",
    "print(o)\n",
    "print(\"Map result\", list(map(lambda x: x**2, list(filter(lambda x: x%2 ==0, [1,2,3,4])))))\n",
    "print(\"List Comprehension of square of even number result: \", [e**2 for e in [1,2,3,4] if e %2 == 0])\n",
    "print(\"List Comprehension to generate matrix:\", [[1 if item_idx == row_idx else 0 for item_idx in range(0,3) ] for row_idx in range(0,3)])\n",
    "print()\n",
    "print(\"Dict Comprehension of triple square of even num: \", {var:var**3 for var in range(1,10) if var%2 ==0})\n",
    "print()\n",
    "print(\"Set Comprehension of filtering Asian Country:\", {ms for st, ms in stu_dict.items() if st in male_stu })"
   ]
  },
  {
   "cell_type": "markdown",
   "metadata": {},
   "source": [
    "#### Problems\n",
    "**Problem1.** Given X,Y,Z and N as integer, print a list of all possible corrdinates given by (i,j,k) where i+j+k !=N with 0<=i<=X, 0 <=j<=Y and 0<=k <= Z. i.e.\n",
    "\n",
    "    Input: X = 1\n",
    "           Y = 1\n",
    "           Z = 1\n",
    "           N = 2\n",
    "    Output: [[0,0,0], [0,0,1],[0,1,0],[1,0,0], [1,1,1]]\n"
   ]
  },
  {
   "cell_type": "code",
   "execution_count": 325,
   "metadata": {
    "ExecuteTime": {
     "end_time": "2019-09-27T18:23:40.072470Z",
     "start_time": "2019-09-27T18:23:40.060470Z"
    }
   },
   "outputs": [
    {
     "data": {
      "text/plain": [
       "[[0, 0, 0], [0, 0, 1], [0, 1, 0], [1, 0, 0], [1, 1, 1]]"
      ]
     },
     "execution_count": 325,
     "metadata": {},
     "output_type": "execute_result"
    }
   ],
   "source": [
    "#method1 -- with normal for loop\n",
    "def lc_func(X,Y,Z,N):\n",
    "    re = []\n",
    "    for i in range(X+1):\n",
    "        for j in range(Y+1):\n",
    "            for k in range(Z + 1):\n",
    "                if i+j+k != N:\n",
    "                    re.append([i,j,k])\n",
    "    return re\n",
    "print(lc_func(1,1,1,2))\n",
    "print([[i,j] for i in range(X+1) for j in range(Y+1) if i+j != N])"
   ]
  },
  {
   "cell_type": "code",
   "execution_count": 326,
   "metadata": {
    "ExecuteTime": {
     "end_time": "2019-09-27T18:26:47.653470Z",
     "start_time": "2019-09-27T18:26:47.635470Z"
    }
   },
   "outputs": [
    {
     "data": {
      "text/plain": [
       "[[0, 0, 0], [0, 0, 1], [0, 1, 0], [1, 0, 0], [1, 1, 1]]"
      ]
     },
     "execution_count": 326,
     "metadata": {},
     "output_type": "execute_result"
    }
   ],
   "source": [
    "#method2 -- list comprehension\n",
    "def lc_func2(X,Y,Z,N):\n",
    "    return [[i,j,k] for i in range(X+1) for j in range(Y+1) for k in range(Z+1) if i+j+k != N]\n",
    "lc_func2(1,1,1,2)"
   ]
  },
  {
   "cell_type": "markdown",
   "metadata": {},
   "source": [
    "**Problem2**:<br>\n",
    "Give a string with number of list-method command, run each command. <BR>\n",
    "The first line contains an integer, N, denoting the number of commands. Each line i of the n subsequent lines contains one of the command. For each command of type print, print the list on a new line.<br>\n",
    "Constraint is the elements added to the list must be integers.\n",
    "1. insert i e: Insert integer  at position .\n",
    "2. print: Print the list.\n",
    "3. remove e: Delete the first occurrence of integer .\n",
    "4. append e: Insert integer  at the end of the list.\n",
    "5. sort: Sort the list.\n",
    "6. pop: Pop the last element from the list.\n",
    "7. reverse: Reverse the list.\n",
    "    \n",
    "See the following example:<br>**Notice the input is one line a time**"
   ]
  },
  {
   "cell_type": "code",
   "execution_count": 10,
   "metadata": {
    "ExecuteTime": {
     "end_time": "2019-09-27T20:41:55.066470Z",
     "start_time": "2019-09-27T20:41:55.051470Z"
    }
   },
   "outputs": [
    {
     "name": "stdout",
     "output_type": "stream",
     "text": [
      "Sample Input:\n",
      "12\n",
      "insert 0 5\n",
      "insert 1 10\n",
      "insert 0 6\n",
      "print\n",
      "remove 6\n",
      "append 9\n",
      "append 1\n",
      "sort\n",
      "print\n",
      "pop\n",
      "reverse\n",
      "print\n",
      "\n",
      "Smaple Output:\n",
      "[6, 5, 10]\n",
      "[1, 5, 9, 10]\n",
      "[9, 5, 1]\n"
     ]
    }
   ],
   "source": [
    "#input \n",
    "print(\"Sample Input:\")\n",
    "ip = \"12\\ninsert 0 5\\ninsert 1 10\\ninsert 0 6\\nprint\\nremove 6\\nappend 9\\nappend 1\\nsort\\nprint\\npop\\nreverse\\nprint\"\n",
    "print(ip)\n",
    "print(\"\\nSmaple Output:\")\n",
    "print(\"{}\\n{}\\n{}\".format([6, 5,10], [1,5,9,10], [9,5,1]))"
   ]
  },
  {
   "cell_type": "code",
   "execution_count": 11,
   "metadata": {
    "ExecuteTime": {
     "end_time": "2019-09-27T20:41:56.468470Z",
     "start_time": "2019-09-27T20:41:56.459470Z"
    }
   },
   "outputs": [
    {
     "name": "stdout",
     "output_type": "stream",
     "text": [
      "['12', 'insert', '0', '5', 'insert', '1', '10', 'insert', '0', '6', 'print', 'remove', '6', 'append', '9', 'append', '1', 'sort', 'print', 'pop', 'reverse', 'print']\n"
     ]
    }
   ],
   "source": [
    "print(ip.split())\n",
    "#since .split() method will help seperate command and values. \n"
   ]
  },
  {
   "cell_type": "code",
   "execution_count": null,
   "metadata": {
    "ExecuteTime": {
     "start_time": "2019-09-27T19:17:58.952Z"
    }
   },
   "outputs": [],
   "source": [
    "l = []\n",
    "#n = int(input())                           # first command: \n",
    "for i in range(n):                         # iterate through each line\n",
    "    s = input().split()                    # in each line, split by ' '\n",
    "    cmd = s[0]                             # the first element is command\n",
    "    args = s[1: ]                          # all other elements are arguments\n",
    "    if cmd != \"print\":                     # when command is not print, execute the command\n",
    "        cmd += \"(\" + \",\".join(args) + \")\"\n",
    "        eval(\"l.\" + cmd)\n",
    "    else:                                  # when command is print, print the current list\n",
    "        print(l) \n",
    "#be careful about the input()."
   ]
  },
  {
   "cell_type": "markdown",
   "metadata": {},
   "source": [
    "**Problem3.** Given students with there score, return the selected student's avg score with 2 decimals"
   ]
  },
  {
   "cell_type": "code",
   "execution_count": 1,
   "metadata": {
    "ExecuteTime": {
     "end_time": "2019-09-27T20:30:12.337470Z",
     "start_time": "2019-09-27T20:30:12.333470Z"
    }
   },
   "outputs": [],
   "source": [
    "stu_marks ={'Eric': [67.0, 68.0, 69.0], 'Benny': [70.0, 98.0, 63.0], 'Misha': [52.0, 56.0, 60.0]}"
   ]
  },
  {
   "cell_type": "code",
   "execution_count": 8,
   "metadata": {
    "ExecuteTime": {
     "end_time": "2019-09-27T20:33:04.581470Z",
     "start_time": "2019-09-27T20:33:04.578470Z"
    }
   },
   "outputs": [
    {
     "name": "stdout",
     "output_type": "stream",
     "text": [
      "77.00\n"
     ]
    }
   ],
   "source": [
    "a = \"Benny\"\n",
    "print(\"{:.2f}\".format(sum(stu_marks[a])/len(stu_marks[a])))"
   ]
  },
  {
   "cell_type": "markdown",
   "metadata": {},
   "source": [
    "**Problem4**. Given student with their physics exam score, find the second lowest student. If there are multiple students, retuan all of them and sorted alphabetically and print each one in a new line. i.e.<br>\n",
    "\n",
    "        Input:  N --number of student\n",
    "                Student Name 1\n",
    "                Score 1\n",
    "                Student Name 2\n",
    "                Score 2\n",
    "                ...\n",
    "                Student Name N\n",
    "                Score N\n",
    "        Output: Berry\n",
    "                Amy"
   ]
  },
  {
   "cell_type": "code",
   "execution_count": 21,
   "metadata": {
    "ExecuteTime": {
     "end_time": "2019-09-27T21:01:13.378470Z",
     "start_time": "2019-09-27T21:01:13.370470Z"
    }
   },
   "outputs": [
    {
     "name": "stdout",
     "output_type": "stream",
     "text": [
      "Original student score:\n",
      "{'Harry': 77.21, 'Berry': 77.21, 'Tina': 37.2, 'Amy': 81.0, 'Horwald': 89.0}\n"
     ]
    }
   ],
   "source": [
    "print(\"Original student score:\")\n",
    "students = {'Harry': 77.21, 'Berry': 77.21, 'Tina': 37.2, 'Amy': 81.0, 'Horwald': 89.0}\n",
    "print(students)"
   ]
  },
  {
   "cell_type": "code",
   "execution_count": 22,
   "metadata": {
    "ExecuteTime": {
     "end_time": "2019-09-27T21:01:22.270470Z",
     "start_time": "2019-09-27T21:01:22.259470Z"
    }
   },
   "outputs": [
    {
     "name": "stdout",
     "output_type": "stream",
     "text": [
      "Since we want to find the second lowerest, we can create a subset which remove the lowerest one:\n",
      "{'Harry': 77.21, 'Berry': 77.21, 'Amy': 81.0, 'Horwald': 89.0}\n"
     ]
    }
   ],
   "source": [
    "print(\"Since we want to find the second lowerest, we can create a subset which remove the lowerest one:\")\n",
    "students2 = {n:v for n, v in students.items() if v != min(students.values())}\n",
    "print(students2)"
   ]
  },
  {
   "cell_type": "code",
   "execution_count": 35,
   "metadata": {
    "ExecuteTime": {
     "end_time": "2019-09-27T21:09:05.661470Z",
     "start_time": "2019-09-27T21:09:05.657470Z"
    }
   },
   "outputs": [],
   "source": [
    "re =[n for n, v in students2.items() if v == min(students2.values())]"
   ]
  },
  {
   "cell_type": "code",
   "execution_count": 38,
   "metadata": {
    "ExecuteTime": {
     "end_time": "2019-09-27T21:09:56.931470Z",
     "start_time": "2019-09-27T21:09:56.928470Z"
    }
   },
   "outputs": [
    {
     "name": "stdout",
     "output_type": "stream",
     "text": [
      "Harry\n",
      "Berry\n"
     ]
    }
   ],
   "source": [
    "print(*re, sep = \"\\n\")"
   ]
  },
  {
   "cell_type": "markdown",
   "metadata": {},
   "source": [
    "**Problem5**: convert lower case to upper, upper to lower.\n",
    "input = HackerRank.com presents \"Pythonist 2\".\n",
    "Expected output = hACKERrANK.COM PRESENTS \"pYTHONIST 2\"."
   ]
  },
  {
   "cell_type": "code",
   "execution_count": 53,
   "metadata": {
    "ExecuteTime": {
     "end_time": "2019-09-30T13:48:28.867470Z",
     "start_time": "2019-09-30T13:48:28.856470Z"
    }
   },
   "outputs": [
    {
     "name": "stdout",
     "output_type": "stream",
     "text": [
      "hACKERrANK.COM PRESENTS 'pYTHONIST 2'.\n"
     ]
    }
   ],
   "source": [
    "si = \"HackerRank.com presents 'Pythonist 2'.\"\n",
    "def swap_case(s):\n",
    "    return ''.join([i.lower() if i.isupper() else i.upper() for i in s])\n",
    "print(swap_case(si))\n"
   ]
  },
  {
   "cell_type": "markdown",
   "metadata": {},
   "source": [
    "### recursion\n",
    "**Recursion** enables a defined function to call itself. Which is, you can use the result as new parameter value to the function again. Using recursive algorithm, certain problems can be solved easily. Such as **Towers of Hanoi, Inorder/Preorder/Postorder Tree Traversals, DFS of Graphs** etc. <br>\n",
    "The base logic is to represent a problem in terms of one or more smaller problems, and add one ore more base conditions that stops the recursion. \n",
    "<br>Consider the following function as S<sub>n</sub> = k + S<sub>n-1</sub>. Once my_recursive(6) is called, my_recursive(5),my_recursive(4)..,my_recursive(0) will all be called.\n",
    "    \n",
    "     def my_recursive(k):\n",
    "         if (k>0) :\n",
    "             result = k + my_recursive(k-1)\n",
    "             print(result)\n",
    "         else:\n",
    "             result = 0\n",
    "         return result\n",
    "Another example is to compute factorial of n(n!) which is n*(n-1)!, thus we can use (n-1)! to represent n!.\n",
    "\n",
    "    def factorial(n):\n",
    "        if (n>0):\n",
    "            return n*factorial(n-1)\n",
    "        else:\n",
    "            return 1 \n",
    "or \n",
    "\n",
    "    def fact(n):\n",
    "        if n==0:\n",
    "            return 1\n",
    "        else :\n",
    "            return n*fact(n-1)\n",
    "In order to use recursion, you need to define the **base condition(the smallest case)** which the larger ones can be solved by converting to smaller ones till the base case is reached. If the base case cannot be reached, the base case is not reached or not defined, there will be **stack overflow ERROR**.\n",
    "- Direct recursion: A function calls the same function inside itself.\n",
    "- Indirect recursion: A function calls other functions inside itself. Others can also call it.\n",
    "- Tail recursive function: A function with recursive call as the last thing to execute. i.e.<br>\n",
    "        print(n-1); (yes)\n",
    "        return n*fact(n-1); (X)\n",
    "The above example shows that factorial function, even the last line is a recursive call, but it's not a tail recursive function. Because the result of fact(n-1) is used in fact(n), so it's not the last thing done by fact(n).<br>\n",
    "The reason for using tail recursive is that it's can be optimized easier since it's the last one to do in current function, modifying it won't affect other parts.<br>\n",
    "While, the aboved factorial function can be written as tail one by add one more arguments:\n",
    "\n",
    "    def factTR(n,a):\n",
    "        if n == 0: return a\n",
    "        else: return factTR(n-1, n*a)\n",
    "    def fact(n):\n",
    "        return factTR(n,1)\n",
    "The idea is to use a as the temporary result value, when n reduces to 0, return a. "
   ]
  },
  {
   "cell_type": "code",
   "execution_count": 89,
   "metadata": {
    "ExecuteTime": {
     "end_time": "2019-09-17T19:31:21.149470Z",
     "start_time": "2019-09-17T19:31:21.142470Z"
    }
   },
   "outputs": [
    {
     "name": "stdout",
     "output_type": "stream",
     "text": [
      "1 3 6 10 15 21 "
     ]
    },
    {
     "data": {
      "text/plain": [
       "21"
      ]
     },
     "execution_count": 89,
     "metadata": {},
     "output_type": "execute_result"
    }
   ],
   "source": [
    "def my_recursive(k):\n",
    "    if k>0 :\n",
    "        result = k + my_recursive(k-1)\n",
    "        print(result, end = \" \")\n",
    "    else:\n",
    "        result = 0\n",
    "    return result\n",
    "my_recursive(6)"
   ]
  },
  {
   "cell_type": "code",
   "execution_count": 84,
   "metadata": {
    "ExecuteTime": {
     "end_time": "2019-09-17T16:05:12.042470Z",
     "start_time": "2019-09-17T16:05:12.027470Z"
    }
   },
   "outputs": [
    {
     "data": {
      "text/plain": [
       "120"
      ]
     },
     "execution_count": 84,
     "metadata": {},
     "output_type": "execute_result"
    }
   ],
   "source": [
    "    def factorial(n):\n",
    "        if (n>0):\n",
    "            return n*factorial(n-1)\n",
    "        else:\n",
    "            return 1\n",
    "factorial(5)"
   ]
  },
  {
   "cell_type": "code",
   "execution_count": 85,
   "metadata": {
    "ExecuteTime": {
     "end_time": "2019-09-17T16:05:12.828470Z",
     "start_time": "2019-09-17T16:05:12.811470Z"
    }
   },
   "outputs": [
    {
     "data": {
      "text/plain": [
       "120"
      ]
     },
     "execution_count": 85,
     "metadata": {},
     "output_type": "execute_result"
    }
   ],
   "source": [
    "    def factTR(n,a):\n",
    "        if n == 0: return a\n",
    "        else: return factTR(n-1, n*a)\n",
    "    def fact(n):\n",
    "        return factTR(n,1)\n",
    "fact(5)"
   ]
  },
  {
   "cell_type": "markdown",
   "metadata": {},
   "source": [
    "#### Memory\n",
    "When any function is called from main(), the memory is allocated to it on the stack. As a recursive function calls itself, the memory for a called function is allocated on top of memory for a calling function, then different copy of local variables is created for each function call. When the base case is reached, the function returns its value to the function by whom it is called and memory is de-allocated to allow the process continue. See example:"
   ]
  },
  {
   "cell_type": "code",
   "execution_count": 88,
   "metadata": {
    "ExecuteTime": {
     "end_time": "2019-09-17T19:16:55.493470Z",
     "start_time": "2019-09-17T19:16:55.486470Z"
    }
   },
   "outputs": [
    {
     "name": "stdout",
     "output_type": "stream",
     "text": [
      "6 5 4 3 2 1 1 2 3 4 5 6 "
     ]
    }
   ],
   "source": [
    "def printFun(test):\n",
    "    if test < 1: return   #when test = 0, return to the next part of the last function printFun(1), which is print(test). Now test =1\n",
    "    else : \n",
    "        print(test, end = \" \")\n",
    "        printFun(test - 1)\n",
    "        print(test, end = \" \")\n",
    "        return\n",
    "printFun(6)"
   ]
  },
  {
   "cell_type": "markdown",
   "metadata": {},
   "source": [
    "Check the recursive map:<br>\n",
    "<img src = \"recursion.jpg\" width = 700  height = 500>"
   ]
  },
  {
   "cell_type": "markdown",
   "metadata": {},
   "source": [
    "#### Stack Overflow\n",
    "A stack overflow is an undesirable condition in which a particular computer program tries to use more memory space than the call stack has available(the call stack pointer exceeds the stack bound), which will cause crashes, memory access errors and incorrect results, etc.\n",
    "- A **stack** is an array or list structure of function calls and parameters used in programming and CPU architecture. Imaging a stack of plates at a buffet restaurant, elements in a stack follow LIFO order. The processing of adding data to a stack is \"push\", while retrieving data from a stack is \"pop\". A stack pointer indicates the extent of stack, adjusting as elements are pushed or popped to a stack. additional to push and pop, there are other actions on the stack:\n",
    "    - peek: inspect the topmost elment on a stack without actually removing the element.\n",
    "    - swap: exchange A and B\n",
    "    - duplicate: the topmost element is popped from the stack and then pushed back onto the stack twice.\n",
    "    - Rotate: roll a number of elements(continuous within order).\n",
    "- A **call stack** is a **buffer** that stores requests that need to be handled.\n",
    "- **Data buffer** is a region of a **physical memory storage(or a virtual data buffer in software, pointinh at a location in the physical memory)** used to temporarily store data while it is being moved from one place to another. Buffer uses the faster RAM to store temporary data due to much faster access time than hard disk drives. A buffer often adjusts timing by implementing a queue(or FIFO) algorithm in memory, simultaneously writing data into the queue at one rate and reading it at another rate.<br>Imaging buffer as a pool, the water input rate(data receive rate) is different from the water output rate(data process rate), it will store data first inside the pool, when it hits some degree or when the system is free, it will push data/execute the code to disk. \n",
    "Stack overflow is often caused by:\n",
    "- Infinite recursion: A excessively deep or infinite recursion,  in which a function calls itself so many times that the space needed to store the variables and information associated with each call is more than can fit on the stack. i.e.\n",
    "\n",
    "    def foo():\n",
    "        return foo();\n",
    "function foo() will continue to call itself, allocating additional space on the stack each time, until the stack overflows. However, if using **tail call optimization**, inifinite recursion of a specific sort can occur without stack overflow. Because tail-recursive calls do not take up additional stack space.\n",
    "- Very deep recursion: \n",
    "- Very large stack variables: "
   ]
  },
  {
   "cell_type": "markdown",
   "metadata": {},
   "source": [
    "#### Recursion v.s. Iteration\n",
    "- Advantage: For specific problems which are inherently recursive like **tree travelsals, Tower of Hanoi**, recursive are more clean and simple to write.\n",
    "- Disadvantage: Both recursive and iterative programs are powerful in problem-solving, and some of them can be converted to each other. The recursive program has **higher space requirement** than iteratives due to all of its function remaining in the stack until the base case is reached. It also has **higher time requirements** because of function calls and returns overhead. \n",
    "#### Practice for Recursion\n",
    "<a href = \"https://www.geeksforgeeks.org/recursion-practice-problems-solutions/\"> Recursive Practice Problems</a>"
   ]
  },
  {
   "cell_type": "markdown",
   "metadata": {},
   "source": [
    "### Built-in Functions\n",
    "Python itself has lots of useful functions which support math and file.\n",
    "- **dir()**: return the list of names in the current local environment.\n",
    "\n",
    "- **all(*iterable*)**: Return <mark>True</mark> if all elements of the iterable are true(or if the iterable is empty).\n",
    "        # find all elements in xlist that >10\n",
    "        all(x > 10 for x in xlist)\n",
    "- **any(*iterable*)**: Return <mark>True</mark> if any element of the iterable is true(or if the iterable is empty).\n",
    "        # find any movie in movielist that are Disney movie\n",
    "        any(movie in DisneyMovieList for movie in movielist)\n",
    "- **chr(i)**: Return the string representing a character whose Unicode code point is the integer *i*. i.e. chr(87) return <mark>'a'</mark>\n",
    "- **id()**: which is the identity of an object, which is unique and constant for this object during its lifetime. Recall the variable name v.s. object, y= x v.s. y = x.copy()\n",
    "- **iter(*object*)**: convert iterable to iterator. Go 7.5 for details.\n",
    "- **len(*s*)**: return the length(the number of items) of an object. \n",
    "- **min(*iterable, or arg1, arg2*)/max()**: return the smallest/largest item in an iterable or the largest one among all arguments. If there are multiple items, it will return the first encountered. This is consistent with other sort-stability preserving tools such as *sorted(iterable, key = keyfunc)[0]* and *heapq.nsmallest(1, iterable, key = keyfunc)*(*sorted(iterable, key = keyfunc, reverse = True)[0]* and *heapq.nlargest(1, iterable, key = keyfunc)*)  \n",
    "- **open((*file, mode = 'r', buffering = -1, encoding = None, newline = None...*)**: open file and return a corresponding file object. Check 2.1 for details.\n",
    "\n",
    "\n",
    "- **abs(*x*)**: Return the absolute value of a number *x*.\n",
    "- **pow(*x,y[,z]*)**: return x to the power y. if z is present, return x to the power y, modulo z, same but more efficient than *pow(x,y) % z*. *pow(x,y)* is equal to x\\*\\*y\n",
    "- **divmod(a, b)**: Return a pair of numbers consisting of the quotient and remainder of (a,b) when using integer division. For integers, the result will be like <mark>(a//b, a%b)</mark>. For floating point numbers, the result is <mark>(math.floor(a/b), a%b)</mark>\n",
    "- **range(*start, stop[, step]*)/range(stop)**: Return an immutable sequence. The *stop* won't be taken while the second last one will be taken at the end. If start is ommited, it will start from 0.\n",
    "- **round(*number[,ndigits]*)**: Return number rounded to ndigits precision after the decimal point. If ndigits is omitted, then it will round to nearest integer. \n",
    "- **sorted(iterable, \\*, key = None, reverse = False)** will return a new sorted list from the items in *iterable*.\n",
    "    - key specifies a function of one argument that is used to extracted a comparison key from each element(i.e. key = str.lower)\n",
    "    - reverse will sort by ascending order if seted as False, otherwise will reversed the order.\n",
    "- **sum(*iterable[, start]*)** return the total from left start to right. It's normally used for numbers and string is not allowed as start value. \n",
    "\n",
    "- **repr(object)**: return s string containing printable representation of an object. similar to str() but repr() will pass everything including special characters like \"'\", \"\\\", \"\\n\". Check details in 2.2.3\n",
    "- **\n",
    "\n",
    "check <a href = \"https://docs.python.org/3/library/functions.html\">here</a> to find other useful built-in functions."
   ]
  },
  {
   "cell_type": "code",
   "execution_count": 296,
   "metadata": {
    "ExecuteTime": {
     "end_time": "2019-09-27T15:37:46.911470Z",
     "start_time": "2019-09-27T15:37:46.899470Z"
    }
   },
   "outputs": [
    {
     "name": "stdout",
     "output_type": "stream",
     "text": [
      "The absolute value for: -34.555 is 34.555\n",
      "The dvimod(13,3) is: (4, 1)\n",
      "The min value of [12,41, 2, 6,22] is: 2\n",
      "The 4 to power of 2 is: 16.0\n",
      "The range(2, 12,3) is:  range(2, 12, 3)\n",
      "The descending sorted [22, 9, 3, -1] is  [22, 9, 3, -1]\n",
      "The chr(87) will convert value to character: W\n",
      "The length of [1,3,4,5,6] is  6\n"
     ]
    }
   ],
   "source": [
    "print(\"The absolute value for: {} is {}\". format(-34.555, abs(-34.555)) )\n",
    "print(\"The dvimod(13,3) is: {}\".format(divmod(13, 3)))\n",
    "print(\"The min value of [12,41, 2, 6,22] is:\", min([12,41, 2, 6,22]))\n",
    "print(\"The 4 to power of 2 is:\", pow(4,2))\n",
    "print(\"The range(2, 12,3) is: \", range(2,12,3))\n",
    "print(\"The descending sorted [22, 9, 3, -1] is \", sorted([22, 9, 3, -1], reverse = True))\n",
    "\n",
    "print(\"The chr(87) will convert value to character:\", chr(87))\n",
    "print(\"The length of [1,3,4,5,6] is \", len([1,2,3,4,5,6]))"
   ]
  },
  {
   "cell_type": "markdown",
   "metadata": {},
   "source": [
    "#### Enumerate\n",
    "Often when dealing with iterators, we also **want to keep the countIndex) of iterations**, thus **Enumerate()** function is here. Enumerate() method adds a counter to an iterable and returns it in a form of enumerate object.This enumerate object can then be used directly in **for** loops or be converted into **a list of tuples** by using **list()** method. <br>\n",
    "**enumerate(iterable, start = 0)**:\n",
    "- iterable: any object that support iteration\n",
    "- start: the index value from which the counter is to be started, default = 0\n",
    "**enumerate(list)**:<br>\n",
    "        student = [\"Bob\", \"John\", \"Kris\", \"Angela\"]\n",
    "        print(list(enumerate(student)))\n",
    "        >>[(0, 'Bob'), (1, 'John'), (2, 'Kris'), (3, 'Angela')]\n",
    "\n",
    "        for st in enumerate(student):       #return a list of tuple with index-value pair\n",
    "            print(st)\n",
    "        \n",
    "        for n, st in enumerate(student):    #return tuples with index-value pair \n",
    "            print(n, st)\n",
    "**enumerate(nested list)**:<br>\n",
    "For nested iterable, i.e. list of tuples:\n",
    "    \n",
    "    stu_score = [(\"Bob\", 90), (\"John\", 80), (\"Kris\",70), (\"Angela\", 90)]\n",
    "    for sid, val in enumerate(stu_score):\n",
    "        name = val[0]\n",
    "        score = val[1]\n",
    "        print(\"StudentId {}, {}, got {} score in this test.\".format(sid, name, score))\n",
    "Or you can mention elements inside tuple in following way:\n",
    "\n",
    "    for sid, (name, score) in enumerate(stu_score):\n",
    "        print(\"StudentId {}, {}, got {} score in this test.\".format(sid, name, score))\n",
    "**enumerate(string)**:<br>\n",
    "For string, each single character(including all symbol, whitespace, special characters) will be treated as an item.\n",
    "\n",
    "    str = \"Once there is a queen and king living in North Europe.\"\n",
    "    for idx, ch in enumerate(str):\n",
    "        print(\"The index of character {} is {}.\".format(ch, idx))\n",
    "\n",
    "**enumerate() for dictionary or set may not be useful**<br>\n",
    "Rethink of the purpose of dictionary -- get unordered key-value pair, set --get unordered elements and enumarate() -- get indexed for elments. dict and set are designed to be no sequence.<br> If we want to loop through the key/value/key-value pair, we can do the regular for loop:\n",
    "    \n",
    "    stu_dict = {\"Bob\":90, \"John\": 80, \"Kris\":70, \"Angela\": 90}\n",
    "    for k, s in stu_dict:\n",
    "        print(k, s)"
   ]
  },
  {
   "cell_type": "code",
   "execution_count": 152,
   "metadata": {
    "ExecuteTime": {
     "end_time": "2019-09-25T21:02:27.444470Z",
     "start_time": "2019-09-25T21:02:27.426470Z"
    }
   },
   "outputs": [
    {
     "name": "stdout",
     "output_type": "stream",
     "text": [
      "[(0, 'Bob'), (1, 'John'), (2, 'Kris'), (3, 'Angela')]\n",
      "\n",
      "(0, 'Bob')\n",
      "(1, 'John')\n",
      "(2, 'Kris')\n",
      "(3, 'Angela')\n",
      "\n",
      "2018090 Bob\n",
      "2018091 John\n",
      "2018092 Kris\n",
      "2018093 Angela\n",
      "\n",
      "StudentId 2018090, Bob, got 90 score in this test.\n",
      "StudentId 2018091, John, got 80 score in this test.\n",
      "StudentId 2018092, Kris, got 70 score in this test.\n",
      "StudentId 2018093, Angela, got 90 score in this test.\n",
      "\n",
      "The index of character K is 0.\n",
      "The index of character n is 1.\n",
      "The index of character ~ is 2.\n",
      "The index of character o is 3.\n",
      "The index of character ~ is 4.\n",
      "The index of character   is 5.\n",
      "The index of character c is 6.\n",
      "The index of character k is 7.\n",
      "The index of character ! is 8.\n"
     ]
    }
   ],
   "source": [
    "student = [\"Bob\", \"John\", \"Kris\", \"Angela\"]\n",
    "score = [90, 80, 70, 90]\n",
    "print(list(enumerate(student)))\n",
    "print()\n",
    "\n",
    "for st in enumerate(student):\n",
    "    print(st)\n",
    "print()\n",
    "\n",
    "for sid, st in enumerate(student, 2018090):\n",
    "    print(sid, st )\n",
    "print()\n",
    "\n",
    "stu_score = [(\"Bob\", 90), (\"John\", 80), (\"Kris\",70), (\"Angela\", 90)]\n",
    "for sid, val in enumerate(stu_score, 2018090):\n",
    "    name = val[0]\n",
    "    score = val[1]\n",
    "    print(\"StudentId {}, {}, got {} score in this test.\".format(sid, name, score))\n",
    "print()    \n",
    "str1 = \"Kn~o~ ck!\"\n",
    "for idx, ch in enumerate(str1):\n",
    "    print(\"The index of character {} is {}.\".format(ch, idx))"
   ]
  },
  {
   "cell_type": "code",
   "execution_count": 4,
   "metadata": {
    "ExecuteTime": {
     "end_time": "2019-09-27T20:24:00.219470Z",
     "start_time": "2019-09-27T20:24:00.203470Z"
    }
   },
   "outputs": [
    {
     "name": "stdout",
     "output_type": "stream",
     "text": [
      "Student Bob got 90.\n",
      "Student John got 80.\n",
      "Student Kris got 70.\n",
      "Student Angela got 90.\n",
      "Student Bob\n",
      "Student John\n",
      "Student Kris\n",
      "Student Angela\n",
      "Score 90\n",
      "Score 80\n",
      "Score 70\n",
      "Score 90\n"
     ]
    }
   ],
   "source": [
    "#loop of dictionary\n",
    "stu_dict = {\"Bob\":90, \"John\": 80, \"Kris\":70, \"Angela\": 90}\n",
    "#loop the key-value pair\n",
    "for k, s in stu_dict.items():   \n",
    "    print(\"Student {} got {}.\".format(k, s))\n",
    "#loop the key\n",
    "for k in stu_dict:\n",
    "    print(\"Student {}\".format(k))\n",
    "#loop the value:\n",
    "for v in stu_dict.values():\n",
    "    print(\"Score {}\".format(v))"
   ]
  },
  {
   "cell_type": "markdown",
   "metadata": {},
   "source": [
    "#### filter\n",
    "**filter(function, iterable)** will construct an iterator from those elements of *iterable* for which *function* returns true. The *iterable* can be a sequence, a container or iterator.If function is <mark>None</mark> the identity condition is: all elements of iterable that are false will be removed.\n",
    "- function: which is used to test if each element of the iterable is true or not\n",
    "    - When function is not None, filter(function, iterable) is equal to \n",
    "            (item for item in iterable if function(item))        #go refer to iterator-generator\n",
    "    - When function is None, filter(function, iterable) is equal to \n",
    "            (item for item in iterable if item)\n",
    "            \n",
    " functions can be basic functions, or customized functions. But the most common use of filter is **lambda functions**.<br>\n",
    "        \n",
    "        score = [90, 77, 84, 65, 98, 72, 80, 76]\n",
    "        goodscore = filter(lambda x: x>= 80, score)\n",
    "        print(list(goodscore))\n",
    "        >>[90, 84, 98, 80]\n",
    " check the following examples:\n",
    "    \n",
    "- iterable: sets, lists, tuples, or containers of any iterators.\n",
    "- result: The result will be a filtered iterator. Using for loop to print out the result or using **list()** to get the readable result."
   ]
  },
  {
   "cell_type": "code",
   "execution_count": 143,
   "metadata": {
    "ExecuteTime": {
     "end_time": "2019-09-25T17:45:03.479470Z",
     "start_time": "2019-09-25T17:45:03.472470Z"
    }
   },
   "outputs": [
    {
     "name": "stdout",
     "output_type": "stream",
     "text": [
      "['e', 'e']\n",
      "[90, 84, 98, 80]\n"
     ]
    }
   ],
   "source": [
    "#1.filter all the 'aeiou' letters\n",
    "def aeiou(l):\n",
    "    alist = ['a', 'e', 'i', 'o', 'u']\n",
    "    if (l in alist):\n",
    "        return True\n",
    "    else: return False\n",
    "seq = ['g', 'e', 'e', 'j', 'k', 's', 'p', 'r']\n",
    "print(list(filter(aeiou, seq)))\n",
    "\n",
    "#lambda function:\n",
    "score = [90, 77, 84, 65, 98, 72, 80, 76]\n",
    "print(list(filter(lambda x: x>= 80, score)))"
   ]
  },
  {
   "cell_type": "code",
   "execution_count": 140,
   "metadata": {
    "ExecuteTime": {
     "end_time": "2019-09-25T17:42:47.563470Z",
     "start_time": "2019-09-25T17:42:47.547470Z"
    }
   },
   "outputs": [
    {
     "name": "stdout",
     "output_type": "stream",
     "text": [
      "When filter function is there: \n",
      "[2, 4, 6, 8]\n",
      "When filter function is ignored\n",
      "[1, 2, 3, 4, 5, 6, 7, 8]\n"
     ]
    }
   ],
   "source": [
    "print(\"When filter function is there: \")\n",
    "print(list(x for x in [1,2,3,4,5,6,7,8] if x%2 == 0))\n",
    "print(\"When filter function is ignored\")\n",
    "print(list(x for x in [1,2,3,4,5,6,7,8] if x))"
   ]
  },
  {
   "cell_type": "markdown",
   "metadata": {},
   "source": [
    "**Here are some filter problems**<br>\n",
    "**1.Filter dictionary of tuples by condition**<br>\n",
    "  Using **items()** + dictionary comprehension, in python2, lambda+filter is used<br>"
   ]
  },
  {
   "cell_type": "code",
   "execution_count": 160,
   "metadata": {
    "ExecuteTime": {
     "end_time": "2019-09-25T21:20:50.075470Z",
     "start_time": "2019-09-25T21:20:50.062470Z"
    }
   },
   "outputs": [
    {
     "name": "stdout",
     "output_type": "stream",
     "text": [
      "The original dictionary is :{'Bob': 90, 'John': 80, 'Kris': 70, 'Angela': 90}\n",
      "The good students is{'Bob': (90, 77), 'John': (80, 88), 'Angela': (82, 90)}\n"
     ]
    }
   ],
   "source": [
    "stu_dicttuple = {\"Bob\":(90, 77), \"John\": (80,88), \"Kris\":(70,65), \"Angela\": (82, 90)}\n",
    "print(\"The original dictionary is :\"+ str(stu_dict))\n",
    "#do the filter based on conditions inside tuple\n",
    "good_stu = {key: val for key, val in stu_dicttuple.items() if val[0] >= 80 and val[1] >=70}\n",
    "print(\"The good students is\" + str(good_stu))"
   ]
  },
  {
   "cell_type": "markdown",
   "metadata": {},
   "source": [
    "**2.Filter the negative values from given dictionary**<br>\n",
    "There are some solutions:\n",
    "- Method1. Using dict comprehension\n",
    "- Method2. Using lambda and filter"
   ]
  },
  {
   "cell_type": "code",
   "execution_count": 174,
   "metadata": {
    "ExecuteTime": {
     "end_time": "2019-09-25T21:47:39.024470Z",
     "start_time": "2019-09-25T21:47:39.017470Z"
    }
   },
   "outputs": [
    {
     "name": "stdout",
     "output_type": "stream",
     "text": [
      "The original set is:  {'a': 1, 'b': -2, 'c': -3, 'd': 7, 'e': 0}\n",
      "Method1 to find all positive value: {'a': 1, 'd': 7}\n",
      "Method2 to find all positive value: {'a': 1, 'd': 7}\n"
     ]
    }
   ],
   "source": [
    "ini_dict = {'a':1, 'b':-2, 'c':-3, 'd':7, 'e':0}\n",
    "print(\"The original set is: \", ini_dict)\n",
    "#m1.\n",
    "pos_dict = {key: val for key,val in ini_dict.items() if val > 0}\n",
    "print(\"Method1 to find all positive value:\", pos_dict)\n",
    "#m2. Notice how different the result type is. \n",
    "pos_dict2 = dict(filter(lambda x: x[1] >0, ini_dict.items()))\n",
    "print(\"Method2 to find all positive value:\", pos_dict2)"
   ]
  },
  {
   "cell_type": "markdown",
   "metadata": {},
   "source": [
    "**3.Filter dictionary key based on the values in selective list**<br>\n",
    "Select only partial keys are quite common problem. There are some solutions:\n",
    "- Method1. Using list comprehension\n",
    "- Method2. Using set.intersection()"
   ]
  },
  {
   "cell_type": "code",
   "execution_count": 180,
   "metadata": {
    "ExecuteTime": {
     "end_time": "2019-09-25T21:54:28.140470Z",
     "start_time": "2019-09-25T21:54:28.129470Z"
    }
   },
   "outputs": [
    {
     "name": "stdout",
     "output_type": "stream",
     "text": [
      "Male\n",
      "Male\n",
      "Male\n",
      "Female\n"
     ]
    }
   ],
   "source": [
    "for key, val in stu_dict.items():\n",
    "    if key in male_stu:\n",
    "        print(\"Male\")\n",
    "    else: print(\"Female\")"
   ]
  },
  {
   "cell_type": "code",
   "execution_count": 182,
   "metadata": {
    "ExecuteTime": {
     "end_time": "2019-09-25T21:54:58.371470Z",
     "start_time": "2019-09-25T21:54:58.362470Z"
    }
   },
   "outputs": [
    {
     "name": "stdout",
     "output_type": "stream",
     "text": [
      "Student score is: {'Bob': 90, 'John': 80, 'Kris': 70, 'Angela': 90}\n",
      "Method1 to find score for Male student:  [90, 80, 70]\n",
      "Method1 to find Male student:  {'Bob': 90, 'John': 80, 'Kris': 70}\n",
      "Method2 to find score for Male student:  [90, 80, 70]\n"
     ]
    }
   ],
   "source": [
    "male_stu = [\"Bob\", \"John\", \"Kris\"]\n",
    "print(\"Student score is:\", str(stu_dict))\n",
    "#only select score for male\n",
    "male_score = [stu_dict[i] for i in male_stu if i in stu_dict]\n",
    "print(\"Method1 to find score for Male student: \", male_score)\n",
    "#if you want to return the dict based on that list\n",
    "m_score = {key: val for key, val in stu_dict.items() if key in male_stu}\n",
    "print(\"Method1 to find Male student: \", m_score)\n",
    "#using set.intersection\n",
    "male_score2 = [stu_dict[i] for i in list(set(male_stu).intersection(stu_dict))]\n",
    "print(\"Method2 to find score for Male student: \", male_score2)"
   ]
  },
  {
   "cell_type": "markdown",
   "metadata": {},
   "source": [
    "**4.Filter list of strings based on the substring list**<br>\n",
    "Given two lists of strings *sa* and *sb*, filter out all the strings in *sa* that contains string in *sb*. i.e. <br>\n",
    "\n",
    "        Input: \n",
    "               sa = ['movie1', 'movie2', 'book1', 'book2','book3', 'book4', 'video1']\n",
    "               sb = ['movie', 'video']         \n",
    "        Output:     ['movie1', 'movie2', 'video1']\n",
    "\n",
    "This problem is about match, you can use **in** or **regrex** to match."
   ]
  },
  {
   "cell_type": "code",
   "execution_count": 222,
   "metadata": {
    "ExecuteTime": {
     "end_time": "2019-09-26T19:00:10.274470Z",
     "start_time": "2019-09-26T19:00:10.252470Z"
    }
   },
   "outputs": [
    {
     "name": "stdout",
     "output_type": "stream",
     "text": [
      "List comprehension method to find IN item:: ['movie1', 'movie2', 'video1']\n",
      "List comprehension method to find OUT item: ['book1', 'book2', 'book3', 'book4']\n",
      "Regex method to find IN item: ['movie1', 'movie2', 'video1']\n"
     ]
    }
   ],
   "source": [
    "asle = ['movie1', 'movie2', 'book1', 'book2','book3', 'book4', 'video1']\n",
    "cate = ['movie', 'video'] \n",
    "#method0 --using iteration\n",
    "# temp = []\n",
    "# output = asle.copy()\n",
    "# # print(output)\n",
    "# for elem in asle:\n",
    "#     for c in cate:\n",
    "#         if c in elem:\n",
    "#             temp.append(c)\n",
    "# print(temp)        \n",
    "# for e in temp:\n",
    "#     if e in output:\n",
    "#         output.remove(e)\n",
    "# print(output)\n",
    "#method1 --using list comprehension\n",
    "def str_filter(string, substr):\n",
    "    return [str for str in string if\n",
    "           any(sub in str for sub in substr)]\n",
    "print(\"List comprehension method to find IN item::\", str_filter(asle, cate))\n",
    "def str_out(string, substr):\n",
    "    return [str for str in string if\n",
    "           all(sub not in str for sub in substr)]\n",
    "print(\"List comprehension method to find OUT item:\", str_out(asle, cate))\n",
    "#method2 -- using regular expression\n",
    "import re\n",
    "def str_match(string, substr):\n",
    "    return [str for str in string\n",
    "           if re.match(r'[^\\d]+|^', str).group(0) in substr]\n",
    "print(\"Regex method to find IN item:\",str_match(asle, cate))"
   ]
  },
  {
   "cell_type": "markdown",
   "metadata": {},
   "source": [
    "**Filter s list based on the given list of strings**<br>\n",
    "This type of problem is quite common while scraping websites. i.e.<br>\n",
    "Q: filter out elements in rawpage that are not in keyword list\n",
    "\n",
    "    Input  keyword = ['Python', 'Python3.5', 'Pandas', 'Numpy']\n",
    "           rawpage = ['home/Python/guide.pdf',\n",
    "                'home/Python3.5/guide.pdf', \n",
    "                'home/Python3.5/Pandas.pdf', \n",
    "                'home/Python3.5/Numpy.pdf',\n",
    "                'home/Desktop/5.pdf', \n",
    "                'home/Python2.7/Numpy.pdf']        \n",
    "    Output      ['home/Desktop/5.pdf']\n",
    "Similarly, we can get the pages with specific keyword."
   ]
  },
  {
   "cell_type": "code",
   "execution_count": 220,
   "metadata": {
    "ExecuteTime": {
     "end_time": "2019-09-26T18:57:23.486470Z",
     "start_time": "2019-09-26T18:57:23.469470Z"
    }
   },
   "outputs": [
    {
     "name": "stdout",
     "output_type": "stream",
     "text": [
      "Filter out page is:  ['home/Jupyter.html', 'home/Desktop/3.5.pdf', 'googlemaps/Chicago']\n",
      "Keep pages are:  ['home/Scikit-learn/Numpy.pdf', 'home/Python3.5/guide.pdf', 'home/Python3.5/Pandas.html']\n",
      "pdf pages are:  ['home/Scikit-learn/Numpy.pdf', 'home/Python3.5/guide.pdf', 'home/Desktop/3.5.pdf']\n"
     ]
    }
   ],
   "source": [
    "keyword = ['Python', 'Python3.5', 'Pandas', 'Numpy']\n",
    "rawpage = ['home/Scikit-learn/Numpy.pdf',\n",
    "                'home/Python3.5/guide.pdf', \n",
    "                'home/Python3.5/Pandas.html', \n",
    "                'home/Jupyter.html',\n",
    "                'home/Desktop/3.5.pdf', \n",
    "                'googlemaps/Chicago'] \n",
    "# #using iteration\n",
    "# temp = []\n",
    "# outpage= rawpage.copy()\n",
    "# for page in rawpage:\n",
    "#     for kw in keyword:\n",
    "#         if kw in page:\n",
    "#             temp.append(kw)\n",
    "# print(temp)\n",
    "# for kw in temp:\n",
    "#     if kw in outpage:\n",
    "#         outpage.remove(kw)\n",
    "# print(outpage)        \n",
    "#using list comprehension\n",
    "outpage1 = [page for page in rawpage if \n",
    "           all(kw not in page for kw in keyword)]\n",
    "print(\"Filter out page is: \",outpage1)\n",
    "inpage = [page for page in rawpage if\n",
    "         any(kw in page for kw in keyword)]\n",
    "print(\"Keep pages are: \", inpage)\n",
    "pdfpage = [page for page in rawpage if\n",
    "          any(kw in page for kw in ['pdf'])]\n",
    "print(\"pdf pages are: \", pdfpage)"
   ]
  },
  {
   "cell_type": "markdown",
   "metadata": {},
   "source": [
    "#### hashing, encoding, encryption\n",
    "\n",
    "- **encode**: for maintaining data usability, easy to transmform, convert and reverse by employing the same algo.(as encoded way) into a form that is readable by most systems. Encoding can not be used for securing data.<br> Simple examples are: Unicode, ASCII, video/audio to plain data --> decode for playback.\n",
    "- **encryption**: for maintaining data confidentiality and requires the use of a key to return to plaintext by using encryption algo.(AES, RSA) in that way only authorized personnel can access to it.<br>\n",
    "    Encryption:       data(plain text) + key algo -> Cipher Text\n",
    "    Decryption:       Cipher Text + key algo -> Plain Text\n",
    "- **hashing** is a method to convert data to the hash by hashing function(any function that can map data of arbitrary size to data of fixed size. The data structure hash table is used for storing data. <br>Example:\n",
    " send text messages and images over WhatsApp;<br>\n",
    " verify passwords for login on various websites. \n",
    " \n",
    "The **hash()** function in Python is used to encode data into unrecognisable value.\n",
    "- **Properties of hash()**<br>\n",
    " - Objects hashed using *hash()* are irreversible, leading to loss of information\n",
    " - *hash()* returns hashed value only for immutable objects, thus can be used as an indicator to check for mutable/immutable objects"
   ]
  },
  {
   "cell_type": "code",
   "execution_count": 247,
   "metadata": {
    "ExecuteTime": {
     "end_time": "2019-09-26T20:52:09.119470Z",
     "start_time": "2019-09-26T20:52:09.108470Z"
    }
   },
   "outputs": [
    {
     "name": "stdout",
     "output_type": "stream",
     "text": [
      "Hash value for testuser: -5078444328564153217\n",
      "Hash value for integer:  4\n",
      "Hash value for float: 2282784579121553437\n",
      "\n",
      "Hash the tuple(immutable) 4535970690757816194\n"
     ]
    },
    {
     "ename": "TypeError",
     "evalue": "unhashable type: 'list'",
     "output_type": "error",
     "traceback": [
      "\u001b[1;31m---------------------------------------------------------------------------\u001b[0m",
      "\u001b[1;31mTypeError\u001b[0m                                 Traceback (most recent call last)",
      "\u001b[1;32m<ipython-input-247-9291320a0011>\u001b[0m in \u001b[0;36m<module>\u001b[1;34m\u001b[0m\n\u001b[0;32m      5\u001b[0m \u001b[0mprint\u001b[0m\u001b[1;33m(\u001b[0m\u001b[1;33m)\u001b[0m\u001b[1;33m\u001b[0m\u001b[0m\n\u001b[0;32m      6\u001b[0m \u001b[0mprint\u001b[0m\u001b[1;33m(\u001b[0m\u001b[1;34m\"Hash the tuple(immutable)\"\u001b[0m\u001b[1;33m,\u001b[0m \u001b[0mhash\u001b[0m\u001b[1;33m(\u001b[0m\u001b[1;33m(\u001b[0m\u001b[1;34m\"apple\"\u001b[0m\u001b[1;33m,\u001b[0m \u001b[1;34m\"banan\"\u001b[0m\u001b[1;33m)\u001b[0m\u001b[1;33m)\u001b[0m\u001b[1;33m)\u001b[0m\u001b[1;33m\u001b[0m\u001b[0m\n\u001b[1;32m----> 7\u001b[1;33m \u001b[0mprint\u001b[0m\u001b[1;33m(\u001b[0m\u001b[1;34m\"Hash the list(mutable)\"\u001b[0m\u001b[1;33m,\u001b[0m \u001b[0mhash\u001b[0m\u001b[1;33m(\u001b[0m\u001b[1;33m[\u001b[0m\u001b[1;34m'apple'\u001b[0m\u001b[1;33m,\u001b[0m \u001b[1;34m'banana'\u001b[0m\u001b[1;33m]\u001b[0m\u001b[1;33m)\u001b[0m\u001b[1;33m)\u001b[0m     \u001b[1;31m#-------.ERROR\u001b[0m\u001b[1;33m\u001b[0m\u001b[0m\n\u001b[0m",
      "\u001b[1;31mTypeError\u001b[0m: unhashable type: 'list'"
     ]
    }
   ],
   "source": [
    "testuser = 'BCost'\n",
    "print(\"Hash value for testuser:\", hash('BCOST'))\n",
    "print(\"Hash value for integer: \", hash(4))\n",
    "print(\"Hash value for float:\", hash(29.99))\n",
    "print()\n",
    "print(\"Hash the tuple(immutable):\", hash((\"apple\", \"banan\")))\n",
    "print(\"Hash the list(mutable)\", hash(['apple', 'banana']))     #-------.ERROR"
   ]
  },
  {
   "cell_type": "markdown",
   "metadata": {},
   "source": [
    "#### map\n",
    "**map(function, iterable,...)** applies *function* to every item of iterable, and return a list of result. Recall **apply()** function in R.\n",
    "- function :map() will pass each item of the iterable to this function. Functions can be customzied or **lambda** function.\n",
    "    Additionally, the functions are not limited to calculation, you can also apply convertion, \n",
    "- iterable: list, tuple, dict, any object that can be iterated. You can pass multiple iterables to the map function.\n",
    "- Return: The returned value can be passed to list(), set().\n",
    "\n",
    "\n"
   ]
  },
  {
   "cell_type": "code",
   "execution_count": 253,
   "metadata": {
    "ExecuteTime": {
     "end_time": "2019-09-26T21:25:47.058470Z",
     "start_time": "2019-09-26T21:25:47.038470Z"
    }
   },
   "outputs": [
    {
     "name": "stdout",
     "output_type": "stream",
     "text": [
      "[2, 4, 6, 8, 10]\n",
      "\n",
      "[2, 4, 6, 8, 10]\n",
      "\n",
      "[172, 161, 142, 172]\n",
      "\n",
      "[['G'], ['o'], ['o'], ['d'], [' '], ['N'], ['i'], ['g'], ['h'], ['t'], ['.']]\n"
     ]
    }
   ],
   "source": [
    "#1.\n",
    "def plus(n):\n",
    "    return n+n\n",
    "print(list(map(plus,[1,2,3,4,5])))\n",
    "print()\n",
    "print(list(map(lambda x: x+x, [1,2,3,4,5])))\n",
    "print()\n",
    "print(list(map(lambda x, y: x+y, [82, 73, 67, 80], [90, 88, 75, 92, 79])))\n",
    "print()\n",
    "print(list(map(list, \"Good Night.\")))"
   ]
  },
  {
   "cell_type": "markdown",
   "metadata": {},
   "source": [
    "#### slice\n",
    "Thw slice object is used to slice a given sequence(string, bytes, tuple, list or range) or any object which supports sequence protocol(like __getitems()__ and __len()__ method).\n",
    "    \n",
    "        slice(stop)\n",
    "        slice(start, stop, step)\n",
    "Similar to range(start, stop, step). The return value from slice() will be a **slice object** used to slice a sequence in the given indices.\n",
    "<br>For slice a string, the arg refers to index**Notice if using negative index, the step must also be negative**\n",
    "\n",
    "    ps = \"Python\"\n",
    "    print(ps[slice(3)])                     # the index contained is 0,1,2\n",
    "    >>Pyt\n",
    "    print(ps[slice(1,5,2)])                 # the index contained is 1,3\n",
    "    >>yh\n",
    "    print(ps[slice(-1,-4,-1)])              # the index contained is -1 ~-3, with -1 order\n",
    "    >>noh\n",
    "\n",
    "Instead of using **slice()**, you can just using **extending indexing syntax**<br>Notice, the indexing syntax is always follow left-start to right-end style.\n",
    "- Take n first elements of a list:    \n",
    "        ps[:3]\n",
    "        >>Pyt\n",
    "- Take n last elements of a list:\n",
    "        pl = ['apple', 'banana', 'peach', 'orange', 'blueberry', 'cherry', 'malon']\n",
    "        pl[-2:]\n",
    "        >>['cherry', 'malon']\n",
    "- Take all but n last elements of a list:\n",
    "        pl[:-2]\n",
    "        >>['apple', 'banana', 'peach', 'orange', 'blueberry']\n",
    "- Take every nth- element of a list:\n",
    "        pl[::2]\n",
    "        >>['apple', 'peach','blueberry']       "
   ]
  },
  {
   "cell_type": "code",
   "execution_count": 284,
   "metadata": {
    "ExecuteTime": {
     "end_time": "2019-09-27T15:20:29.514470Z",
     "start_time": "2019-09-27T15:20:29.507470Z"
    }
   },
   "outputs": [
    {
     "name": "stdout",
     "output_type": "stream",
     "text": [
      "slice(1, 5, 2)\n",
      "Original string is:  Knock, Knock\n",
      "nc\n",
      "kco\n",
      "\n",
      "Original list is:  ['apple', 'banana', 'peach', 'orange']\n",
      "['apple', 'banana']\n",
      "('banana', 'orange')\n",
      "('malon', 'blueberry')\n",
      "\n",
      "['apple', 'banana']\n"
     ]
    }
   ],
   "source": [
    "print(slice(1,5,2))\n",
    "#1.slice string\n",
    "ps = \"Knock, Knock\"\n",
    "print(\"Original string is: \", ps)\n",
    "print(ps[slice(1,5,2)])\n",
    "print(ps[slice(-1,-4,-1)])\n",
    "#slice tuple\n",
    "print()\n",
    "pl = ['apple', 'banana', 'peach', 'orange']\n",
    "pt = ('apple', 'banana', 'peach', 'orange', 'blueberry', 'cherry', 'malon')\n",
    "print(\"Original list is: \", pl)\n",
    "print(pl[slice(2)])\n",
    "print(pt[slice(1,5,2)])\n",
    "print(pt[slice(-1,-5,-2)])\n",
    "print()\n",
    "print(pl[:2])"
   ]
  },
  {
   "cell_type": "markdown",
   "metadata": {},
   "source": [
    "#### zip\n",
    "The purpose of **zip()** is to **map the similar index of multiple containers** so that they can be used just using as single entity.\n",
    "- parameters is Python iterables or containers.\n",
    "- Returns a single iterator obejct, habing mapped values from all the containers. Using **list()** or **set()** to be printable.\n",
    "\n",
    "        f_name = ['apple', 'banana', 'peach', 'orange', 'blueberry', 'cherry', 'malon']\n",
    "        f_qunt = random.sample(range(100, 500), 7)\n",
    "        f_price = list(np.random.uniform(3.5, 7.4, 7).round(2))\n",
    "        fruit_zip =list(zip(f_name, f_qunt, f_price))\n",
    "        \n",
    "**Unzip**: allowes you to seperate a mapped iterator to individual iterator by using **<font style = \"color : 'blue'\">\\*</font>**<br>. But notice, zip(\\*iterator) should also be **iterator but NOT zip obejct.**\n",
    "\n",
    "    fname, fqunt, fprice = zip(*fruit_zip)\n",
    "    print(fname)\n",
    "    >>('apple', 'banana', 'peach', 'orange', 'blueberry', 'cherry', 'malon')\n",
    "    print(fqunt)\n",
    "    >>(\n",
    "    print(fprice)\n",
    "    >>(4.55, 4.56, 7.2, 5.19, 6.33, 4.85, 5.46)\n",
    "**Practical utility** is similar to .group() when you want to display values in some group-format."
   ]
  },
  {
   "cell_type": "code",
   "execution_count": 309,
   "metadata": {
    "ExecuteTime": {
     "end_time": "2019-09-27T15:51:52.670470Z",
     "start_time": "2019-09-27T15:51:52.661470Z"
    }
   },
   "outputs": [
    {
     "data": {
      "text/plain": [
       "[4.55, 4.56, 7.2, 5.19, 6.33, 4.85, 5.46]"
      ]
     },
     "execution_count": 309,
     "metadata": {},
     "output_type": "execute_result"
    }
   ],
   "source": [
    "import numpy as np\n",
    "random.sample(range(1, 10), 7)\n",
    "list(np.random.uniform(3.5, 7.4, 7).round(2))"
   ]
  },
  {
   "cell_type": "code",
   "execution_count": 323,
   "metadata": {
    "ExecuteTime": {
     "end_time": "2019-09-27T16:06:52.850470Z",
     "start_time": "2019-09-27T16:06:52.837470Z"
    }
   },
   "outputs": [
    {
     "name": "stdout",
     "output_type": "stream",
     "text": [
      "The friut retail list is: \n",
      " [('apple', 113, 5.57), ('banana', 261, 3.77), ('peach', 394, 6.03), ('orange', 348, 5.32), ('blueberry', 352, 4.73), ('cherry', 430, 7.38), ('malon', 446, 6.59)]\n",
      "\n",
      "The unzipped list is:\n",
      " The fruit name list is:('apple', 'banana', 'peach', 'orange', 'blueberry', 'cherry', 'malon') \n",
      " The fruit quantity list is (113, 261, 394, 348, 352, 430, 446) \n",
      " The fruit price list is (5.57, 3.77, 6.03, 5.32, 4.73, 7.38, 6.59)\n"
     ]
    }
   ],
   "source": [
    "# seed = 10\n",
    "f_name = ['apple', 'banana', 'peach', 'orange', 'blueberry', 'cherry', 'malon']\n",
    "f_qunt = random.sample(range(100, 500), 7)\n",
    "f_price = list(np.random.uniform(3.5, 7.4, 7).round(2))\n",
    "fruit_zip =list(zip(f_name, f_qunt, f_price))\n",
    "print(\"The friut retail list is: \\n\", fruit_zip)\n",
    "fname, fqunt, fprice = zip(*fruit_zip)\n",
    "print(\"\\nThe unzipped list is:\\n The fruit name list is:{} \\n The fruit quantity list is {} \\n The fruit price list is {}\".format(fname, fqunt, fprice))"
   ]
  },
  {
   "cell_type": "markdown",
   "metadata": {},
   "source": [
    "#### eval\n",
    "**eval()** lets a Python program run Python code within itself, which parses the expression passed to it and runs python code within the program.\n",
    "\n",
    "    eval(expression, globals = None, locals = None)\n",
    "- expression:  \n",
    "- globals: a dictionary to specify the available global methods and variables.\n",
    "- locals: a dictionary to specify the available local methods and variables.\n"
   ]
  },
  {
   "cell_type": "code",
   "execution_count": 122,
   "metadata": {
    "ExecuteTime": {
     "end_time": "2019-09-25T17:15:45.581470Z",
     "start_time": "2019-09-25T17:15:45.571470Z"
    }
   },
   "outputs": [
    {
     "name": "stdout",
     "output_type": "stream",
     "text": [
      "2\n"
     ]
    }
   ],
   "source": [
    "#simple example\n",
    "x = 1\n",
    "print(eval('x+1'))\n",
    "# from math import *\n",
    "\n",
    "# def te_fun():\n",
    "#     return \"Secret key is 2333\"\n",
    "# def fun_creator():\n",
    "#     #expression to be evaluated\n",
    "#     expression = raw_input(\"Enter the function(in terms of x: \")\n",
    "#     #variables to be evaluated\n",
    "#     x = int(raw_input(\"Enter the value of x: \"))\n",
    "#     #evaluating the expression\n",
    "#     y = eval(expression)\n",
    "#     #return the result\n",
    "#     print(\"Result is {}.\".format(y))\n",
    "    \n",
    "# if __name__ == \"__main__\":\n",
    "#     fun_creator"
   ]
  },
  {
   "cell_type": "code",
   "execution_count": null,
   "metadata": {},
   "outputs": [],
   "source": []
  },
  {
   "cell_type": "markdown",
   "metadata": {},
   "source": [
    "## Object v.s Class\n",
    "### Variable\n",
    "        list_1  = [\"apple\", \"banana\", \"peach\"]\n",
    "**list_1** is variable, **[\"apple\", \"banana\", \"peach\"]** is object. <br>\n",
    "**A python object**, almost everything in python is an object. Along with its properties and methods, obejct is created in the memory and the variable a refers to this object by holding its location in memory.<br>\n",
    "**A Class** is like an object constructor, or a \"blueprint\" for creating objects<br>\n",
    "In fact, you can actually retrieve the location of the list object in memory by inspecting x using the id() function.<br>\n",
    "When you update the element inside a list, it will update the element of memory, but the id won't change.<br>\n",
    "If you assign y = x, then y will have the same id() as x, which result in 2 references(x and y) to the same list object in the memory. Thus, when you change y[10], it's the same as change x[10]. That's why if you may want to use y = x.copy() to avoid change in x.\n",
    "<br>\n",
    "Mutability is more efficient when you know you will be frequently modifying an object. i.e. iterable object, appending performance, but immutability wins in easiness of debugging.<br>\n",
    "\n",
    "### Class\n",
    "Create a class with a property named x:\n",
    "\n",
    "    class MyClass:\n",
    "        x = 5\n",
    "Imaging Class as a **frame** of an object, which will help you list out everything you want to generate for that object, including properties, methods, operations. \n",
    "### Object\n",
    "Create a object with the class created above:\n",
    "\n",
    "    p1 = MyClass()\n",
    "    print(p1.x)\n",
    "    >>5\n",
    "1. __init__()  is a built-in function of class, which is always executed when the class is being initiated in order to **assign values to object properties(parameters)** or **other operations** that are necessary to do when the object is being created. You can also assign the default value to all properties.\n",
    "\n",
    "    class Person:\n",
    "        def __init__(self, name, age, location = 'US'):\n",
    "            self.name = name\n",
    "            self.age = age\n",
    "            self.location = location\n",
    "        def myfunc(self):\n",
    "            print(\"My name is {}, and I am {} years old.\".format(self.name, self.age))\n",
    "            \n",
    "    p1 = Person(\"John\", 36)\n",
    "    print(p1.name)\n",
    "    print(p1.age)\n",
    "    \n",
    "<font style = \"color:dark blue\">Imaging __init__(self, p1, p2..) as a initial framework of an object to **generate parameters** which need to be given by user when user call this object.</font><br> \n",
    "2. **methods**: Objects can also contain methods, which are functions belong to the object.\n",
    "Then inside class, we can also create object methods just as what we do to create a function, by passing **self** as the parameter. <br>\n",
    "3. **self** parameter is a reference to the current instance of the class, and is used to access variables that belong to the class. But id does not need to be named as self, you can call it whatever you want, but it has to be the **first** parameter of any function in the class:\n",
    "\n",
    "4. **modify object properties** by\n",
    "        p1.age = 40\n",
    "5. **Delete object properties** by\n",
    "        del p1.location\n",
    "   **Delete the entire object** by\n",
    "         del p1\n",
    "**Just recall the way you are using all ML functions in sklearn, like lightgbm(), is an object created with all properties(parameters) that can be passed and methods that can be called by user.**\n",
    "    \n",
    "    class lightgbm:\n",
    "        def __init__(boosting_type='gbdt', num_leaves=31, max_depth=-1, learning_rate=0.1, n_estimators=100, subsample_for_bin=200000, objective=None, class_weight=None, min_split_gain=0.0, min_child_weight=0.001, min_child_samples=20, subsample=1.0, subsample_freq=0, colsample_bytree=1.0, reg_alpha=0.0, reg_lambda=0.0, random_state=None, n_jobs=-1, silent=True, importance_type='split', **kwargs)\n",
    "**Method**\n",
    "\n",
    "        def fit((X, y, sample_weight=None, init_score=None, eval_set=None, eval_names=None, eval_sample_weight=None, eval_class_weight=None, eval_init_score=None, eval_metric=None, early_stopping_rounds=None, verbose=True, feature_name='auto', categorical_feature='auto', callbacks=None): \n",
    "            ...\n",
    "        def get_params(self,...) :\n",
    "            ...\n",
    "        def predict(X, raw_score=False, num_iteration=None, pred_leaf=False, pred_contrib=False, **kwargs): \n",
    "            ...\n",
    "        def predict_proba(X, raw_score=False, num_iteration=None, pred_leaf=False, pred_contrib=False, **kwargs):\n",
    "            ...\n",
    "**Attributes**\n",
    "       \n",
    "       def best_iterations_(self):\n",
    "           ...\n",
    "       def best_score_(self):\n",
    "           ...\n",
    "       def feature_importances_(self):\n",
    "           ...\n",
    "        \n",
    "Then you can use this objects by:\n",
    "\n",
    "    lgb_model = lightgbm(parameters)\n",
    "    lgb_model.fit(...)\n",
    "    lgb_model.predict(...)\n",
    "    lgh_model.feature_importances(...)"
   ]
  },
  {
   "cell_type": "code",
   "execution_count": 111,
   "metadata": {
    "ExecuteTime": {
     "end_time": "2019-09-17T22:00:32.382470Z",
     "start_time": "2019-09-17T22:00:32.367470Z"
    }
   },
   "outputs": [
    {
     "name": "stdout",
     "output_type": "stream",
     "text": [
      "My name is John, and I am 36 years old.\n",
      "I currently live in US\n",
      "John\n",
      "36\n"
     ]
    }
   ],
   "source": [
    "    class Person:\n",
    "        def __init__(self, name, age, location):\n",
    "            self.name = name\n",
    "            self.age = age\n",
    "            self.location = location\n",
    "        def myfunc1(self):\n",
    "            print(\"My name is {}, and I am {} years old.\".format(self.name, self.age))\n",
    "        def myfun2(abc):\n",
    "            print(\"I currently live in {}\".format(abc.location))\n",
    "    p1 = Person(\"John\", 36, \"US\")\n",
    "    p1.myfunc1()\n",
    "    p1.myfun2()\n",
    "    print(p1.name)\n",
    "    print(p1.age)"
   ]
  },
  {
   "cell_type": "markdown",
   "metadata": {},
   "source": [
    "### Inheritance\n",
    "Inheritance allows us to define a class that inherits all the methods and properties from another class.\n",
    "- **Parent class** is the class being inherited from, also called base class\n",
    "- **Child class** is the class that inherits from another class, also called derived class.\n",
    "**Create a Child Class** by sending the parent class as a parameter when creating the child class:\n",
    "\n",
    "    class Student(Person):\n",
    "        pass\n",
    "**pass** is used when you do not want to add or change other properties or methods to the class. But often we want to modify it so it won't literally be the same as parent. So instead of using **pass**, use __init__() to create the child's own object parameter frame, which is different from the parent's.\n",
    "   \n",
    "    class Student(Person):\n",
    "        def __init__(self, f_name, l_name):\n",
    "            self.f_name = f_name\n",
    "            self.l_name = l_name\n",
    "    #This will remove all parameters in parent object. To keep the inheritance of the parent's __init__(), add a call to the parent's __init__() function:\n",
    "    class Student(Person):\n",
    "        def __init__(self, f_name, l_name):\n",
    "            Person.__init__(self, f_name, l_name)\n",
    "            ...\n",
    "**super()** function can also help to inherit the methods and properties from its parent.\n",
    "\n",
    "    class Student(Person):\n",
    "        def __init__(self, f_name, l_name):\n",
    "            super().__init__(f_name, l_name)\n",
    "            ...\n",
    "Then after inherit methods and properties from parent, now we can add new properties and methods for child object.\n",
    "\n",
    "    class Student(Person):\n",
    "        def __init__(self, fname, lname, major, grade):\n",
    "            Person.__init__(self, fname, lname)\n",
    "            self.major = major\n",
    "            self.grade = grade\n",
    "        \n",
    "        def myfun3(self):\n",
    "            print(\"Hi My name is {} {}, and I am studying {} from {}.\".format(self.fname, self.lname, self.major, self.grade))\n",
    "\n",
    "Notice if you use the same method name as in parent, parent one will be overridden. See following example.\n"
   ]
  },
  {
   "cell_type": "code",
   "execution_count": 121,
   "metadata": {
    "ExecuteTime": {
     "end_time": "2019-09-19T13:52:04.514470Z",
     "start_time": "2019-09-19T13:52:04.508470Z"
    }
   },
   "outputs": [
    {
     "name": "stdout",
     "output_type": "stream",
     "text": [
      "I currently live in Chicago\n",
      "Hi My name is Mike, and I am studying Art from 2018 in Chicago\n"
     ]
    }
   ],
   "source": [
    "class Student(Person):\n",
    "    def __init__(self, name, age, location, major, grade):\n",
    "        Person.__init__(self, name, age, location)\n",
    "        self.major = major\n",
    "        self.grade = grade\n",
    "    \n",
    "    def myfun3(self):\n",
    "        print(\"Hi My name is {}, and I am studying {} from {} in {}\".format(self.name, self.major, self.grade, self.location))\n",
    "        \n",
    "y1 = Student(\"Mike\", 18, \"Chicago\", \"Art\", 2018)\n",
    "y1.myfun2()  #original method from parent object\n",
    "y1.myfun3()  #method create for child object"
   ]
  },
  {
   "cell_type": "markdown",
   "metadata": {},
   "source": [
    "### Iterators\n",
    "An iterator is an object that contains a countable number of values, which can be iterated upon, and traverse(cross through or move backward/forward) through all the values. Iterator contains methods: __iter__() and __next__().\n",
    "\n",
    "#### Iterator v.s. Iterable\n",
    "<img src = \"iterator.png\" width = 700  height = 500><br>\n",
    "- **Iterator** is a specific class which has __next__() method, which means every time you ask for next value, an iterator know how to compute it. It is because it keeps information about the current state of the iterable it is working on. The benefits of Iterator are: **cleaner looking code that can work with infinite sequences without reallocate resources.**<br>\n",
    "Python built-in iterator protocols are: \n",
    "**List, tuple, dictionary, string and set**. They are iterable **containers** which you can get an iterator from by using **iter()** method:\n",
    "\n",
    "        tuple1 = (\"apple\", \"banana\", \"peach\")\n",
    "        t_iter = iter(tuple1)\n",
    "        print(next(t_iter))\n",
    "        print(next(t_iter))\n",
    "        print(next(t_iter))\n",
    "    \n",
    "        string1 = \"apple\"\n",
    "        s_iter = iter(string1)\n",
    "        for x in s_iter:\n",
    "            print(x)\n",
    "- **Iterables** is any object, not neccesarily a data structure that can return an iterator. Its main purpose is to return all of its elements. Iterables can represent finite, infinite source of data. Often the iterable classes will implement both __init__() and __next__() in the same class, with __init__() retuern itself, which makes the __iterable__ class both an iterable and its own interator.<br>\n",
    "\n",
    "See the difference between **Iterator** and **Iterable**:\n",
    "\n",
    "    a_set = {1,2,3,4}\n",
    "    b_iterator = iter(a_set)\n",
    "    \n",
    "    type(a_set)\n",
    "    type(b_iterator)\n",
    "The built-in function **iter()** takes an iterable object and return an iterator."
   ]
  },
  {
   "cell_type": "code",
   "execution_count": 130,
   "metadata": {
    "ExecuteTime": {
     "end_time": "2019-09-19T15:13:03.341470Z",
     "start_time": "2019-09-19T15:13:03.323470Z"
    }
   },
   "outputs": [
    {
     "name": "stdout",
     "output_type": "stream",
     "text": [
      "apple\n",
      "banana\n",
      "peach\n",
      "tuple has data type as <class 'tuple'>\n",
      "t_iter has data type as <class 'tuple_iterator'>\n",
      "a\n",
      "p\n",
      "p\n"
     ]
    }
   ],
   "source": [
    "    tuple1 = (\"apple\", \"banana\", \"peach\")\n",
    "    t_iter = iter(tuple1)\n",
    "    print(next(t_iter))\n",
    "    print(next(t_iter))\n",
    "    print(next(t_iter))\n",
    "    print(\"tuple has data type as {}\".format(type(tuple1)))\n",
    "    print(\"t_iter has data type as {}\".format(type(t_iter)))\n",
    "    string1 = \"apple\"\n",
    "    s_iter = iter(string1)\n",
    "    print(next(s_iter))\n",
    "    print(next(s_iter))\n",
    "    print(next(s_iter))"
   ]
  },
  {
   "cell_type": "markdown",
   "metadata": {},
   "source": [
    "#### Create an Iterator\n",
    "\n",
    "You can create you own iterator object/calss with __iter__() and __next__() method.<br>\n",
    "Create an iterator that returns numbers, starting with 1, and each sequence will increase by one (returning 1,2,3,4,5 etc.):\n",
    "<br>Adding StopIteration will limit the iteration time:\n",
    "\n",
    "    class increment_number:\n",
    "        def __iter__(self):\n",
    "            self.a = 1\n",
    "            return self\n",
    "        def __next__(self):\n",
    "            if self.a <=20:\n",
    "                x = self.a\n",
    "                self.a += 1\n",
    "                return x\n",
    "            else: raise StopIteration\n",
    "    myinclass = increment_number()\n",
    "    my_iter = iter(myinclass)\n",
    "    for x in my_iter:\n",
    "        print(x)"
   ]
  },
  {
   "cell_type": "code",
   "execution_count": 137,
   "metadata": {
    "ExecuteTime": {
     "end_time": "2019-09-19T16:53:36.160470Z",
     "start_time": "2019-09-19T16:53:36.138470Z"
    }
   },
   "outputs": [
    {
     "name": "stdout",
     "output_type": "stream",
     "text": [
      "Self Created iter obejct:\n",
      "1\n",
      "2\n",
      "3\n",
      "print all until the boundary:\n",
      "1 2 3 4 5 6 7 8 9 10 "
     ]
    }
   ],
   "source": [
    "#first example -- no parameters need, similar to fixed range(1, 10)\n",
    "class increment_number:\n",
    "        def __iter__(self):\n",
    "            self.a = 1\n",
    "            return self\n",
    "        def __next__(self):\n",
    "            if self.a <= 10:\n",
    "                x = self.a\n",
    "                self.a += 1\n",
    "                return x     #<- otherwise, there will be infinite loop\n",
    "            else: raise StopIteration\n",
    "myinclass = increment_number()\n",
    "my_iter = iter(myinclass)\n",
    "print(\"Self Created iter obejct:\")\n",
    "print(next(my_iter))\n",
    "print(next(my_iter))\n",
    "print(next(my_iter))\n",
    "print(\"print all until the boundary:\")\n",
    "for x in my_iter:\n",
    "    print(x, end = \" \")"
   ]
  },
  {
   "cell_type": "code",
   "execution_count": 138,
   "metadata": {
    "ExecuteTime": {
     "end_time": "2019-09-19T16:53:54.142470Z",
     "start_time": "2019-09-19T16:53:54.130470Z"
    }
   },
   "outputs": [
    {
     "name": "stdout",
     "output_type": "stream",
     "text": [
      "2 3 4 5 6 7 8 9 10 11 [1, 2, 3, 4, 5, 6, 7, 8, 9, 10]\n"
     ]
    }
   ],
   "source": [
    "#second example -- similar to range(low, high, step = 1)\n",
    "class series:\n",
    "    def __init__(self, low, high):\n",
    "        self.current = low\n",
    "        self.high = high\n",
    "        \n",
    "    def __iter__(self):\n",
    "        return self\n",
    "    \n",
    "    def __next__(self):\n",
    "        if self.current>self.high:\n",
    "            raise StopIteration\n",
    "        else:\n",
    "            self.current += 1\n",
    "            print(self.current, end = \" \")\n",
    "            return self.current - 1\n",
    "n_series = series(1,10)\n",
    "print(list(n_series))"
   ]
  },
  {
   "cell_type": "code",
   "execution_count": 166,
   "metadata": {
    "ExecuteTime": {
     "end_time": "2019-09-19T18:57:34.807470Z",
     "start_time": "2019-09-19T18:57:34.786470Z"
    }
   },
   "outputs": [
    {
     "name": "stdout",
     "output_type": "stream",
     "text": [
      "[9, 8, 7, 6, 5, 4, 3, 2, 1, 0]\n",
      "45\n"
     ]
    }
   ],
   "source": [
    "#third example -- similar to range(0, n, step = -1)\n",
    "class yrange:\n",
    "    def __init__(self, n):\n",
    "        self.i = 0\n",
    "        self.n = n\n",
    "    \n",
    "    def __iter__(self):\n",
    "        return self\n",
    "    def __next__(self):\n",
    "        if  self.n > 0:\n",
    "            x = self.n \n",
    "            self.n -= 1\n",
    "            return x-1\n",
    "        else:\n",
    "            raise StopIteration\n",
    "print(list(yrange(10)))\n",
    "print(sum(yrange(10)))"
   ]
  },
  {
   "cell_type": "markdown",
   "metadata": {},
   "source": [
    "#### Generators\n",
    "Generators simpify the creation step of iterators, which is a function that produces a sequence of results instead of a single value by using **yield** \n",
    "\n",
    "    def xrange_generator(n):\n",
    "        i = 0\n",
    "        while n > i:\n",
    "            yield i\n",
    "            i += 1\n",
    "**yield** basically replaces the **return** statement of a function but rather provides a result to its caller without destroying local variables. \n",
    "\n",
    "**Types of Generator**<br>\n",
    "- **Generator function** which is a function with keyword **yield** inside the body, like the above example.\n",
    "\n",
    "- **Generator Expression** is the generator equivalent to a list comprehension. i.e.<br>\n",
    "    \n",
    "        squares = (x*x for x in range(1,10))\n",
    "        print(type(squares))\n",
    "        print(list(squares))\n",
    "The most useful way of generator is to replace:\n",
    "\n",
    "        def function():\n",
    "            result = []\n",
    "            for .. in ...:\n",
    "                x = ...\n",
    "                result.append(x)\n",
    "            return result\n",
    "by:\n",
    "\n",
    "        def function():\n",
    "            for .. in ...:\n",
    "                yield\n",
    "<mark>**Notice the result of generator is generator type, using list(result) to display the result value**</mark>            "
   ]
  },
  {
   "cell_type": "code",
   "execution_count": 167,
   "metadata": {
    "ExecuteTime": {
     "end_time": "2019-09-19T19:04:51.517470Z",
     "start_time": "2019-09-19T19:04:51.499470Z"
    }
   },
   "outputs": [
    {
     "name": "stdout",
     "output_type": "stream",
     "text": [
      "[0, 1, 2, 3, 4]\n",
      "[4, 3, 2, 1, 0]\n",
      "<class 'generator'>\n",
      "[1, 8, 27, 64, 125, 216, 343, 512, 729]\n"
     ]
    }
   ],
   "source": [
    "    def xrange_generator(n):\n",
    "        i = 0\n",
    "        while n > i:\n",
    "            yield i\n",
    "            i += 1\n",
    "x = xrange_generator(5)\n",
    "print(list(x))\n",
    "\n",
    "    def yrange_generator(n):\n",
    "        i = n-1\n",
    "        while 0 <= i < n:\n",
    "            yield i\n",
    "            i -= 1\n",
    "y = yrange_generator(5)\n",
    "print(list(y))\n",
    "\n",
    "triple = (x*x*x for x in range(1,10))\n",
    "print(type(triple))\n",
    "print(list(triple))"
   ]
  },
  {
   "cell_type": "markdown",
   "metadata": {},
   "source": [
    "**Problem1.** Image we have a problem to find pythogorian triplets(which is x<sup>2</sup> + y<sup>2</sup> = z<sup>2</sup>) with numbers inside 100"
   ]
  },
  {
   "cell_type": "code",
   "execution_count": 186,
   "metadata": {
    "ExecuteTime": {
     "end_time": "2019-09-19T20:00:52.864470Z",
     "start_time": "2019-09-19T20:00:52.810470Z"
    }
   },
   "outputs": [
    {
     "name": "stdout",
     "output_type": "stream",
     "text": [
      "[(3, 4, 5), (6, 8, 10), (5, 12, 13), (9, 12, 15), (8, 15, 17), (12, 16, 20), (15, 20, 25), (7, 24, 25), (10, 24, 26), (20, 21, 29), (18, 24, 30), (16, 30, 34), (21, 28, 35), (12, 35, 37), (15, 36, 39), (24, 32, 40), (9, 40, 41), (27, 36, 45), (30, 40, 50), (14, 48, 50), (24, 45, 51), (20, 48, 52), (28, 45, 53), (33, 44, 55), (40, 42, 58), (36, 48, 60), (11, 60, 61), (39, 52, 65), (33, 56, 65), (25, 60, 65), (16, 63, 65), (32, 60, 68), (42, 56, 70), (48, 55, 73), (24, 70, 74), (45, 60, 75), (21, 72, 75), (30, 72, 78), (48, 64, 80), (18, 80, 82), (51, 68, 85), (40, 75, 85), (36, 77, 85), (13, 84, 85), (60, 63, 87), (39, 80, 89), (54, 72, 90), (35, 84, 91), (57, 76, 95), (65, 72, 97)]\n"
     ]
    }
   ],
   "source": [
    "def integers(n):\n",
    "    #return a sequence of integer\n",
    "    i = 1\n",
    "    while i < n:\n",
    "        yield i\n",
    "        i += 1\n",
    "#print(list(integers(10)) )       \n",
    "def sqaures(m):\n",
    "    #return square result\n",
    "    for i in integers(m):\n",
    "        yield i*i\n",
    "#print(list(sqaures(10)))\n",
    "\n",
    "p_triplets = ((x,y,z) for z in integers(100) for y in range(1, z) for x in range(1,y) if x*x +y*y == z*z)\n",
    "print(list(p_triplets))\n",
    "# print(take(10, p_triplets))"
   ]
  },
  {
   "cell_type": "markdown",
   "metadata": {},
   "source": [
    "#### Tips \n",
    "When you want to create a iteration/container in dictionary, list using simplify way. <BR>\n",
    "    Remember evertime to put the elements first before the conditions.      "
   ]
  },
  {
   "cell_type": "code",
   "execution_count": 238,
   "metadata": {
    "ExecuteTime": {
     "end_time": "2019-09-26T19:49:04.823470Z",
     "start_time": "2019-09-26T19:49:04.813470Z"
    }
   },
   "outputs": [
    {
     "name": "stdout",
     "output_type": "stream",
     "text": [
      "Sudio with online movies:  {'Marvel': ('Xman', 'Ironman', 'Averagers'), 'DC': ('Superman', 'Batman'), 'Disney': ('Snow White', 'Little Memaid', 'Frozen')}\n",
      "Studio that has online movies: ['Marvel', 'Disney', 'DC']\n",
      "Series Movies:  {'Marvel': ('Xman', 'Ironman', 'Averagers'), 'Disney': ('Snow White', 'Little Memaid', 'Frozen'), '20th Century Fox': ('BreakThrough', 'Deadpool', 'Kung Fu Panda')}\n"
     ]
    }
   ],
   "source": [
    "#((x,y,z) for z in integers(100) for y in range(1, z) for x in range(1,y) if x*x +y*y == z*z)\n",
    "series = ['Averagers','Frozen','Deadpool','Kung Fu Panda' ]\n",
    "movie = {'Marvel': ('Xman','Ironman', 'Averagers'),\n",
    "         'DC': ('Superman', 'Batman'),\n",
    "         'Disney': ('Snow White', 'Little Memaid', 'Frozen'),\n",
    "         '20th Century Fox':('BreakThrough', 'Deadpool', 'Kung Fu Panda') }\n",
    "studio = ['Marvel', 'Disney', 'DC', 'Focus', 'Sony','Warner'] \n",
    "\n",
    "print(\"Sudio with online movies: \", {s: m for s, m in movie.items() if s in studio})\n",
    "print(\"Studio that has online movies:\", [s for s in studio if s in movie])\n",
    "print(\"Series Movies: \", {s: m for s, m in movie.items() if any(s in series for s in m)})"
   ]
  },
  {
   "cell_type": "markdown",
   "metadata": {},
   "source": [
    "**Itertools Module**<br>\n",
    "This is a library which has some common iteresting iteration functions.\n",
    "- **chain** - chains multiple iterators together\n",
    "    itertools.chain(iter([1,2,3]), iter([4,5,6]))\n",
    "- **izip** - iterable version of zip\n",
    "        for x, y in itertools.izip([\"a\", \"b\", \"c\"], [1,2,3]):\n",
    "            print(x, y)"
   ]
  },
  {
   "cell_type": "code",
   "execution_count": 191,
   "metadata": {
    "ExecuteTime": {
     "end_time": "2019-09-19T20:20:59.210470Z",
     "start_time": "2019-09-19T20:20:59.195470Z"
    }
   },
   "outputs": [
    {
     "name": "stdout",
     "output_type": "stream",
     "text": [
      "[1, 2, 3, 4, 5, 6]\n"
     ]
    },
    {
     "data": {
      "text/plain": [
       "[(0, 'a'), (1, 'b'), (2, 'c')]"
      ]
     },
     "execution_count": 191,
     "metadata": {},
     "output_type": "execute_result"
    }
   ],
   "source": [
    "import itertools\n",
    "print(list(itertools.chain(iter([1,2,3]), iter([4,5,6]))))\n",
    "list(enumerate([\"a\", \"b\", \"c\"]))"
   ]
  },
  {
   "cell_type": "markdown",
   "metadata": {},
   "source": [
    "## Scope\n",
    "A variable is only available from inside the region it is created, the region is called scope. \n",
    "- **Local Scope**: A variable is created inside a function and can only be used inside that function. The variable can be integer, list, dictionary and also can be another function.\n",
    "    def myfun():\n",
    "        i = 0\n",
    "        ...\n",
    "        def mysubfun(i,...):\n",
    "            ...\n",
    "  For function myfun(), i is **\"local\"** variables, can only be used inside myfun() and any functions inside. While for mysubfun(), i is **\"global\"** variables because it can be used inside and outside mysubfun()    \n",
    "- **Global Scope**: A variable created in the main code body and are available from within any scope, global and local.\n",
    "        x = 300\n",
    "        print(x)          #global\n",
    "        def myfun():\n",
    "            print(x)      #local\n",
    "        myfun()\n",
    "- **Naming Variables**: if there is two variables in both global and local scope, Python will treat them as two seperate variables.    \n",
    "        x = 300\n",
    "        print(x)          #global\n",
    "        >>300\n",
    "        def myfun():\n",
    "            x = 200\n",
    "            print(x)      #local\n",
    "        myfun()\n",
    "        >>200\n",
    "- **Global Keyword**: If you want to create a global variable, but are stuck in the local scope, you can do by mentioning **global** before that variable.\n",
    "        def myfun():\n",
    "            global x\n",
    "            x = 100\n",
    "        myfun()\n",
    "        print(x)\n",
    "        >>100\n",
    "  Or you want to change the value of global variables inside functions:\n",
    "          x = 300\n",
    "          print(x)\n",
    "          >>300\n",
    "          def myfun():\n",
    "              global x \n",
    "              x = 200\n",
    "          myfun()\n",
    "          print(x)\n",
    "          >>200"
   ]
  },
  {
   "cell_type": "markdown",
   "metadata": {},
   "source": [
    "## JSON\n",
    "JSON - JavaScript Object Notation is a \"lightweight data-interchange format which uses human-readable text to transmit data objects consisting of attribute-value paires and array data types. Which looks like Python Dictionary with **key -> value** mapping. \n",
    "\n",
    "Although they look similar, but JSON is a *serialization format* to representing structured data in the form of a textual string, which is better for sharing/transferring/saving to disk/file and retrieve. Dictionary is a *data structure* to store data in the memory that provides certain abilities such as rapid lookup and enumeration.\n",
    "\n",
    "- Serialize means convert to a file on disk - i.e. dump a variable(data object, list or dictionary, etc) to disk from an application. Deserialize is the reverse process which read a file into an application.<br>\n",
    "  A Javascript obejct, python dictionary, perl hash or associative arrays are mostly the same concept.\n",
    "\n",
    "\n",
    "\n",
    "### JSON to Python\n",
    "Python has a built-in module called **json** which can be used to work with JSON data.<br>\n",
    "You can serialize a dictionary as a JSON string by **json.dumps** and parse it by **json.loads**.\n",
    "- JSON to Python\n",
    "        import json\n",
    "        j_example = '{\"name\": \"John\",\"age\": 30,\"location\": \"Chicago\"}'\n",
    "        j_parse = json.loads(j_example)\n",
    "        print(j_parse[\"age\"])\n",
    "        >>30\n",
    "- Python to JSON\n",
    "        p_example = {\"name\": \"John\",\n",
    "                     \"age\": 30,\n",
    "                     \"location\": \"Chicago\"\n",
    "                     }\n",
    "        p_load = json.dumps(p_example)\n",
    "        print(p_load)\n",
    "        >>{\"name\": \"John\", \"age\": 30, \"city\": \"New York\"}\n",
    "  Almost all Python Objects can be converted into JSON strings by **json.dumps()**. The following example is a python object contains all python types."
   ]
  },
  {
   "cell_type": "code",
   "execution_count": 254,
   "metadata": {
    "ExecuteTime": {
     "end_time": "2019-09-20T15:31:52.128470Z",
     "start_time": "2019-09-20T15:31:52.124470Z"
    }
   },
   "outputs": [
    {
     "name": "stdout",
     "output_type": "stream",
     "text": [
      "{\"name\": \"John\", \"age\": 30, \"married\": true, \"divorced\": false, \"children\": [\"Ann\", \"Billy\"], \"pets\": null, \"cars\": [{\"model\": \"BMW 230\", \"mpg\": 27.5}, {\"model\": \"Ford Edge\", \"mpg\": 24.1}]}\n"
     ]
    }
   ],
   "source": [
    "import json\n",
    "x = {\n",
    "  \"name\": \"John\",\n",
    "  \"age\": 30,\n",
    "  \"married\": True,\n",
    "  \"divorced\": False,\n",
    "  \"children\": (\"Ann\",\"Billy\"),\n",
    "  \"pets\": None,\n",
    "  \"cars\": [\n",
    "    {\"model\": \"BMW 230\", \"mpg\": 27.5},\n",
    "    {\"model\": \"Ford Edge\", \"mpg\": 24.1}\n",
    "  ]\n",
    "}\n",
    "\n",
    "print(json.dumps(x))"
   ]
  },
  {
   "cell_type": "markdown",
   "metadata": {},
   "source": [
    "**Format the result**<br>\n",
    "After convert python objects to JSON, it's time to add some indentations and line breaks for easy-read. <br>\n",
    "**json.dumps()** method has parameters: \n",
    "- indent: \n",
    "    json.dumps(x, indent=4)\n",
    "- seperators:\n",
    "    json.dumps(x, indent=4, separators=(\". \", \" = \"))\n",
    "- Order the results:\n",
    "    json.dumps(x, indent=4, sort_keys=True)"
   ]
  },
  {
   "cell_type": "code",
   "execution_count": 259,
   "metadata": {
    "ExecuteTime": {
     "end_time": "2019-09-20T15:49:23.388470Z",
     "start_time": "2019-09-20T15:49:23.381470Z"
    }
   },
   "outputs": [
    {
     "data": {
      "text/plain": [
       "'{\"age\" = 30; \"cars\" = [{\"model\" = \"BMW 230\"; \"mpg\" = 27.5}; {\"model\" = \"Ford Edge\"; \"mpg\" = 24.1}]; \"children\" = [\"Ann\"; \"Billy\"]; \"divorced\" = false; \"married\" = true; \"name\" = \"John\"; \"pets\" = null}'"
      ]
     },
     "execution_count": 259,
     "metadata": {},
     "output_type": "execute_result"
    }
   ],
   "source": [
    "json.dumps(x, separators=(\"; \", \" = \"), sort_keys=True)"
   ]
  },
  {
   "cell_type": "markdown",
   "metadata": {},
   "source": [
    "### Pandas\n",
    "Using Pandas, it's also easy to read JSON file and convert it to dataframe.\n",
    "\n",
    "    import pandas as pd\n",
    "    raw_data = pd.read_json(path, lines = True, orient = 'columns')  #this will open the top1 {}\n",
    "Below is a tutorial with dataset downloadable <a href = \"https://www.kaggle.com/roamresearch/prescriptionbasedprediction#roam_prescription_based_prediction.jsonl\">here</a>"
   ]
  },
  {
   "cell_type": "code",
   "execution_count": null,
   "metadata": {},
   "outputs": [],
   "source": []
  }
 ],
 "metadata": {
  "kernelspec": {
   "display_name": "Python 3",
   "language": "python",
   "name": "python3"
  },
  "language_info": {
   "codemirror_mode": {
    "name": "ipython",
    "version": 3
   },
   "file_extension": ".py",
   "mimetype": "text/x-python",
   "name": "python",
   "nbconvert_exporter": "python",
   "pygments_lexer": "ipython3",
   "version": "3.6.5"
  },
  "toc": {
   "base_numbering": 1,
   "nav_menu": {},
   "number_sections": true,
   "sideBar": true,
   "skip_h1_title": false,
   "title_cell": "Table of Contents",
   "title_sidebar": "Contents",
   "toc_cell": false,
   "toc_position": {
    "height": "calc(100% - 180px)",
    "left": "10px",
    "top": "150px",
    "width": "336px"
   },
   "toc_section_display": true,
   "toc_window_display": true
  },
  "varInspector": {
   "cols": {
    "lenName": 16,
    "lenType": 16,
    "lenVar": 40
   },
   "kernels_config": {
    "python": {
     "delete_cmd_postfix": "",
     "delete_cmd_prefix": "del ",
     "library": "var_list.py",
     "varRefreshCmd": "print(var_dic_list())"
    },
    "r": {
     "delete_cmd_postfix": ") ",
     "delete_cmd_prefix": "rm(",
     "library": "var_list.r",
     "varRefreshCmd": "cat(var_dic_list()) "
    }
   },
   "types_to_exclude": [
    "module",
    "function",
    "builtin_function_or_method",
    "instance",
    "_Feature"
   ],
   "window_display": false
  }
 },
 "nbformat": 4,
 "nbformat_minor": 2
}
