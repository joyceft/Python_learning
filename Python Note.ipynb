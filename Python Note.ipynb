{
 "cells": [
  {
   "cell_type": "markdown",
   "metadata": {},
   "source": [
    "This is a note for Python Learning\n",
    "## Basic Operators\n",
    "Type of Operator\n",
    "- Arithmetic Operators\n",
    "- Comparison(Relational) Operators\n",
    "- Assignment Operators\n",
    "- Logical Operators\n",
    "- Bitwise Operators\n",
    "- Membership Operators\n",
    "- Identity Operators"
   ]
  },
  {
   "cell_type": "code",
   "execution_count": 7,
   "metadata": {
    "ExecuteTime": {
     "end_time": "2019-09-13T14:25:18.995470Z",
     "start_time": "2019-09-13T14:25:18.988470Z"
    }
   },
   "outputs": [],
   "source": [
    "a = 3\n",
    "b = 10\n",
    "c = -11"
   ]
  },
  {
   "cell_type": "markdown",
   "metadata": {
    "ExecuteTime": {
     "end_time": "2019-09-13T14:27:24.599470Z",
     "start_time": "2019-09-13T14:27:24.589470Z"
    }
   },
   "source": [
    "### Arithimetic Operators"
   ]
  },
  {
   "cell_type": "code",
   "execution_count": 30,
   "metadata": {
    "ExecuteTime": {
     "end_time": "2019-09-13T15:04:21.038470Z",
     "start_time": "2019-09-13T15:04:21.022470Z"
    }
   },
   "outputs": [
    {
     "name": "stdout",
     "output_type": "stream",
     "text": [
      "a+b: add: 13\n",
      "b-a: minus: 7\n",
      "a*b: multiple: 30\n",
      "b%a: modulus(reminder): 1 ,  0\n",
      "b**a: exponent: 1000\n",
      "b//a: floor division: 3 ,  3\n"
     ]
    }
   ],
   "source": [
    "print('a+b: add:', a + b)\n",
    "print('b-a: minus:', b - a)\n",
    "print('a*b: multiple:', a * b)\n",
    "print('b%a: modulus(reminder):', b % a,', ', c%a)\n",
    "print('b**a: exponent:', b**a)\n",
    "print('b//a: floor division:', b//a,', ',  c//a)\n"
   ]
  },
  {
   "cell_type": "markdown",
   "metadata": {},
   "source": [
    "### Comparison Operators\n",
    "\n",
    "Compare the values on either sides of them and decide the relation among them, thus also called relational operators, The result is boolean"
   ]
  },
  {
   "cell_type": "code",
   "execution_count": 28,
   "metadata": {
    "ExecuteTime": {
     "end_time": "2019-09-13T15:03:32.308470Z",
     "start_time": "2019-09-13T15:03:32.293470Z"
    }
   },
   "outputs": [
    {
     "name": "stdout",
     "output_type": "stream",
     "text": [
      "a==b: equal: False\n",
      "a!= b: not equal: True\n",
      "a>b/a>= b: greater than/greater or equal to : False ,  False\n",
      "a<b/a<=b: less than/equal to : True ,  True\n"
     ]
    }
   ],
   "source": [
    "print('a==b: equal:', (a==b))\n",
    "print('a!= b: not equal:', (a!=b))\n",
    "print('a>b/a>= b: greater than/greater or equal to :', (a>b), ', ', (a>=b))\n",
    "print('a<b/a<=b: less than/equal to :', (a<b), ', ', (a<=b))\n"
   ]
  },
  {
   "cell_type": "markdown",
   "metadata": {
    "ExecuteTime": {
     "end_time": "2019-09-13T14:32:25.903470Z",
     "start_time": "2019-09-13T14:32:25.893470Z"
    }
   },
   "source": [
    "### Assignment Operators"
   ]
  },
  {
   "cell_type": "code",
   "execution_count": 34,
   "metadata": {
    "ExecuteTime": {
     "end_time": "2019-09-13T15:40:28.532997Z",
     "start_time": "2019-09-13T15:40:28.525996Z"
    }
   },
   "outputs": [
    {
     "name": "stdout",
     "output_type": "stream",
     "text": [
      "d = a + b: assign right to left: 13\n",
      "d +=a: add and assign : 16\n",
      "d -=a: minus and assign: 13\n",
      "d*= a: multiple and assign: 39\n",
      "d/= a: divide and assign(will change data type to float if generate decimal): 13.0\n",
      "d%= a: modulus and assign: 1.0\n",
      "d**=a: exponent and assign: 1.0\n",
      "d//=a: floor division and assign: 0.0\n"
     ]
    }
   ],
   "source": [
    "d = a + b\n",
    "print('d = a + b: assign right to left:',d)\n",
    "d +=a\n",
    "print('d +=a: add and assign :',d )\n",
    "d -=a\n",
    "print('d -=a: minus and assign:',d  )\n",
    "d *=a\n",
    "print('d*= a: multiple and assign:',d )\n",
    "d /=a\n",
    "print('d/= a: divide and assign(will change data type to float if generate decimal):',d  )\n",
    "d %=a\n",
    "print('d%= a: modulus and assign:',d )\n",
    "d **=a\n",
    "print('d**=a: exponent and assign:',d )\n",
    "d//=a\n",
    "print('d//=a: floor division and assign:',d )"
   ]
  },
  {
   "cell_type": "markdown",
   "metadata": {
    "ExecuteTime": {
     "end_time": "2019-09-13T14:59:06.503470Z",
     "start_time": "2019-09-13T14:59:06.493470Z"
    }
   },
   "source": [
    "### Bitwise Operators\n",
    "\n",
    "These operators works on bits and performs bit by bit operation. You need to convert numbers to binary format to perform bitwise operation. Refer to <a href = 'https://binary-system.base-conversion.ro/binary-one-complement-converted-to-signed-integer-in-decimal-system.php?binary_one_complement=11000011&signed_integer_number_base_ten=-60'>Convert binary to integer</a><br>\n",
    "Assume if a = 60; and b = 13; Now in binary format they will be as follows(first value0 means positive, 1 means negative −\n",
    "\n",
    "a = 0011 1100\n",
    "\n",
    "b = 0000 1101\n",
    "\n",
    "a&b = 0000 1100(12) -- Binary AND: 1 if both 1 in the same position, otherwise 0\n",
    "\n",
    "a|b = 0011 1101(61) -- Binary OR:  1 if either 1 in the same position, otherwise 0\n",
    "\n",
    "a^b = 0011 0001(49) -- Binary XOR: 1 if not equal in the same position, otherwise 0\n",
    "\n",
    "~a  = 1100 0011(-60) -- Binary Ones Complement: flip bits\n",
    "\n",
    "a << 2 = 1111 0000(240) -- Binary Left Shift by 2 digits\n",
    "\n",
    "a >> 2 = 0000 1111(15) -- Binary Right Shift by 2 digits"
   ]
  },
  {
   "cell_type": "code",
   "execution_count": 33,
   "metadata": {
    "ExecuteTime": {
     "end_time": "2019-09-13T15:22:35.358470Z",
     "start_time": "2019-09-13T15:22:35.349470Z"
    }
   },
   "outputs": [
    {
     "name": "stdout",
     "output_type": "stream",
     "text": [
      "3 ,  10\n",
      "2\n"
     ]
    }
   ],
   "source": [
    "print(a, ', ', b)\n",
    "print(a&b)"
   ]
  },
  {
   "cell_type": "markdown",
   "metadata": {},
   "source": [
    "### Logical Operators\n",
    "\n",
    "conditionA and conditionB -- if both operands are true then condition becomes True.\n",
    "\n",
    "conditionA or conditionB -- if either is true, then ture\n",
    "\n",
    "not(conditionA and conditionB) -- reverse result of (conditionA and conditionB)"
   ]
  },
  {
   "cell_type": "markdown",
   "metadata": {},
   "source": [
    "### Membership Operators\n",
    "Test for membership in a sequence(string, lists, tuples)\n",
    "\n",
    "x in y -- True if x is a member of y\n",
    "\n",
    "x not in y -- True if x is not a member of y"
   ]
  },
  {
   "cell_type": "markdown",
   "metadata": {},
   "source": [
    "### Identity Operators\n",
    "\n",
    "Compare the memory locations of two objects. \n",
    "\n",
    "x is y -- True if either side of the operator point to the same object.\n",
    "\n",
    "x is not y -- "
   ]
  },
  {
   "cell_type": "markdown",
   "metadata": {},
   "source": [
    "### Print\n",
    "print(objects, seperator, end, file, flush)\n",
    "- objects: any objects, as many as you want.\n",
    "- seperator, default is ' ' \n",
    "- end: specify what to print at the end.default is '\\n'(new line)\n",
    "- flush: a Boolean specifying if the output is flushed(true) or buffered(false). Default is false"
   ]
  },
  {
   "cell_type": "code",
   "execution_count": 15,
   "metadata": {
    "ExecuteTime": {
     "end_time": "2019-09-13T16:36:59.911470Z",
     "start_time": "2019-09-13T16:36:59.905470Z"
    }
   },
   "outputs": [
    {
     "name": "stdout",
     "output_type": "stream",
     "text": [
      "123456789"
     ]
    }
   ],
   "source": [
    "for i in range(1, 10): print(i, end = \"\")"
   ]
  },
  {
   "cell_type": "code",
   "execution_count": 7,
   "metadata": {
    "ExecuteTime": {
     "end_time": "2019-09-13T16:19:52.839470Z",
     "start_time": "2019-09-13T16:19:52.830470Z"
    }
   },
   "outputs": [],
   "source": [
    "def print_n(n):\n",
    "    i = 1\n",
    "    while (i<=n):\n",
    "        print(i)\n",
    "        i +=1"
   ]
  },
  {
   "cell_type": "markdown",
   "metadata": {},
   "source": [
    "## Data Type\n",
    "- **Test Type:**   str\n",
    "- **Numeric Types:**   int, float, complex\n",
    "- **Sequence Types:**   list, tuple, range\n",
    "- **Mapping Type:**   dict\n",
    "- **Set Types:**   set, frozenset\n",
    "- **Boolean Type:**   bool\n",
    "- **Binary Types:**   bytes, bytearray, memoryview\n",
    "\n",
    "Detailed Description of set a data type/specific data type:\n",
    "###  Strings\n",
    "\n",
    "- Single line:  \n",
    "        x=\"Hello World\"\n",
    "- Multiline string, the line breaks are inserted at the same position as in the code:  \"\"\" \"\"\" or '''  ''' :\n",
    "        y = \"\"\"This is a multiline string example,\n",
    "        This is a multiline string example,        \n",
    "        This is a multiline string example\"\"\"\n",
    "- Strings are Arrays, each character(place holder, including letter, number, special characters, whitespace) is a length of 1:\n",
    "        print(x[1])   >> e\n",
    "- Slicing: return partial of the string by giving the start-end index.<br>\n",
    "**Notice the starting index is 0, and in a range, the end index is not included)**\n",
    "        print(x[2:6])   >>llo      #from index 2 to index 5\n",
    "        print(x[-5:-2]) >> orl     #from position 5 to position 1, from the end of the string \n",
    "**Notice the start backward index is 1, and the end index is also not included**\n",
    "- String Length, using **len()**:\n",
    "        print(len(x))\n",
    "- String Method:\n",
    "        x.strip() :remove leading and tailing whitespace\n",
    "        x.upper()/x.lower()/x.capitalize()/x.title(): convert all characters to upper/lower case/first character of a sentence/first letter of each word to upper case\n",
    "        x.replace(\"a\", \"b\") : replace all a with b\n",
    "        x.split(\",\") : split the string into substring by the defined seperator\n",
    "        x.count(\"a\") : return the number of a occurs in string\n",
    "        x.find(\"a\")/x.index(\"a\") : find whether a is in x, if is, return the index of **first** occurance\n",
    "More methods, go <a href = \"https://www.w3schools.com/python/python_strings.asp\">Python String Method</a>\n",
    "- Check if a certian phrase or character is in a string, using **in** or **not in**, Boolean will return:\n",
    "        in_flag = \"or\" in x\n",
    "- String Concatenation, using **+** for both string:\n",
    "        x + \" \" + y\n",
    " - if you want to combine character with number, using **.format()**, which can take unlimited number of arguements and are palced into the respective placeholder(just like sprintf() in R) :\n",
    "         name = \"Bob\", location = \"Chicago\", age = 36\n",
    "         print(\"My name is {}, I am {} years old and I live in {}\".format(name, location, age))\n",
    " You can also indicate the index of placeholder to make sure the arguements are placed int the correct places.\n",
    "         print(\"My name is {2}, I am {0} years old and I live in {1}\".format(age, location,name ))"
   ]
  },
  {
   "cell_type": "code",
   "execution_count": 31,
   "metadata": {
    "ExecuteTime": {
     "end_time": "2019-09-16T18:36:21.558470Z",
     "start_time": "2019-09-16T18:36:21.551470Z"
    }
   },
   "outputs": [
    {
     "name": "stdout",
     "output_type": "stream",
     "text": [
      "My name is Bob, I am 36 years old and I live in Chicago\n",
      "4\n"
     ]
    }
   ],
   "source": [
    "# x = str(\"Hello World\")\n",
    "# print(x)\n",
    "# y = \"\"\"This is a multiline string example,\n",
    "# This is a multiline string example,        \n",
    "# This is a multiline string example\"\"\"\n",
    "# print(y[-5:-1])\n",
    "# whit_string = \" Are    you     ok?   \"\n",
    "# print(whit_string)\n",
    "# print(whit_string.strip())\n",
    "# print(whit_string.replace(\"o\", \"i\"))\n",
    "# print(whit_string.split(\" \"))\n",
    "# print(\"re\" in whit_string)\n",
    "# print(\"re\" not in whit_string)\n",
    "print(\"My name is {}, I am {} years old and I live in {}\".format(\"Bob\", 36, \"Chicago\"))\n",
    "print(\"Hello World\".find(\"o\"))"
   ]
  },
  {
   "cell_type": "markdown",
   "metadata": {
    "ExecuteTime": {
     "end_time": "2019-09-13T20:09:58.320470Z",
     "start_time": "2019-09-13T20:09:58.317470Z"
    }
   },
   "source": [
    "### Numbers\n",
    "- int : a whole number , +,-, witout decimals of unlimited length\n",
    "- float : a floating point number(scientific number is also accepted)\n",
    "- complex : numbers followed by \"j\" as the imaginary part.\n",
    "Types can be converted from one to another one, using **int(), float(), complex()**. But complex numbers can not be converted to other number types.<br>\n",
    "**Be careful when calcualating, assign, update variables**\n",
    "\n",
    "- Random Number: if you want to generate random number, you can use functions of built-in modules such as **random** or **numpy**:\n",
    "         import random\n",
    "         print(random.randrange(1,10))\n",
    "         import numpy\n",
    "         print(numpy.randint(1,10))\n",
    "     \n"
   ]
  },
  {
   "cell_type": "code",
   "execution_count": 32,
   "metadata": {
    "ExecuteTime": {
     "end_time": "2019-09-16T18:45:50.767470Z",
     "start_time": "2019-09-16T18:45:50.763470Z"
    }
   },
   "outputs": [
    {
     "name": "stdout",
     "output_type": "stream",
     "text": [
      "3j\n"
     ]
    }
   ],
   "source": [
    "# x = 1, 20.5, 1j\n",
    "# x = int(2), float(20.5),float(-7e10), complex(1j)"
   ]
  },
  {
   "cell_type": "markdown",
   "metadata": {},
   "source": [
    "### Tuple \n",
    "**Tuple is a collection which is ordered and unimmutable(no change)**\n",
    "- Create a tuple:\n",
    "        tuple_1 = (\"China\",\"England\", \"Canada\", \"Korean\", \"Norway\", \"Spain\", \"Japan\")\n",
    "- Access Tuple items:\n",
    "        tuple_1[1]      >>England\n",
    "        tuple_1[-1]     >>Japan\n",
    "        tuple_1[2:5]    >>'Canada', 'Korean', 'Norway'  #start from 1st from left as index 0, index 2 is included, index 5 is excluded\n",
    "        tuple_1[-5, -2] >>\"Canada\", \"Korean\", \"Norway\"  #start from 1st from right as index -1, index -5 is included, index -2 is excluded\n",
    "- Change Tuple values: Once a tuple is created, you cannot change its value. But you can convert a tuple into a list, change the list and convert the list back to a tuple with the same variable name.\n",
    "        tuple_2 = (\"apple\", \"banana\", \"cherry\")\n",
    "        tuple_3 = list(x)\n",
    "        tuple_3[1] = \"kiwi\"\n",
    "        tuple_2 = tuple(tuple_3)\n",
    "- Loop through a Tuple using **for**\n",
    "- Check if Item exists using **in**\n",
    "- Tuple length using **len()**\n",
    "- Create Tuple with ONE Item, you need to add a comma after the item, otherwise, Python won't recognize the variable as tuple.\n",
    "        one_tuple = (\"tuple\", )\n",
    "        print(one_tuple.type())\n",
    "- Remove Items: **del** will delete the entire tuple \n",
    "        del one_tuple\n",
    "- Join two tuple using **+**\n",
    "        tuple_4 = tuple_1 + one_tuple\n",
    "        print(tuple_2, type(tuple_2))\n",
    "- tuple() Constructor: **Notice to use DOUBLE round-brackets\n",
    "        tuple_2 = tuple((\"apple\", \"banana\", \"peach\"))\n",
    "- Tuple Methods:\n",
    "        tuple_2.count(\"a\")    #return the occurance of a(item) in tuple x\n",
    "        tuple_2.index(\"a\")    #return the index of first occurance of a(item) if found, otherwise ERROR"
   ]
  },
  {
   "cell_type": "code",
   "execution_count": 52,
   "metadata": {
    "ExecuteTime": {
     "end_time": "2019-09-16T19:20:23.975470Z",
     "start_time": "2019-09-16T19:20:23.963470Z"
    }
   },
   "outputs": [
    {
     "name": "stdout",
     "output_type": "stream",
     "text": [
      "<class 'tuple'>\n",
      "banana peach\n",
      "<class 'tuple'>\n",
      "('apple', 'banana', 'peach', 'tuple') <class 'tuple'>\n",
      "3\n"
     ]
    },
    {
     "ename": "ValueError",
     "evalue": "tuple.index(x): x not in tuple",
     "output_type": "error",
     "traceback": [
      "\u001b[1;31m---------------------------------------------------------------------------\u001b[0m",
      "\u001b[1;31mValueError\u001b[0m                                Traceback (most recent call last)",
      "\u001b[1;32m<ipython-input-52-8d1fb972606e>\u001b[0m in \u001b[0;36m<module>\u001b[1;34m\u001b[0m\n\u001b[0;32m      8\u001b[0m \u001b[0mprint\u001b[0m\u001b[1;33m(\u001b[0m\u001b[0mtuple_2\u001b[0m\u001b[1;33m,\u001b[0m \u001b[0mtype\u001b[0m\u001b[1;33m(\u001b[0m\u001b[0mtuple_2\u001b[0m\u001b[1;33m)\u001b[0m\u001b[1;33m)\u001b[0m\u001b[1;33m\u001b[0m\u001b[0m\n\u001b[0;32m      9\u001b[0m \u001b[0mprint\u001b[0m\u001b[1;33m(\u001b[0m\u001b[0mtuple_2\u001b[0m\u001b[1;33m.\u001b[0m\u001b[0mindex\u001b[0m\u001b[1;33m(\u001b[0m\u001b[1;34m\"tuple\"\u001b[0m\u001b[1;33m)\u001b[0m\u001b[1;33m)\u001b[0m\u001b[1;33m\u001b[0m\u001b[0m\n\u001b[1;32m---> 10\u001b[1;33m \u001b[0mprint\u001b[0m\u001b[1;33m(\u001b[0m\u001b[0mtuple_2\u001b[0m\u001b[1;33m.\u001b[0m\u001b[0mindex\u001b[0m\u001b[1;33m(\u001b[0m\u001b[1;34m\"lemon\"\u001b[0m\u001b[1;33m)\u001b[0m\u001b[1;33m)\u001b[0m\u001b[1;33m\u001b[0m\u001b[0m\n\u001b[0m",
      "\u001b[1;31mValueError\u001b[0m: tuple.index(x): x not in tuple"
     ]
    }
   ],
   "source": [
    "tuple_1 = (\"apple\", \"banana\", \"peach\") \n",
    "#x = tuple((\"apple\", \"banana\", \"peach\"))\n",
    "print(type(x))\n",
    "print(x[1], x[-1])\n",
    "one_tuple = (\"tuple\", )\n",
    "print(type(one_tuple))\n",
    "tuple_2 = tuple_1 + one_tuple\n",
    "print(tuple_2, type(tuple_2))\n",
    "print(tuple_2.index(\"tuple\"))\n",
    "print(tuple_2.index(\"lemon\"))"
   ]
  },
  {
   "cell_type": "markdown",
   "metadata": {},
   "source": [
    "### List \n",
    "List is a collection which is **ordered** and **changeable**, written with square brackets.\n",
    "\n",
    "        list_1 = [\"apple\", \"banana\", \"peach\",\"cherry\", \"orange\", \"kiwi\"]\n",
    "- Access Items by referring to the **index number**:\n",
    "        list_1[1]      >>banana\n",
    "        list_1[-1]     >>peach\n",
    "        list_1[1:4]    >>'banana', 'peach', 'cherry'\n",
    "        list_1[-3, -1] >>'cherry', 'orange'\n",
    "- Change Item Value by assign new value to referred one:\n",
    "        list_1[3] = \"melon\"\n",
    "- Loop through by **for**\n",
    "- Check if exist by **if x in list_1**\n",
    "- List length by **len()**\n",
    "- Add item:\n",
    "  - **append()** which add a new item to the end of list:\n",
    "          list_1.append(\"pear\")\n",
    "  - **insert()** which add a new item to the specific index, shift right items to right(index + 1):\n",
    "          list_1.insert(1, \"pear\")\n",
    "- Remove Item:\n",
    "  - **remove()** which remove the specified item, shift right items to left(index - 1):\n",
    "          list_1.remove(\"banana\")\n",
    "  - **pop()** which will remove the specified index, or last item if index is not specified:\n",
    "          list_1.pop(1)\n",
    "          list_1.pop()\n",
    "  - **del** remove the specified index or entire list\n",
    "          del list_1[0]\n",
    "          del list_1\n",
    "  - **clear()** empty the list\n",
    "          list_1.clear()\n",
    "- Combine lists:\n",
    "      list_2 = [1, 2, 3, 2, 4, 5, 9]\n",
    "  - create a list with all elements : \n",
    "         list_3 = list1 + list2 or\n",
    "         list_3 = list_1.extend(list_2)\n",
    "         for x in list_2:\n",
    "             list_1.append(x)\n",
    "         >> [\"apple\", \"banana\", \"peach\",\"cherry\", \"orange\", \"kiwi\",1, 2, 3, 2, 4, 5, 9] \n",
    "  - create a list contains two lists inside: \n",
    "         list_3 = [list1, list2]  or \n",
    "         >> [[\"apple\", \"banana\", \"peach\",\"cherry\", \"orange\", \"kiwi\"],\n",
    "              [1, 2, 3, 2, 4, 5, 9]]"
   ]
  },
  {
   "cell_type": "code",
   "execution_count": 66,
   "metadata": {
    "ExecuteTime": {
     "end_time": "2019-09-16T21:29:21.724470Z",
     "start_time": "2019-09-16T21:29:21.708470Z"
    }
   },
   "outputs": [
    {
     "name": "stdout",
     "output_type": "stream",
     "text": [
      "['apple', 'banana', 'peach', 'pear', 3, 1, 5]\n",
      "[['apple', 'banana', 'peach', 'pear'], [3, 1, 5]]\n"
     ]
    }
   ],
   "source": [
    "list_1 = [\"apple\", \"banana\", \"peach\"]\n",
    "#list_1 = [[\"id\", \"score\", \"year\"], [1,90,1992], [2, 80, 1993]]\n",
    "list_1 = list((\"apple\", \"banana\", \"peach\", \"pear\"))\n",
    "list_2 = [3, 1, 5]\n",
    "print(list_1 + list_2)\n",
    "print([list_1, list_2])"
   ]
  },
  {
   "cell_type": "markdown",
   "metadata": {},
   "source": [
    "### Dictionary\n",
    "A dictionary is a collection which is **unordered**, **changeable** and **indexed**. In Python dictionaries are written with curly brackets, and they have keys and values: \n",
    "            \n",
    "            dict_1 = {\"name\": \"peter\", \"age\" : 40, \"location\": \"US\"}\n",
    "       \n",
    "- You can access/change the items of a dictionary by referring to its key name or using .get(), just like the column name\n",
    "      dict_1[\"name\"]           #call the element of name\n",
    "      dict_1[\"name\"] = 'John'  #change values\n",
    "- Loop through a dictionary: using **for**:<br>\n",
    "      for x in dict_1:\n",
    "          print(x)          #print key names\n",
    "          print(dict_1[x])  #print all values in the dictionary\n",
    "      for x in dict_1.values():\n",
    "          print(x)          #return values in dict_1\n",
    "      for x,y in dict_1.items():\n",
    "          print(x,y)        #loop through both key and items.\n",
    "- Check it Key Exists: using **in**:\n",
    "      if \"Name\" in dict_1:\n",
    "          print(\"Yes, this key is in dict_1\")\n",
    "- Dictionary Length: using **len()**, which will return how many key-item pairs the dict has:\n",
    "       print(len(dict_1))\n",
    "- Adding items, just adding a new index key and assigning a value to it: \n",
    "       dict[\"state\"] = \"OK\"\n",
    "- Removing Items: \n",
    "        dict_1.pop(\"Age\")   #remove the pair of key and its item\n",
    "        dict_1.popitem()    #remove the last inserted item(before 3.7, it will remove a random item)\n",
    "        del dict_1[\"Age\"]   #remove the item with the specified key name(same as .pop()\n",
    "        del dict_1          #remove the entire dictionary\n",
    "        dict_1.clear()      #empty the dictionary\n",
    "- Copy a Dictionary using **.copy()**:\n",
    "        dict_1_1 = dict_1.copy() or\n",
    "        dict_1_1 = dict(dict_1)\n",
    "- Nested Dictionaries, like list, a dictionary can contains many dicts:\n",
    "        myfamily = {\n",
    "          \"child1\" : {\n",
    "          \"name\" : \"Emil\",\n",
    "          \"year\" : 2004\n",
    "          },\n",
    "          \"child2\" : {\n",
    "          \"name\" : \"Tobias\",\n",
    "          \"year\" : 2007\n",
    "          },\n",
    "          \"child3\" : {\n",
    "          \"name\" : \"Linus\",\n",
    "          \"year\" : 2011\n",
    "          }\n",
    "        }\n",
    "- dict() Constructor:\n",
    "        dict_2 = dict(name = \"peter\", age = 35) same as \n",
    "        dict_1 = {\"name\" :\"peter\", \"age\": 36} "
   ]
  },
  {
   "cell_type": "code",
   "execution_count": null,
   "metadata": {},
   "outputs": [],
   "source": [
    "dict_1 = {\"name\" :\"peter\", \"age\": 36} \n",
    "dict_1 = dict(name = \"peter\", age = 35)"
   ]
  },
  {
   "cell_type": "markdown",
   "metadata": {},
   "source": [
    "### Set \n",
    "A set is a collection which is **unordered** and **unindexed**, written with curly brackets {}\n",
    "\n",
    "        set_1 = {\"apple\", \"banana\", \"peach\"}\n",
    "- Access Items: you cannot using index to access the items, since it's unordered and have no index. But you can \n",
    "- Loop through the set and print the items using **for**\n",
    "        for x in set_1:\n",
    "            print(x)  \n",
    "        >> peach, banana, apple\n",
    "- or check whether an item is **in** set or **not in**:\n",
    "        print(\"orange\" in set_1)\n",
    "        >> False\n",
    "- Change Items: once a set is created, you cannot change its items, but you can add new items by\n",
    "    - **add()** : add ONE new item\n",
    "            set_1.add(\"orange\")\n",
    "    - **update()** : add MULTIPLE new items\n",
    "            set_1.update([\"orange\", \"mango\", \"grapes\"])\n",
    "    **<font style = \"color: red\">Notice .add() and .update() method will change the orginal set</font>**\n",
    "- Set Length using **len()**\n",
    "- Remove Item using **remove()** or **discard()**\n",
    "            set_1.remove(\"apple\")\n",
    "            set_1.remove(\"Earth\") >> KeyError: 'Earth'\n",
    "            set_1.discard(\"Earth\") >>No change\n",
    "    **.pop()** will remove the **last** item of a set, but since set is unordered, the return result of each .pop() try will be different\n",
    "            set_1.clear() will empty the set\n",
    "            del set_1 will delete the set completely\n",
    "- Join Two Sets using **union()** to generate a new set which contains all elements from both sets, or **update()** to insert one set to second set(the second set will change). If you don't want to change any set, use **union()**.<br>\n",
    "    **Notice, both **union()** and **update()** will exclude any **duplicate items**.\n",
    "            set_1.union({1,2,5})\n",
    "     Other set methods:\n",
    "      - set_1.difference(set_2) : returns a subset of set_1 containing the difference between set_1 and set_2 \n",
    "      - set_2.difference(set_1) : returns a subset of set_2 containing the difference between set_1 and set_2\n",
    "      - set_1.difference_update(set_2) : removes intersection items in both sets of set_1\n",
    "      - set_1.intersection(set_2) : return intersection set.\n",
    "- set() constructor **remember DOUBLE round brackets**"
   ]
  },
  {
   "cell_type": "code",
   "execution_count": 61,
   "metadata": {
    "ExecuteTime": {
     "end_time": "2019-09-16T19:54:14.003470Z",
     "start_time": "2019-09-16T19:54:13.994470Z"
    }
   },
   "outputs": [
    {
     "name": "stdout",
     "output_type": "stream",
     "text": [
      "{'banana', 'peach', 'apple'}\n",
      "{'banana', 'peach', 'apple', 'orange'}\n",
      "{'orange', 'banana', 'peach', 'grape', 'watermelon', 'apple', 'cherry'}\n",
      "{'orange', 'banana', 'peach', 'grape', 'watermelon', 'apple', 'cherry'}\n",
      "{1, 2, 5}\n",
      "{'orange', 'banana', 'peach', 'grape', 'watermelon', 'apple', 'cherry'}\n",
      "{1, 2, 5}\n"
     ]
    }
   ],
   "source": [
    "set_1 = {\"apple\", \"banana\", \"peach\"} \n",
    "print(set_1)\n",
    "#set_1 = set((\"apple\", \"banana\", \"peach\"))\n",
    "set_1.add(\"orange\")\n",
    "print(set_1)\n",
    "set_1.update([\"grape\", \"watermelon\", \"cherry\"])\n",
    "print(set_1)\n",
    "set_1.discard(\"Earth\")\n",
    "print(set_1)\n",
    "#set_1.remove(\"Earth\")\n",
    "#print(set_1)\n",
    "set_2 = {1,2,5}\n",
    "print(set_2)\n",
    "#print(set_1.union(set2))\n",
    "#print(set_1.update(set2))\n",
    "print(set_1.difference(set_2))\n",
    "print(set_2.difference(set_1))"
   ]
  },
  {
   "cell_type": "markdown",
   "metadata": {},
   "source": [
    "### Array\n",
    "Similar to list, array is another way for store indexed, ordered and mutable data. Array usually comes from **numpy** module.\n",
    "<br>**Simiarities** between List and Array:\n",
    "- Storing data\n",
    "- can be indexed, mutated and iterated through\n",
    "- can be sliced and combine\n",
    "- method of accessing, iteration, looping, adding, removing, etc are almost the same\n",
    "\n",
    "**Differences**:\n",
    "- Numpy array must contain **similar data type** elements, while list allows different data types\n",
    "- Array are specially optimized for arithmetic(mathmatic calulation) which allows +-*/\n",
    "    ar = array([4,6,7,20, 12, 21, 30])\n",
    "    print(ar/2)"
   ]
  },
  {
   "cell_type": "code",
   "execution_count": 106,
   "metadata": {
    "ExecuteTime": {
     "end_time": "2019-09-17T20:54:53.013470Z",
     "start_time": "2019-09-17T20:54:52.995470Z"
    }
   },
   "outputs": [
    {
     "name": "stdout",
     "output_type": "stream",
     "text": [
      "Directly divided by 2 of an array:\n",
      " [ 2.   3.   3.5 10.   6.  10.5 15. ]\n",
      "Directly divided by 2 of a list is not executable, using function instead:\n",
      "[2.0, 3.0, 3.5, 10.0, 6.0, 10.5, 15.0]\n"
     ]
    }
   ],
   "source": [
    "import numpy as np\n",
    "ar = np.array([4,6,7,20, 12, 21, 30])\n",
    "print(\"Directly divided by 2 of an array:\\n\", ar/2)\n",
    "li = list((4,6,7,20, 12, 21, 30))\n",
    "print(\"Directly divided by 2 of a list is not executable, using function instead:\")\n",
    "print(list(map(lambda x: x/2, li)))"
   ]
  },
  {
   "cell_type": "markdown",
   "metadata": {},
   "source": [
    "### Dates\n",
    "There are modules allow us to use datetime to work with date as date objects. For example, **datetime** which are (modules(obejcts) contain 5 main classes and each of them contains lots of useful methods for calculation between dates.\n",
    "- date - Manipulate just date(month, day, year)\n",
    "- time - Time independent of the day(H, M, S, microsecond)\n",
    "- datetime - Combination of time and date\n",
    "- timedelta - Duration of time\n",
    "- tzinfo - time zone\n",
    "\n",
    "#### date\n",
    "    from datetime import date\n",
    "    today = date.today()\n",
    "    this_year = today.year\n",
    "    this_month = today.month\n",
    "    this_weekday = today.weekday()\n",
    " Additional to get the current date, datetime.date can also be used to convert non-date format to date-format as a date constructor\n",
    "     \n",
    "     datetime.date(2018, 4, 12)\n",
    "     >> 2018-04-12\n",
    "You can also create a date object from a **timestamp**(which is the number of seconds between a particular date and 1970-01-01 at UTC. You can do that by **fromtimestamp()** method\n",
    "\n",
    "    date.fromtimestamp(1326244364)\n",
    "    >>2012-01-11\n",
    "    \n",
    "#### time\n",
    "Similar to date, time object will return local time, and can be used as a constructor to create a time variable.\n",
    "\n",
    "    from datetime import time\n",
    "    print(time())\n",
    "    \n",
    "    this_time = time(hour = 11, minute = 34, second = 56)     # if nothing is passed to microsecond, it will 0 by default\n",
    "    this_hour = this_time.hour\n",
    "    this_minute = this_time.minute\n",
    "    this_second = this_time.second\n",
    "\n",
    "    "
   ]
  },
  {
   "cell_type": "code",
   "execution_count": 240,
   "metadata": {
    "ExecuteTime": {
     "end_time": "2019-09-20T14:14:10.342470Z",
     "start_time": "2019-09-20T14:14:10.331470Z"
    }
   },
   "outputs": [
    {
     "name": "stdout",
     "output_type": "stream",
     "text": [
      "Today is 2019-09-20\n",
      "Today is/20/9/2019\n",
      "Now is 09:14:10.338470\n",
      "Now is 11 34 56\n"
     ]
    }
   ],
   "source": [
    "td = dt.date.today()\n",
    "print(\"Today is\", td)\n",
    "print(\"Today is\", td.day, td.month, td.year, sep = \"/\")\n",
    "print(\"Now is\", dt.datetime.now().time())\n",
    "from datetime import time\n",
    "tt = time(11, 34,56)\n",
    "print(\"Now is\", tt.hour, tt.minute, tt.second)"
   ]
  },
  {
   "cell_type": "markdown",
   "metadata": {},
   "source": [
    "#### datetime\n",
    "In datetime, you can get the current time by the following code, which is a subfunction of datetime object.\n",
    "\n",
    "      x = dt.datetime.now()\n",
    "And then its methods to get year, month, weekday...\n",
    "\n",
    "      x.year()\n",
    "      x.timestamp()\n",
    "You can also convert a string to datetime data type by passing values to the constructor :\n",
    "\n",
    "      x = dt.datetime(2020, 5, 17)\n",
    " - Methods:<br>\n",
    "   **strftime()** --datetime object to string\n",
    "   is used to format date objects into readable strings by taking one parameter **format** to specify the format of returning string, which is defined under **date, datetime, time** classes. \n",
    "       x.strftime(\"%B%)\n",
    "       dt.datetime.now().strftime(\"%m/%d/%y, %H:%M:%S\")\n",
    "       \n",
    "    **striptime()** - string to datetime\n",
    "    is used to convert string to datetime format by given 2 arguments: \n",
    "    - a string representing date and time\n",
    "    - fromat code equivalent tot the first argument\n",
    "        \n",
    "            datetime.strptime(\"21 June, 2018\",  \"%d %B, %Y\")    \n",
    "            >> 2018-06-21 00:00:00\n",
    "       \n",
    "  The commonly used detailed format code reference is in below chart.\n",
    "  \n",
    "| Code | Description                                  | Example              |\n",
    "|------|----------------------------------------------|----------------------|\n",
    "| %a   | Weekday in Short Version                     | Wed                  |\n",
    "| %A   | Weekday in full version                      | Wednesday            |\n",
    "| %w   | Weekday as integer, 0-Sun, 6-Sat             | 0,...,6              |\n",
    "| %d   | Date of the month from 01 to 31              | 01, ...31            |\n",
    "| %b   | Month in avvreviated name                    | Jan, Feb             |\n",
    "| %B   | Month in full name                           | January              |\n",
    "| %m   | Month as number                              | 01,...,12            |\n",
    "| %y   | Year in short version from 00 to 99        | 2019                 |\n",
    "| %Y   | Year in full version from 0000 to 9999       | 2019                 |\n",
    "| %H   | Hour(24-hour clock) from 00 to 23            | 00, ..., 23          |\n",
    "| %I   | Hour(12-hour clock) from 01 to 12            | 01, ..., 12          |\n",
    "| %p   | AM, PM                                       | AM, PM               |\n",
    "| %M   | Minute                                       | 00, ...,59           |\n",
    "| %S   | Second                                       | 00, ..,59            |\n",
    "| %f   | Microsecond from 000000 to 9999999           |                      |\n",
    "| %z   | Time zone                                    | +0100                     |\n",
    "| %Z   | Time zone name                               | UTC, EST, CST        |\n",
    "| %j   | Day of year from 001                         | 001,...,366          |\n",
    "| %U   | Week number of year, Sun is the first day of a week| 00,..., 53      |\n",
    "| %W   | Week numner of year, Mon is the first day of a week          | 00, ..., 53                     |\n",
    "| %c   | Convert number format to name format | Tue Aug 19 17:30:00    |\n",
    "| %x   | local version of date | 12/31/18    |\n",
    "| %X   | local version of time| 17:41:21  |\n",
    "| %%   | A % character| %    |\n",
    "\n"
   ]
  },
  {
   "cell_type": "code",
   "execution_count": 209,
   "metadata": {
    "ExecuteTime": {
     "end_time": "2019-09-19T21:44:24.299470Z",
     "start_time": "2019-09-19T21:44:24.292470Z"
    }
   },
   "outputs": [
    {
     "name": "stdout",
     "output_type": "stream",
     "text": [
      "2019-09-19 16:44:24.294470\n",
      "<method 'date' of 'datetime.datetime' objects>\n",
      "Thursday\n",
      "2019-09-19 00:00:00\n"
     ]
    }
   ],
   "source": [
    "import datetime as dt\n",
    "print(dt.datetime.now())\n",
    "print(dt.datetime.date)\n",
    "print(dt.datetime.now().strftime(\"%A\"))\n",
    "print(dt.datetime(2019, 9, 19))"
   ]
  },
  {
   "cell_type": "markdown",
   "metadata": {},
   "source": [
    "#### timedelta\n",
    "You can get the time difference between two dates, however it's in date unit, if you want to convert to year or month, you can use other modules or just simply divided by 365.2425 to get the year, or 30.436875 to get the month.<br>\n",
    "The module you can use is **dateutil.relativedelta**"
   ]
  },
  {
   "cell_type": "code",
   "execution_count": 231,
   "metadata": {
    "ExecuteTime": {
     "end_time": "2019-09-20T13:30:06.420470Z",
     "start_time": "2019-09-20T13:30:06.412470Z"
    }
   },
   "outputs": [
    {
     "name": "stdout",
     "output_type": "stream",
     "text": [
      "My age is 26.43175424546705\n"
     ]
    }
   ],
   "source": [
    "dob = dt.date(1993,4,14)\n",
    "print(\"My age is {}\".format((td-dob).days/365.2425))"
   ]
  },
  {
   "cell_type": "code",
   "execution_count": 233,
   "metadata": {
    "ExecuteTime": {
     "end_time": "2019-09-20T13:40:03.856470Z",
     "start_time": "2019-09-20T13:40:03.836470Z"
    }
   },
   "outputs": [
    {
     "name": "stdout",
     "output_type": "stream",
     "text": [
      "My age is 26\n"
     ]
    },
    {
     "data": {
      "text/plain": [
       "datetime.date(1993, 9, 19)"
      ]
     },
     "execution_count": 233,
     "metadata": {},
     "output_type": "execute_result"
    }
   ],
   "source": [
    "from dateutil.relativedelta import relativedelta\n",
    "#1. get the year diff\n",
    "print(\"My age is {}\".format(relativedelta(td, dob).years))\n",
    "\n",
    "#2. you can also get the original year by adding the year_diff\n",
    "def yeardiff(years, from_date = None):\n",
    "    if from_date is None:\n",
    "        from_date = td\n",
    "    return from_date - relativedelta(years = years)\n",
    "yeardiff(26)"
   ]
  },
  {
   "cell_type": "markdown",
   "metadata": {},
   "source": [
    "When you use timedelta as a constructor with parameters assigned, then the difference between 2 timedelta variables can return the readable result."
   ]
  },
  {
   "cell_type": "code",
   "execution_count": 243,
   "metadata": {
    "ExecuteTime": {
     "end_time": "2019-09-20T14:23:03.109470Z",
     "start_time": "2019-09-20T14:23:03.093470Z"
    }
   },
   "outputs": [
    {
     "name": "stdout",
     "output_type": "stream",
     "text": [
      "t3 = 14 days, 13:55:39\n",
      "1259739.0\n"
     ]
    }
   ],
   "source": [
    "t1 = dt.timedelta(weeks = 2, days = 5, hours = 1, seconds = 33)\n",
    "t2 = dt.timedelta(days = 4, hours = 11, minutes = 4, seconds = 54)\n",
    "t3 = t1 - t2\n",
    "print(\"t3 =\", t3)\n",
    "print(t3.total_seconds())"
   ]
  },
  {
   "cell_type": "markdown",
   "metadata": {},
   "source": [
    "#### TimeZone\n",
    "It's easier to use **pytZ** module, which provides timezone with location, i.e. tz_NY, tz_London, allows user to convert easily. For example:\n",
    "\n",
    "    local = dt.datetime.now()\n",
    "    tz_NY = pytz.timezone(\"America/New_York\")\n",
    "    datetime_NY = dt.datetime.now(tz_NY)\n",
    "You can visit <a href = \"https://gist.github.com/heyalexej/8bf688fd67d7199be4a1682b3eec7568\">here</a> to see the full list of timezone code"
   ]
  },
  {
   "cell_type": "code",
   "execution_count": 253,
   "metadata": {
    "ExecuteTime": {
     "end_time": "2019-09-20T14:43:43.212470Z",
     "start_time": "2019-09-20T14:43:43.197470Z"
    }
   },
   "outputs": [
    {
     "name": "stdout",
     "output_type": "stream",
     "text": [
      "CST time is  2019-09-20 09:43:43.206470\n",
      "New York time is  2019-09-20 10:43:43.206470-04:00\n",
      "Shanghai time is  2019-09-20 22:43:43.207470+08:00\n"
     ]
    }
   ],
   "source": [
    "import pytz\n",
    "\n",
    "print(\"CST time is \", dt.datetime.now())\n",
    "tz_NY = pytz.timezone(\"America/New_York\")\n",
    "datetime_NY = dt.datetime.now(tz_NY)\n",
    "print(\"New York time is \", datetime_NY)\n",
    "tz_SH = pytz.timezone(\"Asia/Shanghai\")\n",
    "datetime_SH = dt.datetime.now(tz_SH)\n",
    "print(\"Shanghai time is \", datetime_SH)"
   ]
  },
  {
   "cell_type": "markdown",
   "metadata": {},
   "source": [
    "### Others\n",
    "- frozenset x = frozenset({\"apple\", \"banana\", \"peach\"})\n",
    "- bool x = True /x = bool(5)\n",
    "- bytes x = b\"Hello\" /x = bytes(5)\n",
    "- bytearray x = bytearray(5) /x = bytearry(5)\n",
    "- memoryview x = memoryview(bytes(5)) /x = memoryview(bytes(5))"
   ]
  },
  {
   "cell_type": "markdown",
   "metadata": {},
   "source": [
    "### Regular Expression\n",
    "Refer to <a href = 'https://docs.python.org/3.5/library/re.html'>re tutorial</a>"
   ]
  },
  {
   "cell_type": "markdown",
   "metadata": {},
   "source": [
    "## Conditions and If Statements\n",
    "### If...Else\n",
    "    if cA1 Comparison_Operator1 cB1 and cA2 Comparison_Operator2 cB2:\n",
    "        do_statementA\n",
    "    elif cA3 Comparison_Operator3 cB3 or cA4 Comparison_Operator4 cB4\"\n",
    "        do_statementB\n",
    "    ...\n",
    "    else:\n",
    "        do_statementN\n",
    "        \n",
    "Short Version:\n",
    "    - if a > b: print(\"haha\")\n",
    "    - print(\"A\") if a > b else print(\"B\")\n",
    "    - print(\"A\") if a > b else print(\"=\") if a == b else print(\"B\")"
   ]
  },
  {
   "cell_type": "markdown",
   "metadata": {},
   "source": [
    "## Iteration and Loop    \n",
    "### While Loop\n",
    "**While** loop will execute a set of statements as long as a condition is True.\n",
    "\n",
    "        i = 1\n",
    "        while i < 6:\n",
    "          print(i)\n",
    "          i += 1\n",
    "        >> 1,2,3,4,5\n",
    "**<font style=\"color:red\">Remember to always increment i, otherwise the loop will never end.</font>**          \n",
    "\n",
    "**Break** enables us to stop the loop even if the while condition is True:\n",
    "\n",
    "    i = 1\n",
    "    while i < 6:\n",
    "      print(i)\n",
    "      if i == 3:\n",
    "        break\n",
    "      i += 1\n",
    "    >> 1,2,3\n",
    "**continue** enables us to stop the current iteration, and continue with the next\n",
    "\n",
    "    i = 1\n",
    "    while i < 6:\n",
    "      print(i)\n",
    "      if i == 3:\n",
    "        continue\n",
    "      i += 1\n",
    "    >> 1,2,4,5\n",
    "**else** enables us to run another block of code once when the condition no longer is true:\n",
    "\n",
    "    i = 1\n",
    "    while i < 6:\n",
    "      print(i)\n",
    "      i += 1\n",
    "    else:\n",
    "      print(\"i is no longer less than 6\")\n",
    "    >>1,2,3,4,5,\"i is no longer less than 6\"\n",
    "**if you want to modify the result format, you can go refer to 1.8 Print** "
   ]
  },
  {
   "cell_type": "markdown",
   "metadata": {},
   "source": [
    "### For Loop\n",
    "A for loop is used for iterating over a sequence(either tuple, list, dictionary, set or string), once for each item.\n",
    "\n",
    "    for x in list((\"apple\", \"banana\", \"peach\")):\n",
    "        print(x)\n",
    "    >> apple, banana, peach\n",
    "    for x in \"apple\":\n",
    "        print(x)\n",
    "    >>a,p,p,l,e\n",
    "**break** enables us to stop the loop before it has looped through all the items:\n",
    "\n",
    "    for x in list((\"apple\", \"banana\", \"peach\")):\n",
    "        print(x)\n",
    "        if x == \"banana\":\n",
    "            break\n",
    "    >>apple, banana\n",
    "**continue** enables us to skip current iteration and continue the next:\n",
    "\n",
    "    for x in list((\"apple\", \"banana\", \"peach\")):\n",
    "        if x == \"banana\":\n",
    "            continue\n",
    "        print(x)\n",
    "    >>apple, peach\n",
    "**range()** which returns a sequence of numbers, starting from 0 by default, and increments by 1 by default, and ends at a specified number(-1). <br>**<font style=\"color:red\">range(start, end, step). Remember the end is excluded.</font>**\n",
    "\n",
    "    for x in range(2,10,2):\n",
    "        print(x)\n",
    "    >>2,4,6,8\n",
    "**else** enables to execute another block of code when the loop is finished:\n",
    "\n",
    "    for x in range(2,10,2):\n",
    "        print(x)\n",
    "    else: print(\"Done\")\n",
    "    >>2,4,6,8, Done\n",
    "**nested loops**:\n",
    "\n",
    "    for x in list((\"apple\", \"banana\", \"peach\")):\n",
    "        for y in range(2,8,2)\n",
    "            print(x,y)"
   ]
  },
  {
   "cell_type": "markdown",
   "metadata": {},
   "source": [
    "## Function\n",
    "### Basic Function\n",
    "Function allows to exclude a customized block of codes. Only list several points need to remember:\n",
    "**keyword arguments**: You can set the default value for **all** parameters, it will execute with defult values when there is no parameter passed.\n",
    "\n",
    "    def mu_function(country = \"US\", name = \"John\"):\n",
    "        print(\"My name is {}, and I come from {}\".format(name, country))\n",
    "    >>mu_fucntion(\"China\", \"JinJin\")\n",
    "    >>mu_function()\n",
    "    >>mu_function(name = \"Ash\", country = \"Canada\")\n",
    "**Arbitrary Arguements**: if you don't know how many arguments that will be passed into your function, add a * before the parameter. This way, the function will receive a tuple of arguments to access the item accordingly.\n",
    "\n",
    "    def mu_function(*countries):\n",
    "        print(\"I come from {}\".format(countries[2])\n",
    "    >>mu_function(\"China\", \"US\", \"Canada\") : I come from Canada"
   ]
  },
  {
   "cell_type": "code",
   "execution_count": 73,
   "metadata": {
    "ExecuteTime": {
     "end_time": "2019-09-17T14:11:19.635470Z",
     "start_time": "2019-09-17T14:11:19.621470Z"
    }
   },
   "outputs": [
    {
     "name": "stdout",
     "output_type": "stream",
     "text": [
      "My name is Jinjin, and I come from China\n",
      "My name is John, and I come from US\n",
      "My name is Ash, and I come from Canada\n"
     ]
    }
   ],
   "source": [
    "def mu_function(country=\"US\", name=\"John\"):\n",
    "        print(\"My name is {}, and I come from {}\".format(name, country))\n",
    "mu_function(\"China\",\"Jinjin\")\n",
    "mu_function()\n",
    "mu_function(name = \"Ash\", country = \"Canada\")"
   ]
  },
  {
   "cell_type": "markdown",
   "metadata": {},
   "source": [
    "### Lambda\n",
    "A lambda function is a small anonymous function without function name, which can take any number of arguments, but can only have one expression.<br> \n",
    "\n",
    "    x = lambda a, b : a*b\n",
    "    print(x(4,5)) \n",
    "    >> 20\n",
    "    def myfunc(n):\n",
    "        return lambda a: a* n\n",
    "    mydoubler = myfunc(2)    # returns 2a\n",
    "    print(mydoubler(11))     #take a = 11 in mydoubler(a)\n",
    "    >> 22\n",
    "The power of lambda is it can be used inside another function, especially built-in functions like **filter(), map(), reduce()** \n",
    "- filter(function_to_apply, list_of_inputs): which takes a **list** and a **condition** as arguments and filter elements when the condition is True. Similar to filter(). i.e.\n",
    "- map(): which takes a **list** and a **condition** as arguments and return a new list which contains all the lambda modified items. similar to apply(list, 2, function). i.e.\n",
    "- reduce(): which takes a **list** and a **condition** as arguments and return a repetitive result based on the following logic:<br>\n",
    "<img src = \"reduce.png\" width = 300  height = 200>"
   ]
  },
  {
   "cell_type": "code",
   "execution_count": 99,
   "metadata": {
    "ExecuteTime": {
     "end_time": "2019-09-17T20:10:09.050470Z",
     "start_time": "2019-09-17T20:10:09.034470Z"
    }
   },
   "outputs": [
    {
     "name": "stdout",
     "output_type": "stream",
     "text": [
      "filter() result:\n",
      " [5, 9, 19, 21, 79, 97]\n",
      "map() result:\n",
      " [10, 12, 16, 18, 38, 42, 84, 112, 158, 180, 194]\n",
      "reduce() result:\n",
      " 432\n"
     ]
    }
   ],
   "source": [
    "    li = [5,6,8,9,19, 21, 42, 56, 79, 90, 97]\n",
    "    odd_li = list(filter(lambda x: (x %2 !=0), li))\n",
    "    print(\"filter() result:\\n\", odd_li)\n",
    "    double_li = list(map(lambda x: x*2, li))\n",
    "    print(\"map() result:\\n\", double_li)\n",
    "    from functools import reduce\n",
    "    sum_li = reduce((lambda x, y: x + y), li)\n",
    "    print(\"reduce() result:\\n\", sum_li)"
   ]
  },
  {
   "cell_type": "markdown",
   "metadata": {},
   "source": [
    "### recursion\n",
    "**Recursion** enables a defined function to call itself. Which is, you can use the result as new parameter value to the function again. Using recursive algorithm, certain problems can be solved easily. Such as **Towers of Hanoi, Inorder/Preorder/Postorder Tree Traversals, DFS of Graphs** etc. <br>\n",
    "The base logic is to represent a problem in terms of one or more smaller problems, and add one ore more base conditions that stops the recursion. \n",
    "<br>Consider the following function as S<sub>n</sub> = k + S<sub>n-1</sub>. Once my_recursive(6) is called, my_recursive(5),my_recursive(4)..,my_recursive(0) will all be called.\n",
    "    \n",
    "     def my_recursive(k):\n",
    "         if (k>0) :\n",
    "             result = k + my_recursive(k-1)\n",
    "             print(result)\n",
    "         else:\n",
    "             result = 0\n",
    "         return result\n",
    "Another example is to compute factorial of n(n!) which is n*(n-1)!, thus we can use (n-1)! to represent n!.\n",
    "\n",
    "    def factorial(n):\n",
    "        if (n>0):\n",
    "            return n*factorial(n-1)\n",
    "        else:\n",
    "            return 1 \n",
    "or \n",
    "\n",
    "    def fact(n):\n",
    "        if n==0:\n",
    "            return 1\n",
    "        else :\n",
    "            return n*fact(n-1)\n",
    "In order to use recursion, you need to define the **base condition(the smallest case)** which the larger ones can be solved by converting to smaller ones till the base case is reached. If the base case cannot be reached, the base case is not reached or not defined, there will be **stack overflow ERROR**.\n",
    "- Direct recursion: A function calls the same function inside itself.\n",
    "- Indirect recursion: A function calls other functions inside itself. Others can also call it.\n",
    "- Tail recursive function: A function with recursive call as the last thing to execute. i.e.<br>\n",
    "        print(n-1); (yes)\n",
    "        return n*fact(n-1); (X)\n",
    "The above example shows that factorial function, even the last line is a recursive call, but it's not a tail recursive function. Because the result of fact(n-1) is used in fact(n), so it's not the last thing done by fact(n).<br>\n",
    "The reason for using tail recursive is that it's can be optimized easier since it's the last one to do in current function, modifying it won't affect other parts.<br>\n",
    "While, the aboved factorial function can be written as tail one by add one more arguments:\n",
    "\n",
    "    def factTR(n,a):\n",
    "        if n == 0: return a\n",
    "        else: return factTR(n-1, n*a)\n",
    "    def fact(n):\n",
    "        return factTR(n,1)\n",
    "The idea is to use a as the temporary result value, when n reduces to 0, return a. "
   ]
  },
  {
   "cell_type": "code",
   "execution_count": 89,
   "metadata": {
    "ExecuteTime": {
     "end_time": "2019-09-17T19:31:21.149470Z",
     "start_time": "2019-09-17T19:31:21.142470Z"
    }
   },
   "outputs": [
    {
     "name": "stdout",
     "output_type": "stream",
     "text": [
      "1 3 6 10 15 21 "
     ]
    },
    {
     "data": {
      "text/plain": [
       "21"
      ]
     },
     "execution_count": 89,
     "metadata": {},
     "output_type": "execute_result"
    }
   ],
   "source": [
    "def my_recursive(k):\n",
    "    if k>0 :\n",
    "        result = k + my_recursive(k-1)\n",
    "        print(result, end = \" \")\n",
    "    else:\n",
    "        result = 0\n",
    "    return result\n",
    "my_recursive(6)"
   ]
  },
  {
   "cell_type": "code",
   "execution_count": 84,
   "metadata": {
    "ExecuteTime": {
     "end_time": "2019-09-17T16:05:12.042470Z",
     "start_time": "2019-09-17T16:05:12.027470Z"
    }
   },
   "outputs": [
    {
     "data": {
      "text/plain": [
       "120"
      ]
     },
     "execution_count": 84,
     "metadata": {},
     "output_type": "execute_result"
    }
   ],
   "source": [
    "    def factorial(n):\n",
    "        if (n>0):\n",
    "            return n*factorial(n-1)\n",
    "        else:\n",
    "            return 1\n",
    "factorial(5)"
   ]
  },
  {
   "cell_type": "code",
   "execution_count": 85,
   "metadata": {
    "ExecuteTime": {
     "end_time": "2019-09-17T16:05:12.828470Z",
     "start_time": "2019-09-17T16:05:12.811470Z"
    }
   },
   "outputs": [
    {
     "data": {
      "text/plain": [
       "120"
      ]
     },
     "execution_count": 85,
     "metadata": {},
     "output_type": "execute_result"
    }
   ],
   "source": [
    "    def factTR(n,a):\n",
    "        if n == 0: return a\n",
    "        else: return factTR(n-1, n*a)\n",
    "    def fact(n):\n",
    "        return factTR(n,1)\n",
    "fact(5)"
   ]
  },
  {
   "cell_type": "markdown",
   "metadata": {},
   "source": [
    "#### Memory\n",
    "When any function is called from main(), the memory is allocated to it on the stack. As a recursive function calls itself, the memory for a called function is allocated on top of memory for a calling function, then different copy of local variables is created for each function call. When the base case is reached, the function returns its value to the function by whom it is called and memory is de-allocated to allow the process continue. See example:"
   ]
  },
  {
   "cell_type": "code",
   "execution_count": 88,
   "metadata": {
    "ExecuteTime": {
     "end_time": "2019-09-17T19:16:55.493470Z",
     "start_time": "2019-09-17T19:16:55.486470Z"
    }
   },
   "outputs": [
    {
     "name": "stdout",
     "output_type": "stream",
     "text": [
      "6 5 4 3 2 1 1 2 3 4 5 6 "
     ]
    }
   ],
   "source": [
    "def printFun(test):\n",
    "    if test < 1: return   #when test = 0, return to the next part of the last function printFun(1), which is print(test). Now test =1\n",
    "    else : \n",
    "        print(test, end = \" \")\n",
    "        printFun(test - 1)\n",
    "        print(test, end = \" \")\n",
    "        return\n",
    "printFun(6)"
   ]
  },
  {
   "cell_type": "markdown",
   "metadata": {},
   "source": [
    "Check the recursive map:<br>\n",
    "<img src = \"recursion.jpg\" width = 700  height = 500>"
   ]
  },
  {
   "cell_type": "markdown",
   "metadata": {},
   "source": [
    "#### Stack Overflow\n",
    "A stack overflow is an undesirable condition in which a particular computer program tries to use more memory space than the call stack has available(the call stack pointer exceeds the stack bound), which will cause crashes, memory access errors and incorrect results, etc.\n",
    "- A **stack** is an array or list structure of function calls and parameters used in programming and CPU architecture. Imaging a stack of plates at a buffet restaurant, elements in a stack follow LIFO order. The processing of adding data to a stack is \"push\", while retrieving data from a stack is \"pop\". A stack pointer indicates the extent of stack, adjusting as elements are pushed or popped to a stack. additional to push and pop, there are other actions on the stack:\n",
    "    - peek: inspect the topmost elment on a stack without actually removing the element.\n",
    "    - swap: exchange A and B\n",
    "    - duplicate: the topmost element is popped from the stack and then pushed back onto the stack twice.\n",
    "    - Rotate: roll a number of elements(continuous within order).\n",
    "- A **call stack** is a **buffer** that stores requests that need to be handled.\n",
    "- **Data buffer** is a region of a **physical memory storage(or a virtual data buffer in software, pointinh at a location in the physical memory)** used to temporarily store data while it is being moved from one place to another. Buffer uses the faster RAM to store temporary data due to much faster access time than hard disk drives. A buffer often adjusts timing by implementing a queue(or FIFO) algorithm in memory, simultaneously writing data into the queue at one rate and reading it at another rate.<br>Imaging buffer as a pool, the water input rate(data receive rate) is different from the water output rate(data process rate), it will store data first inside the pool, when it hits some degree or when the system is free, it will push data/execute the code to disk. \n",
    "Stack overflow is often caused by:\n",
    "- Infinite recursion: A excessively deep or infinite recursion,  in which a function calls itself so many times that the space needed to store the variables and information associated with each call is more than can fit on the stack. i.e.\n",
    "\n",
    "    def foo():\n",
    "        return foo();\n",
    "function foo() will continue to call itself, allocating additional space on the stack each time, until the stack overflows. However, if using **tail call optimization**, inifinite recursion of a specific sort can occur without stack overflow. Because tail-recursive calls do not take up additional stack space.\n",
    "- Very deep recursion: \n",
    "- Very large stack variables: "
   ]
  },
  {
   "cell_type": "markdown",
   "metadata": {},
   "source": [
    "#### Recursion v.s. Iteration\n",
    "- Advantage: For specific problems which are inherently recursive like **tree travelsals, Tower of Hanoi**, recursive are more clean and simple to write.\n",
    "- Disadvantage: Both recursive and iterative programs are powerful in problem-solving, and some of them can be converted to each other. The recursive program has **higher space requirement** than iteratives due to all of its function remaining in the stack until the base case is reached. It also has **higher time requirements** because of function calls and returns overhead. \n",
    "#### Practice for Recursion\n",
    "<a href = \"https://www.geeksforgeeks.org/recursion-practice-problems-solutions/\"> Recursive Practice Problems</a>"
   ]
  },
  {
   "cell_type": "markdown",
   "metadata": {},
   "source": [
    "## Object v.s Class\n",
    "### Variable\n",
    "        list_1  = [\"apple\", \"banana\", \"peach\"]\n",
    "**list_1** is variable, **[\"apple\", \"banana\", \"peach\"]** is object. <br>\n",
    "**A python object**, almost everything in python is an object. Along with its properties and methods, obejct is created in the memory and the variable a refers to this object by holding its location in memory.<br>\n",
    "**A Class** is like an object constructor, or a \"blueprint\" for creating objects<br>\n",
    "In fact, you can actually retrieve the location of the list object in memory by inspecting x using the id() function.<br>\n",
    "When you update the element inside a list, it will update the element of memory, but the id won't change.<br>\n",
    "If you assign y = x, then y will have the same id() as x, which result in 2 references(x and y) to the same list object in the memory. Thus, when you change y[10], it's the same as change x[10]. That's why if you may want to use y = x.copy() to avoid change in x.\n",
    "<br>\n",
    "Mutability is more efficient when you know you will be frequently modifying an object. i.e. iterable object, appending performance, but immutability wins in easiness of debugging.<br>\n",
    "\n",
    "### Class\n",
    "Create a class with a property named x:\n",
    "\n",
    "    class MyClass:\n",
    "        x = 5\n",
    "Imaging Class as a **frame** of an object, which will help you list out everything you want to generate for that object, including properties, methods, operations. \n",
    "### Object\n",
    "Create a object with the class created above:\n",
    "\n",
    "    p1 = MyClass()\n",
    "    print(p1.x)\n",
    "    >>5\n",
    "1. __init__()  is a built-in function of class, which is always executed when the class is being initiated in order to **assign values to object properties(parameters)** or **other operations** that are necessary to do when the object is being created. You can also assign the default value to all properties.\n",
    "\n",
    "    class Person:\n",
    "        def __init__(self, name, age, location = 'US'):\n",
    "            self.name = name\n",
    "            self.age = age\n",
    "            self.location = location\n",
    "        def myfunc(self):\n",
    "            print(\"My name is {}, and I am {} years old.\".format(self.name, self.age))\n",
    "            \n",
    "    p1 = Person(\"John\", 36)\n",
    "    print(p1.name)\n",
    "    print(p1.age)\n",
    "    \n",
    "<font style = \"color:dark blue\">Imaging __init__(self, p1, p2..) as a initial framework of an object to **generate parameters** which need to be given by user when user call this object.</font><br> \n",
    "2. **methods**: Objects can also contain methods, which are functions belong to the object.\n",
    "Then inside class, we can also create object methods just as what we do to create a function, by passing **self** as the parameter. <br>\n",
    "3. **self** parameter is a reference to the current instance of the class, and is used to access variables that belong to the class. But id does not need to be named as self, you can call it whatever you want, but it has to be the **first** parameter of any function in the class:\n",
    "\n",
    "4. **modify object properties** by\n",
    "        p1.age = 40\n",
    "5. **Delete object properties** by\n",
    "        del p1.location\n",
    "   **Delete the entire object** by\n",
    "         del p1\n",
    "**Just recall the way you are using all ML functions in sklearn, like lightgbm(), is an object created with all properties(parameters) that can be passed and methods that can be called by user.**\n",
    "    \n",
    "    class lightgbm:\n",
    "        def __init__(boosting_type='gbdt', num_leaves=31, max_depth=-1, learning_rate=0.1, n_estimators=100, subsample_for_bin=200000, objective=None, class_weight=None, min_split_gain=0.0, min_child_weight=0.001, min_child_samples=20, subsample=1.0, subsample_freq=0, colsample_bytree=1.0, reg_alpha=0.0, reg_lambda=0.0, random_state=None, n_jobs=-1, silent=True, importance_type='split', **kwargs)\n",
    "**Method**\n",
    "\n",
    "        def fit((X, y, sample_weight=None, init_score=None, eval_set=None, eval_names=None, eval_sample_weight=None, eval_class_weight=None, eval_init_score=None, eval_metric=None, early_stopping_rounds=None, verbose=True, feature_name='auto', categorical_feature='auto', callbacks=None): \n",
    "            ...\n",
    "        def get_params(self,...) :\n",
    "            ...\n",
    "        def predict(X, raw_score=False, num_iteration=None, pred_leaf=False, pred_contrib=False, **kwargs): \n",
    "            ...\n",
    "        def predict_proba(X, raw_score=False, num_iteration=None, pred_leaf=False, pred_contrib=False, **kwargs):\n",
    "            ...\n",
    "**Attributes**\n",
    "       \n",
    "       def best_iterations_(self):\n",
    "           ...\n",
    "       def best_score_(self):\n",
    "           ...\n",
    "       def feature_importances_(self):\n",
    "           ...\n",
    "        \n",
    "Then you can use this objects by:\n",
    "\n",
    "    lgb_model = lightgbm(parameters)\n",
    "    lgb_model.fit(...)\n",
    "    lgb_model.predict(...)\n",
    "    lgh_model.feature_importances(...)"
   ]
  },
  {
   "cell_type": "code",
   "execution_count": 111,
   "metadata": {
    "ExecuteTime": {
     "end_time": "2019-09-17T22:00:32.382470Z",
     "start_time": "2019-09-17T22:00:32.367470Z"
    }
   },
   "outputs": [
    {
     "name": "stdout",
     "output_type": "stream",
     "text": [
      "My name is John, and I am 36 years old.\n",
      "I currently live in US\n",
      "John\n",
      "36\n"
     ]
    }
   ],
   "source": [
    "    class Person:\n",
    "        def __init__(self, name, age, location):\n",
    "            self.name = name\n",
    "            self.age = age\n",
    "            self.location = location\n",
    "        def myfunc1(self):\n",
    "            print(\"My name is {}, and I am {} years old.\".format(self.name, self.age))\n",
    "        def myfun2(abc):\n",
    "            print(\"I currently live in {}\".format(abc.location))\n",
    "    p1 = Person(\"John\", 36, \"US\")\n",
    "    p1.myfunc1()\n",
    "    p1.myfun2()\n",
    "    print(p1.name)\n",
    "    print(p1.age)"
   ]
  },
  {
   "cell_type": "markdown",
   "metadata": {},
   "source": [
    "### Inheritance\n",
    "Inheritance allows us to define a class that inherits all the methods and properties from another class.\n",
    "- **Parent class** is the class being inherited from, also called base class\n",
    "- **Child class** is the class that inherits from another class, also called derived class.\n",
    "**Create a Child Class** by sending the parent class as a parameter when creating the child class:\n",
    "\n",
    "    class Student(Person):\n",
    "        pass\n",
    "**pass** is used when you do not want to add or change other properties or methods to the class. But often we want to modify it so it won't literally be the same as parent. So instead of using **pass**, use __init__() to create the child's own object parameter frame, which is different from the parent's.\n",
    "   \n",
    "    class Student(Person):\n",
    "        def __init__(self, f_name, l_name):\n",
    "            self.f_name = f_name\n",
    "            self.l_name = l_name\n",
    "    #This will remove all parameters in parent object. To keep the inheritance of the parent's __init__(), add a call to the parent's __init__() function:\n",
    "    class Student(Person):\n",
    "        def __init__(self, f_name, l_name):\n",
    "            Person.__init__(self, f_name, l_name)\n",
    "            ...\n",
    "**super()** function can also help to inherit the methods and properties from its parent.\n",
    "\n",
    "    class Student(Person):\n",
    "        def __init__(self, f_name, l_name):\n",
    "            super().__init__(f_name, l_name)\n",
    "            ...\n",
    "Then after inherit methods and properties from parent, now we can add new properties and methods for child object.\n",
    "\n",
    "    class Student(Person):\n",
    "        def __init__(self, fname, lname, major, grade):\n",
    "            Person.__init__(self, fname, lname)\n",
    "            self.major = major\n",
    "            self.grade = grade\n",
    "        \n",
    "        def myfun3(self):\n",
    "            print(\"Hi My name is {} {}, and I am studying {} from {}.\".format(self.fname, self.lname, self.major, self.grade))\n",
    "\n",
    "Notice if you use the same method name as in parent, parent one will be overridden. See following example.\n"
   ]
  },
  {
   "cell_type": "code",
   "execution_count": 121,
   "metadata": {
    "ExecuteTime": {
     "end_time": "2019-09-19T13:52:04.514470Z",
     "start_time": "2019-09-19T13:52:04.508470Z"
    }
   },
   "outputs": [
    {
     "name": "stdout",
     "output_type": "stream",
     "text": [
      "I currently live in Chicago\n",
      "Hi My name is Mike, and I am studying Art from 2018 in Chicago\n"
     ]
    }
   ],
   "source": [
    "class Student(Person):\n",
    "    def __init__(self, name, age, location, major, grade):\n",
    "        Person.__init__(self, name, age, location)\n",
    "        self.major = major\n",
    "        self.grade = grade\n",
    "    \n",
    "    def myfun3(self):\n",
    "        print(\"Hi My name is {}, and I am studying {} from {} in {}\".format(self.name, self.major, self.grade, self.location))\n",
    "        \n",
    "y1 = Student(\"Mike\", 18, \"Chicago\", \"Art\", 2018)\n",
    "y1.myfun2()  #original method from parent object\n",
    "y1.myfun3()  #method create for child object"
   ]
  },
  {
   "cell_type": "markdown",
   "metadata": {},
   "source": [
    "### Iterators\n",
    "An iterator is an object that contains a countable number of values, which can be iterated upon, and traverse(cross through or move backward/forward) through all the values. Iterator contains methods: __iter__() and __next__().\n",
    "\n",
    "#### Iterator v.s. Iterable\n",
    "<img src = \"iterator.png\" width = 700  height = 500><br>\n",
    "- **Iterator** is a specific class which has __next__() method, which means every time you ask for next value, an iterator know how to compute it. It is because it keeps information about the current state of the iterable it is working on. The benefits of Iterator are: **cleaner looking code that can work with infinite sequences without reallocate resources.**<br>\n",
    "Python built-in iterator protocols are: \n",
    "**List, tuple, dictionary, string and set**. They are iterable **containers** which you can get an iterator from by using **iter()** method:\n",
    "\n",
    "        tuple1 = (\"apple\", \"banana\", \"peach\")\n",
    "        t_iter = iter(tuple1)\n",
    "        print(next(t_iter))\n",
    "        print(next(t_iter))\n",
    "        print(next(t_iter))\n",
    "    \n",
    "        string1 = \"apple\"\n",
    "        s_iter = iter(string1)\n",
    "        for x in s_iter:\n",
    "            print(x)\n",
    "- **Iterables** is any object, not neccesarily a data structure that can return an iterator. Its main purpose is to return all of its elements. Iterables can represent finite, infinite source of data. Often the iterable classes will implement both __init__() and __next__() in the same class, with __init__() retuern itself, which makes the __iterable__ class both an iterable and its own interator.<br>\n",
    "\n",
    "See the difference between **Iterator** and **Iterable**:\n",
    "\n",
    "    a_set = {1,2,3,4}\n",
    "    b_iterator = iter(a_set)\n",
    "    \n",
    "    type(a_set)\n",
    "    type(b_iterator)\n",
    "The built-in function **iter()** takes an iterable object and return an iterator."
   ]
  },
  {
   "cell_type": "code",
   "execution_count": 130,
   "metadata": {
    "ExecuteTime": {
     "end_time": "2019-09-19T15:13:03.341470Z",
     "start_time": "2019-09-19T15:13:03.323470Z"
    }
   },
   "outputs": [
    {
     "name": "stdout",
     "output_type": "stream",
     "text": [
      "apple\n",
      "banana\n",
      "peach\n",
      "tuple has data type as <class 'tuple'>\n",
      "t_iter has data type as <class 'tuple_iterator'>\n",
      "a\n",
      "p\n",
      "p\n"
     ]
    }
   ],
   "source": [
    "    tuple1 = (\"apple\", \"banana\", \"peach\")\n",
    "    t_iter = iter(tuple1)\n",
    "    print(next(t_iter))\n",
    "    print(next(t_iter))\n",
    "    print(next(t_iter))\n",
    "    print(\"tuple has data type as {}\".format(type(tuple1)))\n",
    "    print(\"t_iter has data type as {}\".format(type(t_iter)))\n",
    "    string1 = \"apple\"\n",
    "    s_iter = iter(string1)\n",
    "    print(next(s_iter))\n",
    "    print(next(s_iter))\n",
    "    print(next(s_iter))"
   ]
  },
  {
   "cell_type": "markdown",
   "metadata": {},
   "source": [
    "#### Create an Iterator\n",
    "\n",
    "You can create you own iterator object/calss with __iter__() and __next__() method.<br>\n",
    "Create an iterator that returns numbers, starting with 1, and each sequence will increase by one (returning 1,2,3,4,5 etc.):\n",
    "<br>Adding StopIteration will limit the iteration time:\n",
    "\n",
    "    class increment_number:\n",
    "        def __iter__(self):\n",
    "            self.a = 1\n",
    "            return self\n",
    "        def __next__(self):\n",
    "            if self.a <=20:\n",
    "                x = self.a\n",
    "                self.a += 1\n",
    "                return x\n",
    "            else: raise StopIteration\n",
    "    myinclass = increment_number()\n",
    "    my_iter = iter(myinclass)\n",
    "    for x in my_iter:\n",
    "        print(x)"
   ]
  },
  {
   "cell_type": "code",
   "execution_count": 137,
   "metadata": {
    "ExecuteTime": {
     "end_time": "2019-09-19T16:53:36.160470Z",
     "start_time": "2019-09-19T16:53:36.138470Z"
    }
   },
   "outputs": [
    {
     "name": "stdout",
     "output_type": "stream",
     "text": [
      "Self Created iter obejct:\n",
      "1\n",
      "2\n",
      "3\n",
      "print all until the boundary:\n",
      "1 2 3 4 5 6 7 8 9 10 "
     ]
    }
   ],
   "source": [
    "#first example -- no parameters need, similar to fixed range(1, 10)\n",
    "class increment_number:\n",
    "        def __iter__(self):\n",
    "            self.a = 1\n",
    "            return self\n",
    "        def __next__(self):\n",
    "            if self.a <= 10:\n",
    "                x = self.a\n",
    "                self.a += 1\n",
    "                return x     #<- otherwise, there will be infinite loop\n",
    "            else: raise StopIteration\n",
    "myinclass = increment_number()\n",
    "my_iter = iter(myinclass)\n",
    "print(\"Self Created iter obejct:\")\n",
    "print(next(my_iter))\n",
    "print(next(my_iter))\n",
    "print(next(my_iter))\n",
    "print(\"print all until the boundary:\")\n",
    "for x in my_iter:\n",
    "    print(x, end = \" \")"
   ]
  },
  {
   "cell_type": "code",
   "execution_count": 138,
   "metadata": {
    "ExecuteTime": {
     "end_time": "2019-09-19T16:53:54.142470Z",
     "start_time": "2019-09-19T16:53:54.130470Z"
    }
   },
   "outputs": [
    {
     "name": "stdout",
     "output_type": "stream",
     "text": [
      "2 3 4 5 6 7 8 9 10 11 [1, 2, 3, 4, 5, 6, 7, 8, 9, 10]\n"
     ]
    }
   ],
   "source": [
    "#second example -- similar to range(low, high, step = 1)\n",
    "class series:\n",
    "    def __init__(self, low, high):\n",
    "        self.current = low\n",
    "        self.high = high\n",
    "        \n",
    "    def __iter__(self):\n",
    "        return self\n",
    "    \n",
    "    def __next__(self):\n",
    "        if self.current>self.high:\n",
    "            raise StopIteration\n",
    "        else:\n",
    "            self.current += 1\n",
    "            print(self.current, end = \" \")\n",
    "            return self.current - 1\n",
    "n_series = series(1,10)\n",
    "print(list(n_series))"
   ]
  },
  {
   "cell_type": "code",
   "execution_count": 166,
   "metadata": {
    "ExecuteTime": {
     "end_time": "2019-09-19T18:57:34.807470Z",
     "start_time": "2019-09-19T18:57:34.786470Z"
    }
   },
   "outputs": [
    {
     "name": "stdout",
     "output_type": "stream",
     "text": [
      "[9, 8, 7, 6, 5, 4, 3, 2, 1, 0]\n",
      "45\n"
     ]
    }
   ],
   "source": [
    "#third example -- similar to range(0, n, step = -1)\n",
    "class yrange:\n",
    "    def __init__(self, n):\n",
    "        self.i = 0\n",
    "        self.n = n\n",
    "    \n",
    "    def __iter__(self):\n",
    "        return self\n",
    "    def __next__(self):\n",
    "        if  self.n > 0:\n",
    "            x = self.n \n",
    "            self.n -= 1\n",
    "            return x-1\n",
    "        else:\n",
    "            raise StopIteration\n",
    "print(list(yrange(10)))\n",
    "print(sum(yrange(10)))"
   ]
  },
  {
   "cell_type": "markdown",
   "metadata": {},
   "source": [
    "#### Generators\n",
    "Generators simpify the creation step of iterators, which is a function that produces a sequence of results instead of a single value by using **yield** \n",
    "\n",
    "    def xrange_generator(n):\n",
    "        i = 0\n",
    "        while n > i:\n",
    "            yield i\n",
    "            i += 1\n",
    "**yield** basically replaces the **return** statement of a function but rather provides a result to its caller without destroying local variables. \n",
    "\n",
    "**Types of Generator**<br>\n",
    "- **Generator function** which is a function with keyword **yield** inside the body, like the above example.\n",
    "\n",
    "- **Generator Expression** is the generator equivalent to a list comprehension. i.e.<br>\n",
    "    \n",
    "        squares = (x*x for x in range(1,10))\n",
    "        print(type(squares))\n",
    "        print(list(squares))\n",
    "The most useful way of generator is to replace:\n",
    "\n",
    "        def function():\n",
    "            result = []\n",
    "            for .. in ...:\n",
    "                x = ...\n",
    "                result.append(x)\n",
    "            return result\n",
    "by:\n",
    "\n",
    "        def function():\n",
    "            for .. in ...:\n",
    "                yield\n",
    "<mark>**Notice the result of generator is generator type, using list(result) to display the result value**</mark>            "
   ]
  },
  {
   "cell_type": "code",
   "execution_count": 167,
   "metadata": {
    "ExecuteTime": {
     "end_time": "2019-09-19T19:04:51.517470Z",
     "start_time": "2019-09-19T19:04:51.499470Z"
    }
   },
   "outputs": [
    {
     "name": "stdout",
     "output_type": "stream",
     "text": [
      "[0, 1, 2, 3, 4]\n",
      "[4, 3, 2, 1, 0]\n",
      "<class 'generator'>\n",
      "[1, 8, 27, 64, 125, 216, 343, 512, 729]\n"
     ]
    }
   ],
   "source": [
    "    def xrange_generator(n):\n",
    "        i = 0\n",
    "        while n > i:\n",
    "            yield i\n",
    "            i += 1\n",
    "x = xrange_generator(5)\n",
    "print(list(x))\n",
    "\n",
    "    def yrange_generator(n):\n",
    "        i = n-1\n",
    "        while 0 <= i < n:\n",
    "            yield i\n",
    "            i -= 1\n",
    "y = yrange_generator(5)\n",
    "print(list(y))\n",
    "\n",
    "triple = (x*x*x for x in range(1,10))\n",
    "print(type(triple))\n",
    "print(list(triple))"
   ]
  },
  {
   "cell_type": "markdown",
   "metadata": {},
   "source": [
    "**Problem1.** Image we have a problem to find pythogorian triplets(which is x<sup>2</sup> + y<sup>2</sup> = z<sup>2</sup>) with numbers inside 100"
   ]
  },
  {
   "cell_type": "code",
   "execution_count": 186,
   "metadata": {
    "ExecuteTime": {
     "end_time": "2019-09-19T20:00:52.864470Z",
     "start_time": "2019-09-19T20:00:52.810470Z"
    }
   },
   "outputs": [
    {
     "name": "stdout",
     "output_type": "stream",
     "text": [
      "[(3, 4, 5), (6, 8, 10), (5, 12, 13), (9, 12, 15), (8, 15, 17), (12, 16, 20), (15, 20, 25), (7, 24, 25), (10, 24, 26), (20, 21, 29), (18, 24, 30), (16, 30, 34), (21, 28, 35), (12, 35, 37), (15, 36, 39), (24, 32, 40), (9, 40, 41), (27, 36, 45), (30, 40, 50), (14, 48, 50), (24, 45, 51), (20, 48, 52), (28, 45, 53), (33, 44, 55), (40, 42, 58), (36, 48, 60), (11, 60, 61), (39, 52, 65), (33, 56, 65), (25, 60, 65), (16, 63, 65), (32, 60, 68), (42, 56, 70), (48, 55, 73), (24, 70, 74), (45, 60, 75), (21, 72, 75), (30, 72, 78), (48, 64, 80), (18, 80, 82), (51, 68, 85), (40, 75, 85), (36, 77, 85), (13, 84, 85), (60, 63, 87), (39, 80, 89), (54, 72, 90), (35, 84, 91), (57, 76, 95), (65, 72, 97)]\n"
     ]
    }
   ],
   "source": [
    "def integers(n):\n",
    "    #return a sequence of integer\n",
    "    i = 1\n",
    "    while i < n:\n",
    "        yield i\n",
    "        i += 1\n",
    "#print(list(integers(10)) )       \n",
    "def sqaures(m):\n",
    "    #return square result\n",
    "    for i in integers(m):\n",
    "        yield i*i\n",
    "#print(list(sqaures(10)))\n",
    "\n",
    "p_triplets = ((x,y,z) for z in integers(100) for y in range(1, z) for x in range(1,y) if x*x +y*y == z*z)\n",
    "print(list(p_triplets))\n",
    "# print(take(10, p_triplets))"
   ]
  },
  {
   "cell_type": "markdown",
   "metadata": {},
   "source": [
    "**Itertools Module**<br>\n",
    "This is a library which has some common iteresting iteration functions.\n",
    "- **chain** - chains multiple iterators together\n",
    "    itertools.chain(iter([1,2,3]), iter([4,5,6]))\n",
    "- **izip** - iterable version of zip\n",
    "        for x, y in itertools.izip([\"a\", \"b\", \"c\"], [1,2,3]):\n",
    "            print(x, y)"
   ]
  },
  {
   "cell_type": "code",
   "execution_count": 191,
   "metadata": {
    "ExecuteTime": {
     "end_time": "2019-09-19T20:20:59.210470Z",
     "start_time": "2019-09-19T20:20:59.195470Z"
    }
   },
   "outputs": [
    {
     "name": "stdout",
     "output_type": "stream",
     "text": [
      "[1, 2, 3, 4, 5, 6]\n"
     ]
    },
    {
     "data": {
      "text/plain": [
       "[(0, 'a'), (1, 'b'), (2, 'c')]"
      ]
     },
     "execution_count": 191,
     "metadata": {},
     "output_type": "execute_result"
    }
   ],
   "source": [
    "import itertools\n",
    "print(list(itertools.chain(iter([1,2,3]), iter([4,5,6]))))\n",
    "list(enumerate([\"a\", \"b\", \"c\"]))"
   ]
  },
  {
   "cell_type": "markdown",
   "metadata": {},
   "source": [
    "## Scope\n",
    "A variable is only available from inside the region it is created, the region is called scope. \n",
    "- **Local Scope**: A variable is created inside a function and can only be used inside that function. The variable can be integer, list, dictionary and also can be another function.\n",
    "    def myfun():\n",
    "        i = 0\n",
    "        ...\n",
    "        def mysubfun(i,...):\n",
    "            ...\n",
    "  For function myfun(), i is **\"local\"** variables, can only be used inside myfun() and any functions inside. While for mysubfun(), i is **\"global\"** variables because it can be used inside and outside mysubfun()    \n",
    "- **Global Scope**: A variable created in the main code body and are available from within any scope, global and local.\n",
    "        x = 300\n",
    "        print(x)          #global\n",
    "        def myfun():\n",
    "            print(x)      #local\n",
    "        myfun()\n",
    "- **Naming Variables**: if there is two variables in both global and local scope, Python will treat them as two seperate variables.    \n",
    "        x = 300\n",
    "        print(x)          #global\n",
    "        >>300\n",
    "        def myfun():\n",
    "            x = 200\n",
    "            print(x)      #local\n",
    "        myfun()\n",
    "        >>200\n",
    "- **Global Keyword**: If you want to create a global variable, but are stuck in the local scope, you can do by mentioning **global** before that variable.\n",
    "        def myfun():\n",
    "            global x\n",
    "            x = 100\n",
    "        myfun()\n",
    "        print(x)\n",
    "        >>100\n",
    "  Or you want to change the value of global variables inside functions:\n",
    "          x = 300\n",
    "          print(x)\n",
    "          >>300\n",
    "          def myfun():\n",
    "              global x \n",
    "              x = 200\n",
    "          myfun()\n",
    "          print(x)\n",
    "          >>200"
   ]
  },
  {
   "cell_type": "markdown",
   "metadata": {},
   "source": [
    "## JSON\n",
    "JSON - JavaScript Object Notation is a \"lightweight data-interchange format which uses human-readable text to transmit data objects consisting of attribute-value paires and array data types. Which looks like Python Dictionary with **key -> value** mapping. \n",
    "\n",
    "Although they look similar, but JSON is a *serialization format* to representing structured data in the form of a textual string, which is better for sharing/transferring/saving to disk/file and retrieve. Dictionary is a *data structure* to store data in the memory that provides certain abilities such as rapid lookup and enumeration.\n",
    "\n",
    "- Serialize means convert to a file on disk - i.e. dump a variable(data object, list or dictionary, etc) to disk from an application. Deserialize is the reverse process which read a file into an application.<br>\n",
    "  A Javascript obejct, python dictionary, perl hash or associative arrays are mostly the same concept.\n",
    "\n",
    "\n",
    "\n",
    "### JSON to Python\n",
    "Python has a built-in module called **json** which can be used to work with JSON data.<br>\n",
    "You can serialize a dictionary as a JSON string by **json.dumps** and parse it by **json.loads**.\n",
    "- JSON to Python\n",
    "        import json\n",
    "        j_example = '{\"name\": \"John\",\"age\": 30,\"location\": \"Chicago\"}'\n",
    "        j_parse = json.loads(j_example)\n",
    "        print(j_parse[\"age\"])\n",
    "        >>30\n",
    "- Python to JSON\n",
    "        p_example = {\"name\": \"John\",\n",
    "                     \"age\": 30,\n",
    "                     \"location\": \"Chicago\"\n",
    "                     }\n",
    "        p_load = json.dumps(p_example)\n",
    "        print(p_load)\n",
    "        >>{\"name\": \"John\", \"age\": 30, \"city\": \"New York\"}\n",
    "  Almost all Python Objects can be converted into JSON strings by **json.dumps()**. The following example is a python object contains all python types."
   ]
  },
  {
   "cell_type": "code",
   "execution_count": 254,
   "metadata": {
    "ExecuteTime": {
     "end_time": "2019-09-20T15:31:52.128470Z",
     "start_time": "2019-09-20T15:31:52.124470Z"
    }
   },
   "outputs": [
    {
     "name": "stdout",
     "output_type": "stream",
     "text": [
      "{\"name\": \"John\", \"age\": 30, \"married\": true, \"divorced\": false, \"children\": [\"Ann\", \"Billy\"], \"pets\": null, \"cars\": [{\"model\": \"BMW 230\", \"mpg\": 27.5}, {\"model\": \"Ford Edge\", \"mpg\": 24.1}]}\n"
     ]
    }
   ],
   "source": [
    "import json\n",
    "x = {\n",
    "  \"name\": \"John\",\n",
    "  \"age\": 30,\n",
    "  \"married\": True,\n",
    "  \"divorced\": False,\n",
    "  \"children\": (\"Ann\",\"Billy\"),\n",
    "  \"pets\": None,\n",
    "  \"cars\": [\n",
    "    {\"model\": \"BMW 230\", \"mpg\": 27.5},\n",
    "    {\"model\": \"Ford Edge\", \"mpg\": 24.1}\n",
    "  ]\n",
    "}\n",
    "\n",
    "print(json.dumps(x))"
   ]
  },
  {
   "cell_type": "markdown",
   "metadata": {},
   "source": [
    "**Format the result**<br>\n",
    "After convert python objects to JSON, it's time to add some indentations and line breaks for easy-read. <br>\n",
    "**json.dumps()** method has parameters: \n",
    "- indent: \n",
    "    json.dumps(x, indent=4)\n",
    "- seperators:\n",
    "    json.dumps(x, indent=4, separators=(\". \", \" = \"))\n",
    "- Order the results:\n",
    "    json.dumps(x, indent=4, sort_keys=True)"
   ]
  },
  {
   "cell_type": "code",
   "execution_count": 259,
   "metadata": {
    "ExecuteTime": {
     "end_time": "2019-09-20T15:49:23.388470Z",
     "start_time": "2019-09-20T15:49:23.381470Z"
    }
   },
   "outputs": [
    {
     "data": {
      "text/plain": [
       "'{\"age\" = 30; \"cars\" = [{\"model\" = \"BMW 230\"; \"mpg\" = 27.5}; {\"model\" = \"Ford Edge\"; \"mpg\" = 24.1}]; \"children\" = [\"Ann\"; \"Billy\"]; \"divorced\" = false; \"married\" = true; \"name\" = \"John\"; \"pets\" = null}'"
      ]
     },
     "execution_count": 259,
     "metadata": {},
     "output_type": "execute_result"
    }
   ],
   "source": [
    "json.dumps(x, separators=(\"; \", \" = \"), sort_keys=True)"
   ]
  },
  {
   "cell_type": "markdown",
   "metadata": {},
   "source": [
    "### Pandas\n",
    "Using Pandas, it's also easy to read JSON file and convert it to dataframe.\n",
    "\n",
    "    import pandas as pd\n",
    "    raw_data = pd.read_json(path, lines = True, orient = 'columns')  #this will open the top1 {}\n",
    "Below is a tutorial with dataset downloadable <a href = \"https://www.kaggle.com/roamresearch/prescriptionbasedprediction#roam_prescription_based_prediction.jsonl\">here</a>"
   ]
  },
  {
   "cell_type": "code",
   "execution_count": null,
   "metadata": {},
   "outputs": [],
   "source": []
  }
 ],
 "metadata": {
  "kernelspec": {
   "display_name": "Python 3",
   "language": "python",
   "name": "python3"
  },
  "language_info": {
   "codemirror_mode": {
    "name": "ipython",
    "version": 3
   },
   "file_extension": ".py",
   "mimetype": "text/x-python",
   "name": "python",
   "nbconvert_exporter": "python",
   "pygments_lexer": "ipython3",
   "version": "3.6.5"
  },
  "toc": {
   "base_numbering": 1,
   "nav_menu": {},
   "number_sections": true,
   "sideBar": true,
   "skip_h1_title": false,
   "title_cell": "Table of Contents",
   "title_sidebar": "Contents",
   "toc_cell": false,
   "toc_position": {
    "height": "calc(100% - 180px)",
    "left": "10px",
    "top": "150px",
    "width": "336px"
   },
   "toc_section_display": true,
   "toc_window_display": true
  },
  "varInspector": {
   "cols": {
    "lenName": 16,
    "lenType": 16,
    "lenVar": 40
   },
   "kernels_config": {
    "python": {
     "delete_cmd_postfix": "",
     "delete_cmd_prefix": "del ",
     "library": "var_list.py",
     "varRefreshCmd": "print(var_dic_list())"
    },
    "r": {
     "delete_cmd_postfix": ") ",
     "delete_cmd_prefix": "rm(",
     "library": "var_list.r",
     "varRefreshCmd": "cat(var_dic_list()) "
    }
   },
   "types_to_exclude": [
    "module",
    "function",
    "builtin_function_or_method",
    "instance",
    "_Feature"
   ],
   "window_display": false
  }
 },
 "nbformat": 4,
 "nbformat_minor": 2
}
