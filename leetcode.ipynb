{
 "cells": [
  {
   "cell_type": "code",
   "execution_count": 2,
   "metadata": {},
   "outputs": [
    {
     "name": "stdout",
     "output_type": "stream",
     "text": [
      "2\n"
     ]
    }
   ],
   "source": [
    "#Binary search\n",
    "def bin_search(data_set, val):\n",
    "    low_pos = 0\n",
    "    high_pos = len(data_set) -1\n",
    "    while low_pos <= high_pos:\n",
    "        mid = (low_pos + high_pos)//2\n",
    "        if data_set[mid] == val:  #if the middle one is what we want\n",
    "            return mid\n",
    "        elif data_set[mid] < val: #if value of middle element<val, search the right half\n",
    "            low_pos = mid + 1\n",
    "        else:\n",
    "            high_pos = mid - 1\n",
    "    return\n",
    "ret = bin_search(list(range(1,10)),3)\n",
    "print(ret)"
   ]
  },
  {
   "cell_type": "code",
   "execution_count": 1,
   "metadata": {
    "collapsed": true
   },
   "outputs": [],
   "source": [
    "#tree visualization demo\n",
    "class TreeNode:\n",
    "    def __init__(self, val, left = None, right = None):\n",
    "        self.val = val\n",
    "        self.left = left\n",
    "        self.right = right\n",
    "    def __repr__(self):\n",
    "        return \"TreeNode({})\".format(self.val)\n",
    "    \n",
    "def deserialize(string):\n",
    "    if string ==\"{}\":\n",
    "        return None\n",
    "    nodes = [None if val == \"null\" else TreeNode(int(val)) \n",
    "             for val in string.strip(\"[]{}\").split(\",\")]\n",
    "    kids = nodes[::-1]\n",
    "    root = kids.pop()\n",
    "    for node in nodes:\n",
    "        if node:\n",
    "            if kids:\n",
    "                node.left = kids.pop()\n",
    "            if kids:\n",
    "                node.right = kids.pop()\n",
    "    return root\n",
    "\n",
    "def drawtree(root):\n",
    "    def height(root):\n",
    "        return 1 + max(height(root.left), height(root.right)) if root else -1\n",
    "    def jumpto(x,y):\n",
    "        t.penup()\n",
    "        t.goto(x,y)\n",
    "        t.pendown()\n",
    "    def draw(node, x, y, dx):\n",
    "        if node:\n",
    "            t.goto(x,y)\n",
    "            jumpto(x,y-20)\n",
    "            t.write(node.val, align='center', font=('Arial', 12, 'normal'))\n",
    "            draw(node.left, x-dx, y-60, dx/2)\n",
    "            jumpto(x, y-20)\n",
    "            draw(node.right, x+dx, y-60, dx/2)\n",
    "    import turtle\n",
    "    t = turtle.Turtle() # call another picture\n",
    "    t.speed(0); turtle.delay(0)\n",
    "    h = height(root)\n",
    "    jumpto(0, 30*h)\n",
    "    draw(root, 0, 30*h, 40*h)\n",
    "    t.hideturtle()\n",
    "    turtle.mainloop()\n",
    "    \n",
    "if __name__ == '__main__':\n",
    "    #drawtree(deserialize('[1,2,3,null,null,4,null,null,5]'))\n",
    "    drawtree(deserialize('[2,1,3,0,7,9,1,2,null,1,0,null,null,8,8,null,null,null,null,7]'))\n",
    "        \n",
    "    "
   ]
  },
  {
   "cell_type": "code",
   "execution_count": 3,
   "metadata": {
    "collapsed": true
   },
   "outputs": [],
   "source": [
    "#leetcode 617: merge 2 BST\n",
    "\n",
    "class solution:\n",
    "    def mergeTrees(self, t1, t2):\n",
    "        #t1 is treenode of BST1\n",
    "        #t2 is treenode of BST2\n",
    "        if not t1 and not t2:\n",
    "            return None\n",
    "        #that is \"if (t1==None) and (t2==None)\", both trees are empty, return empty\n",
    "        #otherwise, return a tree with root value as t1.val+t2.val, \n",
    "        #except when tree is empty, set val = 0\n",
    "        ans = TreeNode((t1.val if t1 else 0) + (t2.val if t2 else 0))\n",
    "        #ans is like a pointer+function(TreeNode), the parent ans points to will create 2 children\n",
    "        #and ans will point to each child step by step\n",
    "        ans.left = self.mergeTrees(t1 and t1.left, t2 and t2.left)\n",
    "        ans.right = self.mergeTrees(t1 and t1.right, t2 and t2.right)     \n",
    "        #and here means \"+\"\n",
    "        #so it's like: key(treenode.left)=t1.left + t2.left  \n",
    "        return ans\n",
    "#method2\n",
    "class TreeNode(object):\n",
    "    def __init(self, x):\n",
    "        self.val = x\n",
    "        self.left = None\n",
    "        self.right = None\n",
    "#define the treenode\n",
    "    def mergeTree2(self, t1,t2):\n",
    "        # if t1 and t2 are not None(no node+value)\n",
    "        if t1 and t2:\n",
    "            root = TreeNode(t1.val+t2.val) \n",
    "            #set the root value as root1+root2, whether t1=0 or t2=0 will be discuss laer\n",
    "            root.left = self.mergeTrees2(t1.left, t2.left)\n",
    "            root.right = self.mergeTree2(t1.right, t2.right)\n",
    "            return root\n",
    "        else:#here set the result as t1=0 or t2=0\n",
    "            return t1 or t2      \n",
    "           "
   ]
  },
  {
   "cell_type": "code",
   "execution_count": 44,
   "metadata": {},
   "outputs": [
    {
     "name": "stdout",
     "output_type": "stream",
     "text": [
      "2\n",
      "4\n",
      "8\n"
     ]
    },
    {
     "data": {
      "text/plain": [
       "0"
      ]
     },
     "execution_count": 44,
     "metadata": {},
     "output_type": "execute_result"
    }
   ],
   "source": [
    "#476. Number Complement\n",
    "#Given a positive integer, output its complement number: \n",
    "#return its binary representation, then flip the bits (backwards)\n",
    "#num -> binary representation of num -> complement -> tenary representation\n",
    "#convert tenary to binary: (e.x. 5 = 101, complement(101) = 010, ten(010)=2)\n",
    "#shift_right = 0b1100\n",
    "#tenary->binary: print(bin(101))  :5 \n",
    "class solution(object):\n",
    "    def findComplement(self, num):\n",
    "        i = 1\n",
    "        while i <= num:\n",
    "            i = i << 1\n",
    "        #when i <=num, autoly convert into bin, thenmove bin(i) left 1, \n",
    "        #just like go through i=1,2,4,8,..until get binary of (1..1) which has the same length of bin(num).\n",
    "        return (i-1)^num\n",
    "    \n",
    "solution().findComplement(7)"
   ]
  },
  {
   "cell_type": "code",
   "execution_count": 49,
   "metadata": {},
   "outputs": [
    {
     "name": "stdout",
     "output_type": "stream",
     "text": [
      "0b11\n",
      "4\n",
      "1\n",
      "3\n",
      "4\n",
      "20 31 0b1011 11 51\n"
     ]
    }
   ],
   "source": [
    "#learn the binary/tenary and their operation\n",
    "shift_right = 0b1100\n",
    "shift_left = 0b1\n",
    "#move pointer right/left\n",
    "shift_right = shift_right >>2\n",
    "# 0b1100 >>2 == 0b0011  : 12>>2 == 3\n",
    "shift_left = shift_left <<2\n",
    "#0b1<<2 == 0b100        :1 <<2 == 4\n",
    "print(bin(shift_right)) #bin(tenary/binary) == binary     \n",
    "print(shift_left)  #0b turn binary to tenary\n",
    "#when use <</>>/^, ten will autoly convert to binary, then convert back as output\n",
    "i = 1\n",
    "i= i<<1  #autoly convert i to 0b1<<2==0b10\n",
    "print(i-1)  #0b10=2, 10-1 = 1 0b1 =1\n",
    "print((i-1)^i) #i-1: directly 0b1^0b10 == 0b0011 =3\n",
    "print((i-1)^5) # 1^5 = 0b1 ^0b101 = 0b100 = 4\n",
    "#(11..1)^(binary_x) ==complement(binary_x), len(1..1)=len(binary)\n",
    "#要求binary_x的补充，就异或和它长度相同的111..11， \n",
    "print(0b10100, 0b11111,bin(0b11111^0b10100),0b11111^0b10100,0b10100 + 0b11111)  \n"
   ]
  },
  {
   "cell_type": "code",
   "execution_count": null,
   "metadata": {
    "collapsed": true
   },
   "outputs": [],
   "source": [
    "#669.Trim a binary search tree\n",
    "#give a BST and its lowest(leave), highest(root) boundaries L,R(R>=L), trim the tree so that all the elements\n",
    "#lies in[L,R], the root maybe changed, so return the new root for the trimed tree\n",
    "#trim is like: only return a tree with a branch\n",
    "class TreeNode:\n",
    "    def __init__(self, x):\n",
    "        self.val = x\n",
    "        self.left = None\n",
    "        self.right = None\n",
    "    #don't know how to show the array    \n",
    "    def deserialize(string):\n",
    "    if string ==\"{}\":\n",
    "        return None\n",
    "    nodes = [None if val == \"null\" else TreeNode(int(val)) \n",
    "             for val in string.strip(\"[]{}\").split(\",\")]\n",
    "    kids = nodes[::-1]\n",
    "    root = kids.pop()\n",
    "    for node in nodes:\n",
    "        if node:\n",
    "            if kids:\n",
    "                node.left = kids.pop()\n",
    "            if kids:\n",
    "                node.right = kids.pop()\n",
    "                \n",
    "class solution:\n",
    "    def trimBST(self, root, L,R):\n",
    "        #root: TreeNode, L, R = int,\n",
    "        def trimnode(node):    #for each node\n",
    "            if not node:       #if node is empty\n",
    "                return None    #return null\n",
    "            if node.val < L:   #if node_value less than the lowest bound, trim it, and go its right side to do the trim again\n",
    "                return trimnode(node.right)\n",
    "            elif node.val > R: #if node_value larger than highest bound, trim it, and go its left side to do trim again\n",
    "                return trimnode(node.left)\n",
    "            else:              #if node_value = L/R, go on trim left/right child\n",
    "                node.right = trim(node.right)\n",
    "                node.left = trim(node.left)\n",
    "            return node\n",
    "        return trimnode(root)\n",
    "tree1 = [1,0,2]\n",
    "tree = deserialize('[2,1,3,0,7,9,1,2,null,1,0,null,null,8,8,null,null,null,null,7]')\n",
    "solution().trimBST(tree1, 1, 2)    \n",
    "                \n",
    "\n",
    "            \n",
    "        "
   ]
  },
  {
   "cell_type": "code",
   "execution_count": 1,
   "metadata": {},
   "outputs": [
    {
     "name": "stdout",
     "output_type": "stream",
     "text": [
      "[]\n"
     ]
    },
    {
     "data": {
      "text/plain": [
       "['a', 5, 5]"
      ]
     },
     "execution_count": 1,
     "metadata": {},
     "output_type": "execute_result"
    }
   ],
   "source": [
    "#some review of class\n",
    "class bag:\n",
    "    def __init__(self):\n",
    "        self.data = []\n",
    "    def add(self, x):\n",
    "        self.data.append(x)\n",
    "    def addtwice(self, x):\n",
    "        self.add(x)\n",
    "        self.add(x)\n",
    "        return self.data\n",
    "b = bag()\n",
    "print(bag().data)\n",
    "b.add(\"a\")\n",
    "b.addtwice(5)"
   ]
  },
  {
   "cell_type": "code",
   "execution_count": 23,
   "metadata": {},
   "outputs": [
    {
     "name": "stdout",
     "output_type": "stream",
     "text": [
      "[5, 7]\n",
      "[5, 7]\n"
     ]
    }
   ],
   "source": [
    "#leetcode 167 TWO SUM\n",
    "#give a sorted array, find two number that their sum is the target. return their index\n",
    "#method: search-compare\n",
    "#two pinter/binary search/dictionary/\n",
    "def twosum1(number, target): #number is the array\n",
    "    i,j = 0, len(number) -1\n",
    "    while i < j:\n",
    "        if number[i] + number[j] == target:\n",
    "            return [i+1,j+1]\n",
    "        elif number[i] + number[j] > target:\n",
    "            j = j-1\n",
    "        else:\n",
    "            i = i+1\n",
    "\n",
    "            \n",
    "#binary search\n",
    "#use binary search to find the largest one <=target, then use two pointer\n",
    "def twosum2(number, target):\n",
    "    for i in range(len(number)):\n",
    "        l,r = i+1, len(number)-1\n",
    "        tmp = target - number[i]\n",
    "        while l < r:\n",
    "            mid = l + (r-1)//2\n",
    "            if number[mid] == tmp:\n",
    "                return i+1, mid+1\n",
    "            elif number[mid]<tmp:\n",
    "                l = mid + 1\n",
    "            else:\n",
    "                r = mid - 1\n",
    "\n",
    "#dictionary\n",
    "def twosum3(number, target):\n",
    "    dic = {}\n",
    "    for i,var in enumerate(number):\n",
    "        if target - var in dic:\n",
    "            return [dic[target-var]+1, i+1]\n",
    "        dic[var]=i\n",
    "#enumerate() >>i, A[i], from index 0 as its first, so when return its position, add 1\n",
    "#dictionary[var]=i\n",
    "#dictionary[i]=var\n",
    "        \n",
    "a=[2,3,4,5,10,17,28,39]            \n",
    "print(twosum1(a, 38)) \n",
    "\n",
    "print(twosum3(a, 38))            \n",
    "    \n",
    "        \n",
    "\n",
    "\n",
    "\n"
   ]
  },
  {
   "cell_type": "code",
   "execution_count": 21,
   "metadata": {},
   "outputs": [
    {
     "ename": "KeyError",
     "evalue": "'Apple'",
     "output_type": "error",
     "traceback": [
      "\u001b[1;31m---------------------------------------------------------------------------\u001b[0m",
      "\u001b[1;31mKeyError\u001b[0m                                  Traceback (most recent call last)",
      "\u001b[1;32m<ipython-input-21-7200b9b29d3f>\u001b[0m in \u001b[0;36m<module>\u001b[1;34m()\u001b[0m\n\u001b[0;32m      3\u001b[0m \u001b[1;31m#dic.keys()\u001b[0m\u001b[1;33m\u001b[0m\u001b[1;33m\u001b[0m\u001b[0m\n\u001b[0;32m      4\u001b[0m \u001b[1;31m#dic[\"name\"]\u001b[0m\u001b[1;33m\u001b[0m\u001b[1;33m\u001b[0m\u001b[0m\n\u001b[1;32m----> 5\u001b[1;33m \u001b[0mdic\u001b[0m\u001b[1;33m[\u001b[0m\u001b[1;34m\"Apple\"\u001b[0m\u001b[1;33m]\u001b[0m\u001b[1;33m\u001b[0m\u001b[0m\n\u001b[0m\u001b[0;32m      6\u001b[0m \u001b[1;31m#dic.items()\u001b[0m\u001b[1;33m\u001b[0m\u001b[1;33m\u001b[0m\u001b[0m\n",
      "\u001b[1;31mKeyError\u001b[0m: 'Apple'"
     ]
    }
   ],
   "source": [
    "dic={\"name\":\"Apple\", \"age\":\"16\", \"gender\": \"male\"}\n",
    "#dic.values()\n",
    "#dic.keys()\n",
    "#dic[\"name\"]\n",
    "#dic.items()"
   ]
  },
  {
   "cell_type": "code",
   "execution_count": 21,
   "metadata": {},
   "outputs": [
    {
     "name": "stdout",
     "output_type": "stream",
     "text": [
      "False\n",
      "False\n",
      "4\n",
      "False\n"
     ]
    }
   ],
   "source": [
    "#292 Nim Game: a heap of stone, you and your friend each time remove 1~3 stones, the one remove last stone win\n",
    "#you go first, give n stone, return whether you can win or not\n",
    "\n",
    "#Only leave 4 for your friend at the last round, you will win\n",
    "\n",
    "def win(n):\n",
    "    return bool(n%4 != 0)\n",
    "print(win(100))\n",
    "#if you have 1,2,3 to choose at your last turn, you win\n",
    "def win3(n):\n",
    "    return bool(n&3)\n",
    "print(win3(100))\n",
    "print(100&5)\n",
    "def win2(n):\n",
    "    if n <=0:\n",
    "        return False\n",
    "    if n==1 or n==2 or n==3:\n",
    "        return True\n",
    "    if win(n-1) and win(n-2) and win(n-3):\n",
    "        return False\n",
    "    return True\n",
    "print(win2(100))\n",
    "\n"
   ]
  },
  {
   "cell_type": "code",
   "execution_count": null,
   "metadata": {
    "collapsed": true
   },
   "outputs": [],
   "source": []
  },
  {
   "cell_type": "code",
   "execution_count": null,
   "metadata": {
    "collapsed": true
   },
   "outputs": [],
   "source": []
  }
 ],
 "metadata": {
  "kernelspec": {
   "display_name": "Python 3",
   "language": "python",
   "name": "python3"
  },
  "language_info": {
   "codemirror_mode": {
    "name": "ipython",
    "version": 3
   },
   "file_extension": ".py",
   "mimetype": "text/x-python",
   "name": "python",
   "nbconvert_exporter": "python",
   "pygments_lexer": "ipython3",
   "version": "3.6.1"
  }
 },
 "nbformat": 4,
 "nbformat_minor": 2
}
