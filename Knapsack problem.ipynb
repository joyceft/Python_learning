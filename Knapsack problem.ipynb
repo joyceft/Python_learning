{
 "cells": [
  {
   "cell_type": "code",
   "execution_count": 2,
   "metadata": {},
   "outputs": [
    {
     "ename": "TypeError",
     "evalue": "Knapsack() missing 1 required positional argument: 'i'",
     "output_type": "error",
     "traceback": [
      "\u001b[1;31m---------------------------------------------------------------------------\u001b[0m",
      "\u001b[1;31mTypeError\u001b[0m                                 Traceback (most recent call last)",
      "\u001b[1;32m<ipython-input-2-9e4b9ed25aa8>\u001b[0m in \u001b[0;36m<module>\u001b[1;34m()\u001b[0m\n\u001b[0;32m     20\u001b[0m \u001b[0mW\u001b[0m \u001b[1;33m=\u001b[0m \u001b[1;36m50\u001b[0m\u001b[1;33m\u001b[0m\u001b[0m\n\u001b[0;32m     21\u001b[0m \u001b[0mi\u001b[0m \u001b[1;33m=\u001b[0m \u001b[0mlen\u001b[0m\u001b[1;33m(\u001b[0m\u001b[0mval\u001b[0m\u001b[1;33m)\u001b[0m\u001b[1;33m\u001b[0m\u001b[0m\n\u001b[1;32m---> 22\u001b[1;33m \u001b[0mprint\u001b[0m\u001b[1;33m(\u001b[0m\u001b[0mKnapsack\u001b[0m\u001b[1;33m(\u001b[0m\u001b[0mwt\u001b[0m\u001b[1;33m,\u001b[0m \u001b[0mval\u001b[0m\u001b[1;33m,\u001b[0m \u001b[0mW\u001b[0m\u001b[1;33m,\u001b[0m \u001b[0mi\u001b[0m\u001b[1;33m)\u001b[0m\u001b[1;33m)\u001b[0m\u001b[1;33m\u001b[0m\u001b[0m\n\u001b[0m",
      "\u001b[1;32m<ipython-input-2-9e4b9ed25aa8>\u001b[0m in \u001b[0;36mKnapsack\u001b[1;34m(wt, val, W, i)\u001b[0m\n\u001b[0;32m     13\u001b[0m     \u001b[1;31m#2.ith is included\u001b[0m\u001b[1;33m\u001b[0m\u001b[1;33m\u001b[0m\u001b[0m\n\u001b[0;32m     14\u001b[0m     \u001b[1;32melse\u001b[0m\u001b[1;33m:\u001b[0m\u001b[1;33m\u001b[0m\u001b[0m\n\u001b[1;32m---> 15\u001b[1;33m         \u001b[1;32mreturn\u001b[0m \u001b[0mmax\u001b[0m\u001b[1;33m(\u001b[0m\u001b[0mval\u001b[0m\u001b[1;33m[\u001b[0m\u001b[0mi\u001b[0m\u001b[1;33m-\u001b[0m\u001b[1;36m1\u001b[0m\u001b[1;33m]\u001b[0m\u001b[1;33m+\u001b[0m\u001b[0mKnapsack\u001b[0m\u001b[1;33m(\u001b[0m\u001b[0mwt\u001b[0m\u001b[1;33m,\u001b[0m \u001b[0mval\u001b[0m\u001b[1;33m,\u001b[0m \u001b[0mW\u001b[0m\u001b[1;33m-\u001b[0m\u001b[0mwt\u001b[0m\u001b[1;33m[\u001b[0m\u001b[0mi\u001b[0m\u001b[1;33m-\u001b[0m\u001b[1;36m1\u001b[0m\u001b[1;33m]\u001b[0m\u001b[1;33m)\u001b[0m\u001b[1;33m,\u001b[0m \u001b[0mi\u001b[0m\u001b[1;33m-\u001b[0m\u001b[1;36m1\u001b[0m\u001b[1;33m)\u001b[0m\u001b[1;33m,\u001b[0m \u001b[0mKnapsack\u001b[0m\u001b[1;33m(\u001b[0m\u001b[0mwt\u001b[0m\u001b[1;33m,\u001b[0m \u001b[0mval\u001b[0m\u001b[1;33m,\u001b[0m \u001b[0mW\u001b[0m\u001b[1;33m,\u001b[0m \u001b[0mi\u001b[0m\u001b[1;33m)\u001b[0m\u001b[1;33m\u001b[0m\u001b[0m\n\u001b[0m\u001b[0;32m     16\u001b[0m \u001b[1;33m\u001b[0m\u001b[0m\n\u001b[0;32m     17\u001b[0m \u001b[1;31m#test\u001b[0m\u001b[1;33m\u001b[0m\u001b[1;33m\u001b[0m\u001b[0m\n",
      "\u001b[1;31mTypeError\u001b[0m: Knapsack() missing 1 required positional argument: 'i'"
     ]
    }
   ],
   "source": [
    "#A naive recursive implementation of 0-1 Knapsack Problem\n",
    "#Return the maximum value that canbe put in a knapsack problem\n",
    "#capacity=W, # of items in the optimal solution = i\n",
    "#O(N^2)\n",
    "#0-1 problem: either pick(=1) or not pick(=0)\n",
    "def Knapsack(wt, val, W, i):\n",
    "    #base case\n",
    "    if i == 0 or W == 0:#no capacity or no item\n",
    "        return 0\n",
    "    #if w(i) >W, then ith item can not be added to the optimal solution\n",
    "    if (wt[i-1]>W):\n",
    "        return knapsack(wt, val, W, i-1)\n",
    "    #return the maximum of 2 cases:\n",
    "    #1.ith is excluded(first i-1)\n",
    "    #2.ith is included\n",
    "    else:\n",
    "        return max(val[i-1]+Knapsack(wt, val, W-wt[i-1]), i-1), Knapsack(wt, val, W, i)\n",
    "    \n",
    "#test\n",
    "val=[60,100,120]\n",
    "wt = [10,20,30]\n",
    "W = 50\n",
    "i = len(val)\n",
    "print(Knapsack(wt, val, W, i))"
   ]
  },
  {
   "cell_type": "code",
   "execution_count": 3,
   "metadata": {},
   "outputs": [
    {
     "name": "stdout",
     "output_type": "stream",
     "text": [
      "220\n"
     ]
    }
   ],
   "source": [
    "#0-1 knapsack problem, O(nW),\n",
    "def Knapsack(wt, val, W,n):\n",
    "    K = [[0 for x in range(W+1)] for x in range(n+1)]\n",
    "    #build a table k[n-row][W-col]in bottom up manner\n",
    "    for i in range(n+1): #how many different items\n",
    "        for w in range(W+1): \n",
    "            if i == 0 or w ==0:\n",
    "                K[i][w] = 0  #if no item or no weight, \n",
    "            elif wt[i-1] <= w:\n",
    "                K[i][w] = max(val[i-1]+K[i-1][w-wt[i-1]], K[i-1][w])\n",
    "            #if w(+ith item)<W, compare value(add ith) and value(no ith)\n",
    "            else:\n",
    "                K[i][w] = K[i-1][w]\n",
    "            #if w(+ith item)>W>>not accept ith, the max is last maxvalue \n",
    "    return K[n][W]\n",
    "#test\n",
    "val = [60,100,120]\n",
    "wt = [10,20,30]\n",
    "W=50\n",
    "n=len(val)\n",
    "print(Knapsack(wt, val, W, n))"
   ]
  },
  {
   "cell_type": "code",
   "execution_count": 13,
   "metadata": {},
   "outputs": [
    {
     "name": "stdout",
     "output_type": "stream",
     "text": [
      "(102, [0, 1, 0, 0, 1, 3])\n"
     ]
    }
   ],
   "source": [
    "#for unbounded knapsack problem\n",
    "def unbounded_k(wt, val, W):\n",
    "    m = [0 for i in range(W+1)]\n",
    "    n = [ [ 0 for i in range(len(wt))] for i in range(W+1) ]\n",
    "    start=min(wt)\n",
    "    for i in range(start, W+1):\n",
    "            m[i] =m[i-1]\n",
    "            for k, valk in enumerate(val):\n",
    "                if wt[k] <= i and m[i]<m[i-wt[k]] +valk:\n",
    "                    m[i] = m[i-wt[k]]+valk\n",
    "                    n[i] = n[i - wt[k]].copy()\n",
    "                    n[i][k] += 1\n",
    "    return m[W], n[W]\n",
    "#test\n",
    "val = [1,8,10,10,19,25]\n",
    "wt = [1,2,3,4,5,6]\n",
    "W=25\n",
    "print(unbounded_k(wt,val,W))"
   ]
  },
  {
   "cell_type": "code",
   "execution_count": null,
   "metadata": {
    "collapsed": true
   },
   "outputs": [],
   "source": []
  },
  {
   "cell_type": "code",
   "execution_count": null,
   "metadata": {
    "collapsed": true
   },
   "outputs": [],
   "source": []
  }
 ],
 "metadata": {
  "kernelspec": {
   "display_name": "Python 3",
   "language": "python",
   "name": "python3"
  },
  "language_info": {
   "codemirror_mode": {
    "name": "ipython",
    "version": 3
   },
   "file_extension": ".py",
   "mimetype": "text/x-python",
   "name": "python",
   "nbconvert_exporter": "python",
   "pygments_lexer": "ipython3",
   "version": "3.6.1"
  }
 },
 "nbformat": 4,
 "nbformat_minor": 2
}
