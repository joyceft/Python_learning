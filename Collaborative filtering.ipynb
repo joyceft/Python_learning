{
 "cells": [
  {
   "cell_type": "code",
   "execution_count": 7,
   "metadata": {},
   "outputs": [],
   "source": [
    "from __future__ import division\n",
    "import numpy as np\n",
    "import scipy as sp\n",
    "class Item_base_C:\n",
    "    def __init__(self, X):\n",
    "        self.X = np.array(X)\n",
    "        print(\"The input data size is\", self.X, X.shape)\n",
    "        self.movie_user = {}\n",
    "        self.user_movie = {}\n",
    "        self.ave = np.mean(self.X[:, 2])\n",
    "        for i in range(self.X.shape[0]):\n",
    "            uid = self.X[i][0]\n",
    "            mid = self.X[i][1]\n",
    "            rat = self.X[i][2]\n",
    "            self.movie_user.setdefault(mid, {})\n",
    "            self.user_movie.setdefault(uid, {})\n",
    "            self.movie_user[mid][uid] = rat\n",
    "            self.user_movie[uid][mid] = rat\n",
    "        self.similarity = {}\n",
    "        pass\n",
    "    #similaity calculation\n",
    "    def sim_cal(self, m1, m2):\n",
    "        self.similarity.setdefault(m1, {})\n",
    "        self.similarity.setdefault(m2, {})\n",
    "        self.movie_user.setdefault(m1, {})\n",
    "        self.movie_user.setdefault(m2, {})\n",
    "        self.similarity[m1].setdefault(m2, -1)\n",
    "        self.similarity[m2].setdefault(m1, -1)\n",
    "        \n",
    "        if self.similarity[m1][m2] != -1:\n",
    "            return self.similarity[m1][m2]\n",
    "        si = {}\n",
    "        for user in self.movie_user[m1]:\n",
    "            if user in self.movie_user[m2]:\n",
    "                si[user] = 1\n",
    "        n = len(si)\n",
    "        if(n == 0):\n",
    "            self.similarity[m1][m2] = 1\n",
    "            self.similarity[m2][m1] = 1\n",
    "            return 1\n",
    "        s1 = np.array([self.movie_user[m1][u] for u in si])\n",
    "        s2 = np.array([self.movie_user[m2][u] for u in si])\n",
    "        sum1, sum2 = np.sum(s1), np.sum(s2)\n",
    "        sum1Sq, sum2Sq = np.sum(s1**2), np.sum(s2**2)\n",
    "        pSum = np.sum(s1*s2)\n",
    "        num = np.sum(s1*s2) - (np.sum(s1)*np.sum(s2)/n)\n",
    "        den = np.sqrt((np.sum(s1**2) - np.sum(s1)**2/n)*(np.sum(s2**2) - np.sum(s2)**2/n))\n",
    "        if den == 0:\n",
    "            self.similarity[m1][m2] = 0\n",
    "            self.similarity[m2][m1] = 0\n",
    "            return 0\n",
    "        self.similarity[m1][m2] = num/den\n",
    "        self.similarity[m2][m1] = num/den\n",
    "        return num/den\n",
    "    #predict the rates of users of movies\n",
    "    def pred(self, uid, mid):\n",
    "        sim_accumulate = 0.0\n",
    "        rat_acc = 0.0\n",
    "        for item in self.user_movie[uid]:\n",
    "            sim = self.sim_cal(item, mid)\n",
    "            if sim < 0: continue\n",
    "            print(sim, self.user_movie[uid][item], sim*self.user_movie[uid][item])\n",
    "            rat_acc += sim*self.user_movie[uid][item]\n",
    "            sim_accumulate += sim\n",
    "        print(rat_acc, sim_accumulate)\n",
    "        if sim_accumulate == 0: #no same user rate, return the avg rate of data\n",
    "            return self.ave\n",
    "        return rat_acc/sim_accumulate\n",
    "    def test(self, test_X):\n",
    "        test_X = np.array(test_X)\n",
    "        output = []\n",
    "        sums = 0\n",
    "        print(\"The test data size is\", test_X.shape)\n",
    "        for i in range(test.X.shape[0]):\n",
    "            pre = self.pred(test_X[i][0], test_X[i][1])\n",
    "            output.append(pre)\n",
    "            print(pre, test_X[i][2])\n",
    "            sums +=(pre - test_X[i][2]**2)\n",
    "        rmse = np.sqrt(sums/test_X.shape[0])\n",
    "        print(\"The rmse on the test data is\", rmse)\n",
    "        return output"
   ]
  },
  {
   "cell_type": "code",
   "execution_count": 6,
   "metadata": {},
   "outputs": [
    {
     "data": {
      "text/plain": [
       "_Feature((2, 2, 0, 'alpha', 2), (3, 0, 0, 'alpha', 0), 8192)"
      ]
     },
     "execution_count": 6,
     "metadata": {},
     "output_type": "execute_result"
    }
   ],
   "source": [
    "division\n"
   ]
  }
 ],
 "metadata": {
  "kernelspec": {
   "display_name": "Python 3",
   "language": "python",
   "name": "python3"
  },
  "language_info": {
   "codemirror_mode": {
    "name": "ipython",
    "version": 3
   },
   "file_extension": ".py",
   "mimetype": "text/x-python",
   "name": "python",
   "nbconvert_exporter": "python",
   "pygments_lexer": "ipython3",
   "version": "3.6.1"
  }
 },
 "nbformat": 4,
 "nbformat_minor": 2
}
