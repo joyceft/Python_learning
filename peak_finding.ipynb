{
 "cells": [
  {
   "cell_type": "code",
   "execution_count": 1,
   "metadata": {
    "collapsed": true
   },
   "outputs": [],
   "source": [
    "import trace\n",
    "#find the peak in 2D "
   ]
  },
  {
   "cell_type": "code",
   "execution_count": 2,
   "metadata": {
    "collapsed": true
   },
   "outputs": [],
   "source": [
    "class PeakProblem(object):\n",
    "    def __init__(self, array, bounds):\n",
    "        #a method for initilizing an instance of the Peakproblem class, take an\n",
    "        #array and an argument indicating which rows to include.\n",
    "        #O(1)\n",
    "        (startRow, startCol, numRow, numCol) = bounds\n",
    "        self.array = array\n",
    "        self.bounds = bounds\n",
    "        self. startRow = startRow\n",
    "        self.startCol = startCol\n",
    "        self.numRow = numRow\n",
    "        self.numCol = numCol\n",
    "    \n",
    "    def get(self, location):\n",
    "        #return the value of the given location\n",
    "        (r,c) = location #index of row, col\n",
    "        #O(1)\n",
    "        if not(0<=r and r< self.numRow):\n",
    "            return 0\n",
    "        if not(0 <= c and c < self.numCol):\n",
    "            return 0\n",
    "        #make sure the field you are looking is inside the matrix\n",
    "        return self.arrary[slef, startRow +r][self.startCol + c]\n",
    "    \n",
    "    def getBetterNeighbor(self, location, trace= None):\n",
    "        #if(r,c)has a better neighbor, return the neighbor, otherwise, return the (r,c)\n",
    "        #O(1)\n",
    "        (r,c) = location\n",
    "        best = location\n",
    "        #first compare the upper/left neighbor\n",
    "        if r-1>=0 and self.get((r-1, c)) > self.get(best):\n",
    "            best = (r-1,c)\n",
    "        if c-1>=0 and self.get((r,c-1)) > self.get(best):\n",
    "            best = (r,c-1)\n",
    "        #second compare the lower/right neihbor\n",
    "        if r + 1 <self.numRow and self.get((r+1,c)) > self.get(best):\n",
    "            best = (r+1,c)\n",
    "        if c +1 < self.numCol and self.get((r, c+1)) > self.get(best):\n",
    "            best = (r, c + 1)\n",
    "        if not trace is None: trace.getBetterNeighbor(location, best)\n",
    "            \n",
    "        return best\n",
    "    \n",
    "    def getMax(self, locations, trace= None):\n",
    "        #find the location in the current problem with the greatest value\n",
    "        #O(length(locations))\n",
    "        (bestLoc, bestVal) = (None, 0)\n",
    "        \n",
    "        for loc in locations:\n",
    "            if bestLoc is None or self.get(loc) > bestVal:\n",
    "                (bestLoc, bestVal) = (loc, self.get(loc))\n",
    "        if not trace is None: trace.getMax(locations, bestLoc)\n",
    "        return bestLoc\n",
    "    \n",
    "    def isPeak(self, location):\n",
    "        #return True is the current is peak\n",
    "        #O(1)\n",
    "        return(self.getBetterNeighbor(location) == location)\n",
    "    def getSubproblemContainig(self, boundList, location):\n",
    "        #return the subproblem containing the given location, pick the first element in the lias\n",
    "        #which satisfies that constraint, then constrain the subproblem\n",
    "        #O(len(boundlist))\n",
    "        (row, col) = location\n",
    "        for(sRow, sCol, nRow, nCol) in boundList:\n",
    "            if sRow <=row and row < sRow + nRow:\n",
    "                if sCol <= col and col < sCol + nCol:\n",
    "                    return self.getSubproblem((sRow, sCol, nRow, nCol))\n",
    "        return self\n",
    "    \n",
    "    def getLocationInself(self, problem, location):\n",
    "        #remaps the location in the given problem to the same location in the problem that\n",
    "        #this function is being called from\n",
    "        #O(1)\n",
    "        (row, col) = location\n",
    "        newRow = row + problem.startRow - self.startRow\n",
    "        newCol = col + problem.startCol - self.startCol\n",
    "        return(newRow, newCol)\n",
    "    \n",
    "def getDimensions(array):\n",
    "    #first row is simply # of items in the list, second is the len of shortest row.\n",
    "    #this ensure that any location(row, col) that is < the resulting bounds, and map a valid location\n",
    "    rows = len(array)\n",
    "    cols = 0\n",
    "    for row in array:\n",
    "        if len(row) > cols:\n",
    "            cols = len(row)\n",
    "    return(rows, cols)\n",
    "\n",
    "def createproblem(array):\n",
    "    #O(len(array))\n",
    "    (rows, cols) = getDimensions(array)\n",
    "    return PeakProblem(array, (0,0,rows, cols))\n",
    "    "
   ]
  },
  {
   "cell_type": "code",
   "execution_count": null,
   "metadata": {
    "collapsed": true
   },
   "outputs": [],
   "source": []
  }
 ],
 "metadata": {
  "kernelspec": {
   "display_name": "Python 3",
   "language": "python",
   "name": "python3"
  },
  "language_info": {
   "codemirror_mode": {
    "name": "ipython",
    "version": 3
   },
   "file_extension": ".py",
   "mimetype": "text/x-python",
   "name": "python",
   "nbconvert_exporter": "python",
   "pygments_lexer": "ipython3",
   "version": "3.6.1"
  }
 },
 "nbformat": 4,
 "nbformat_minor": 2
}
